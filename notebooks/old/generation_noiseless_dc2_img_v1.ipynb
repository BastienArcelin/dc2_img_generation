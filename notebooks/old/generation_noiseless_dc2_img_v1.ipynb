{
 "cells": [
  {
   "cell_type": "code",
   "execution_count": 1,
   "metadata": {},
   "outputs": [
    {
     "name": "stdout",
     "output_type": "stream",
     "text": [
      "WARNING:tensorflow:From /pbs/home/b/barcelin/pbs_throng_link/lsst_stack/conda/miniconda3-py37_4.8.2/envs/lsst-scipipe-1a1d771/lib/python3.7/site-packages/tensorflow_core/python/compat/v2_compat.py:88: disable_resource_variables (from tensorflow.python.ops.variable_scope) is deprecated and will be removed in a future version.\n",
      "Instructions for updating:\n",
      "non-resource variables are not supported in the long term\n"
     ]
    }
   ],
   "source": [
    "import sys\n",
    "import os\n",
    "import numpy as np\n",
    "import matplotlib.pyplot as plt\n",
    "import matplotlib\n",
    "import pandas as pd\n",
    "import seaborn as sns\n",
    "from importlib import reload\n",
    "import warnings\n",
    "import healpy as hp\n",
    "import collections\n",
    "from collections import namedtuple\n",
    "\n",
    "sys.path.insert(0,'../../scripts/tools_for_VAE/')\n",
    "from tools_for_VAE import cutout_img_dc2\n",
    "from tools_for_VAE import plot\n",
    "\n",
    "import galsim\n",
    "\n",
    "%matplotlib inline\n",
    "%config InlineBackend.figure_format='retina'"
   ]
  },
  {
   "cell_type": "code",
   "execution_count": 2,
   "metadata": {},
   "outputs": [],
   "source": [
    "from astropy.io import fits\n",
    "from astropy.coordinates import SkyCoord\n",
    "from astropy.visualization import ZScaleInterval\n",
    "from astropy.table import Table"
   ]
  },
  {
   "cell_type": "code",
   "execution_count": 3,
   "metadata": {},
   "outputs": [],
   "source": [
    "import lsst.afw.display as afwDisplay\n",
    "import lsst.afw.display.rgb as rgb\n",
    "\n",
    "import FoFCatalogMatching\n",
    "import GCRCatalogs\n",
    "GCRCatalogs.set_root_dir_by_site('in2p3')\n",
    "import fitsio\n",
    "\n",
    "import lsst.afw.geom as afw_geom\n",
    "import lsst.afw.table as afw_table\n",
    "import lsst.daf.persistence as dp\n",
    "import lsst.daf.persistence as dafPersist\n",
    "import lsst.afw.geom as afwGeom\n",
    "import lsst.afw.coord as afwCoord\n",
    "import lsst.afw.image as afwImage\n",
    "import lsst.afw.display as afwDisplay\n",
    "import lsst.geom"
   ]
  },
  {
   "cell_type": "markdown",
   "metadata": {},
   "source": [
    "## Import test data"
   ]
  },
  {
   "cell_type": "code",
   "execution_count": 4,
   "metadata": {},
   "outputs": [],
   "source": [
    "data_dir = '/pbs/home/b/barcelin/sps_link/data/dc2_test'\n",
    "test_data = pd.read_csv(data_dir+'/test_24.5_v2/img_data_2.csv')\n",
    "psf_img = np.load(data_dir+'/test_24.5_v2/psf_sample_2.npy', mmap_mode = 'c')\n",
    "gal_img = np.load(data_dir+'/test_24.5_v2/img_sample_2.npy', mmap_mode = 'c')"
   ]
  },
  {
   "cell_type": "code",
   "execution_count": 5,
   "metadata": {},
   "outputs": [
    {
     "data": {
      "text/plain": [
       "<bound method DataFrame.info of               id        e1        e2   shear_1   shear_2  redshift  \\\n",
       "0     6000542719  0.107939 -0.378144  0.003401  0.001616  0.555395   \n",
       "1     7002508926  0.030137  0.078186 -0.000434 -0.007706  1.035572   \n",
       "2     7003076680 -0.274697  0.108764  0.011749  0.005150  1.103071   \n",
       "3     7001184867 -0.187118  0.302167 -0.000108 -0.003375  0.760792   \n",
       "4     6001754782 -0.005709  0.004559  0.000341 -0.009107  0.915118   \n",
       "...          ...       ...       ...       ...       ...       ...   \n",
       "9995  6001717626  0.002835  0.018597 -0.004006 -0.010442  0.877400   \n",
       "9996  7000242038 -0.205442 -0.185545  0.000925 -0.006511  0.423894   \n",
       "9997  6003355673 -0.047292 -0.073065 -0.004399 -0.008524  1.186279   \n",
       "9998  7001019321  0.035125  0.022583  0.005510 -0.004774  0.708222   \n",
       "9999  7004778616 -0.002488 -0.019835  0.000217 -0.001776  1.427254   \n",
       "\n",
       "      redshift_true   blendedness       snr_r  convergence  e1_hsm_regauss  \\\n",
       "0          0.555024  0.000000e+00  143.526553     0.008880       -0.246948   \n",
       "1          1.034230  0.000000e+00   45.361976    -0.007799        0.459362   \n",
       "2          1.118202  1.726409e-04   43.881997    -0.003286        0.673337   \n",
       "3          0.755289  6.817342e-02   65.864587     0.012215        0.290753   \n",
       "4          0.907079  9.068794e-03   80.891898     0.001505        0.073406   \n",
       "...             ...           ...         ...          ...             ...   \n",
       "9995       0.876027  1.430456e-02  144.026622    -0.002082       -0.109633   \n",
       "9996       0.421018  1.079202e-02  772.828950     0.001022        0.376595   \n",
       "9997       1.181448  0.000000e+00   60.555276     0.011445        0.309432   \n",
       "9998       0.708390  6.854039e-08  300.088516    -0.006815       -0.037560   \n",
       "9999       1.428426  0.000000e+00   75.098925    -0.005123        0.375578   \n",
       "\n",
       "      e2_hsm_regauss  mag_r_meas  mag_r_true  \n",
       "0          -0.760238   22.148918   22.562442  \n",
       "1          -0.002106   24.458424   24.280912  \n",
       "2          -0.150243   24.370396   24.378010  \n",
       "3           0.462654   23.888204   23.026964  \n",
       "4          -0.032125   23.135792   23.167792  \n",
       "...              ...         ...         ...  \n",
       "9995        0.424028   22.820055   22.955489  \n",
       "9996       -0.347365   20.270482   20.132745  \n",
       "9997       -0.082588   23.819816   23.878790  \n",
       "9998        0.015362   21.486745   21.572792  \n",
       "9999       -0.249721   23.750978   23.681480  \n",
       "\n",
       "[10000 rows x 14 columns]>"
      ]
     },
     "execution_count": 5,
     "metadata": {},
     "output_type": "execute_result"
    }
   ],
   "source": [
    "test_data.info"
   ]
  },
  {
   "cell_type": "markdown",
   "metadata": {},
   "source": [
    "## Retrieve info from catalogs"
   ]
  },
  {
   "cell_type": "code",
   "execution_count": 6,
   "metadata": {},
   "outputs": [],
   "source": [
    "repo = '/sps/lssttest/dataproducts/desc/DC2/Run2.2i/v19.0.0-v1/rerun/run2.2i-coadd-wfd-dr6-v1-grizy'\n",
    "butler = dafPersist.Butler(repo)\n",
    "\n",
    "# Read in the galaxy catalog data.\n",
    "with warnings.catch_warnings():\n",
    "    warnings.filterwarnings('ignore')\n",
    "    gc = GCRCatalogs.load_catalog('cosmoDC2_v1.1.4_image')\n",
    "    \n",
    "    \n",
    "# Read in the galaxy catalog data.\n",
    "with warnings.catch_warnings():\n",
    "    warnings.filterwarnings('ignore')\n",
    "    gc_obs = GCRCatalogs.load_catalog('dc2_object_run2.2i_dr6_wfd')"
   ]
  },
  {
   "cell_type": "code",
   "execution_count": 7,
   "metadata": {},
   "outputs": [
    {
     "data": {
      "text/plain": [
       "['modelfit_CModel_initial_ellipse_xy',\n",
       " 'y_undeblended_ext_convolved_ConvolvedFlux_3_kron_instFlux',\n",
       " 'y_base_PsfFlux_instFluxErr',\n",
       " 'u_slot_PsfShape_xx',\n",
       " 'g_undeblended_ext_convolved_ConvolvedFlux_0_6_0_apCorr',\n",
       " 'modelfit_CModel_exp_flag_trSmall',\n",
       " 'u_undeblended_base_CircularApertureFlux_25_0_instFlux',\n",
       " 'g_undeblended_base_CircularApertureFlux_3_0_flag_sincCoeffsTruncated',\n",
       " 'u_ext_convolved_ConvolvedFlux_0_3_3_apCorr',\n",
       " 'y_undeblended_ext_convolved_ConvolvedFlux_0_deconv',\n",
       " 'u_base_CircularApertureFlux_35_0_flag_apertureTruncated',\n",
       " 'g_undeblended_ext_convolved_ConvolvedFlux_1_flag_badCentroid',\n",
       " 'g_base_PixelFlags_flag_clipped',\n",
       " 'z_undeblended_ext_convolved_ConvolvedFlux_0_deconv',\n",
       " 'i_undeblended_ext_convolved_ConvolvedFlux_1_4_5_apCorr',\n",
       " 'i_undeblended_base_PsfFlux_instFlux',\n",
       " 'u_base_PsfFlux_flag_edge',\n",
       " 'z_base_PixelFlags_flag_inexact_psfCenter',\n",
       " 'i_ext_convolved_ConvolvedFlux_0_4_5_apCorrErr',\n",
       " 'i_base_CircularApertureFlux_12_0_flag_apertureTruncated',\n",
       " 'i_undeblended_base_PsfFlux_instFluxErr',\n",
       " 'y_modelfit_DoubleShapeletPsfApprox_1_1',\n",
       " 'calib_astrometry_used',\n",
       " 'y_base_SdssShape_instFluxErr',\n",
       " 'ext_convolved_ConvolvedFlux_3_6_0_apCorrErr',\n",
       " 'ext_shapeHSM_HsmSourceMoments_flag_no_pixels',\n",
       " 'u_base_CircularApertureFlux_17_0_flag_apertureTruncated',\n",
       " 'i_ext_convolved_ConvolvedFlux_1_3_3_flag_apertureTruncated',\n",
       " 'modelfit_DoubleShapeletPsfApprox_0_4',\n",
       " 'g_modelfit_DoubleShapeletPsfApprox_0_xy',\n",
       " 'g_undeblended_base_CircularApertureFlux_17_0_flag_apertureTruncated',\n",
       " 'g_undeblended_ext_convolved_ConvolvedFlux_1_kron_apCorr',\n",
       " 'i_undeblended_base_CircularApertureFlux_6_0_flag_sincCoeffsTruncated',\n",
       " 'slot_ModelFlux_dev_fixed_0',\n",
       " 'g_ext_photometryKron_KronFlux_radius_for_radius',\n",
       " 'r_slot_ModelFlux_flag',\n",
       " 'z_modelfit_CModel_flag_apCorr',\n",
       " 'i_ext_convolved_ConvolvedFlux_0_6_0_flag_sincCoeffsTruncated',\n",
       " 'u_undeblended_ext_convolved_ConvolvedFlux_3_kron_apCorr',\n",
       " 'r_modelfit_CModel_initial_apCorrErr',\n",
       " 'g_ext_convolved_ConvolvedFlux_3_3_3_apCorrErr',\n",
       " 'y_ext_convolved_ConvolvedFlux_0_6_0_instFlux',\n",
       " 'u_ext_convolved_ConvolvedFlux_0_kron_apCorr',\n",
       " 'base_SdssShape_flag_badCentroid_badError',\n",
       " 'ext_convolved_ConvolvedFlux_0_4_5_instFluxErr',\n",
       " 'r_undeblended_ext_convolved_ConvolvedFlux_0_3_3_apCorrErr',\n",
       " 'IyyPSF_g',\n",
       " 'ext_convolved_ConvolvedFlux_1_6_0_instFluxErr',\n",
       " 'r_modelfit_CModel_instFluxErr',\n",
       " 'slot_GaussianFlux_instFlux',\n",
       " 'y_slot_ModelFlux_dev_flag_apCorr',\n",
       " 'g_base_LocalBackground_instFluxErr',\n",
       " 'i_ext_photometryKron_KronFlux_instFlux',\n",
       " 'z_base_SdssShape_x',\n",
       " 'y_base_CircularApertureFlux_70_0_instFlux',\n",
       " 'base_GaussianFlux_flag_badCentroid_notAtMaximum',\n",
       " 'ext_convolved_ConvolvedFlux_0_kron_flag_apCorr',\n",
       " 'slot_Shape_yy',\n",
       " 'r_base_SdssShape_psf_xx',\n",
       " 'ext_convolved_ConvolvedFlux_2_4_5_apCorrErr',\n",
       " 'i_modelfit_CModel_flag_region_maxBadPixelFraction',\n",
       " 'y_base_CircularApertureFlux_12_0_flag_sincCoeffsTruncated',\n",
       " 'calib_psf_candidate',\n",
       " 'i_ext_convolved_ConvolvedFlux_0_6_0_flag',\n",
       " 'slot_GaussianFlux_apCorr',\n",
       " 'g_slot_PsfFlux_area',\n",
       " 'i_undeblended_ext_convolved_ConvolvedFlux_0_deconv',\n",
       " 'g_undeblended_ext_convolved_ConvolvedFlux_1_6_0_flag_apertureTruncated',\n",
       " 'base_InputCount_flag',\n",
       " 'r_base_CircularApertureFlux_25_0_flag_apertureTruncated',\n",
       " 'u_undeblended_ext_convolved_ConvolvedFlux_2_deconv',\n",
       " 'r_ext_convolved_ConvolvedFlux_0_4_5_instFlux',\n",
       " 'g_slot_PsfFlux_flag_noGoodPixels',\n",
       " 'y_undeblended_ext_convolved_ConvolvedFlux_1_kron_flag_apCorr',\n",
       " 'cModelFluxErr_u',\n",
       " 'base_Blendedness_raw_child_instFlux',\n",
       " 'modelfit_CModel_initial_ellipse_yy',\n",
       " 'base_SdssShape_flag_psf',\n",
       " 'i_base_PsfFlux_instFluxErr',\n",
       " 'cModelFlux_z',\n",
       " 'base_CircularApertureFlux_12_0_flag_sincCoeffsTruncated',\n",
       " 'i_undeblended_base_CircularApertureFlux_9_0_flag',\n",
       " 'ext_shapeHSM_HsmSourceMoments_xy',\n",
       " 'y_ext_photometryKron_KronFlux_flag',\n",
       " 'slot_ModelFlux_ellipse_yy',\n",
       " 'u_ext_convolved_ConvolvedFlux_3_3_3_apCorr',\n",
       " 'g_base_CircularApertureFlux_17_0_flag',\n",
       " 'u_ext_convolved_ConvolvedFlux_2_4_5_instFluxErr',\n",
       " 'g_base_CircularApertureFlux_70_0_flag_apertureTruncated',\n",
       " 'g_undeblended_ext_photometryKron_KronFlux_flag_no_fallback_radius',\n",
       " 'z_modelfit_DoubleShapeletPsfApprox_1_xx',\n",
       " 'y_undeblended_ext_convolved_ConvolvedFlux_2_kron_instFlux',\n",
       " 'y_slot_ModelFlux_initial_apCorrErr',\n",
       " 'u_undeblended_base_CircularApertureFlux_17_0_flag',\n",
       " 'psFluxErr_r',\n",
       " 'i_ext_convolved_ConvolvedFlux_0_deconv',\n",
       " 'g_base_GaussianFlux_flag_badShape',\n",
       " 'g_base_PixelFlags_flag_interpolatedCenter',\n",
       " 'y_base_PixelFlags_flag_bright_objectCenter',\n",
       " 'z_base_SdssShape_flag_badCentroid',\n",
       " 'u_undeblended_ext_convolved_ConvolvedFlux_2_6_0_flag_sincCoeffsTruncated',\n",
       " 'y_ext_convolved_ConvolvedFlux_3_6_0_instFluxErr',\n",
       " 'modelfit_CModel_initial_instFluxErr',\n",
       " 'u_ext_convolved_ConvolvedFlux_1_4_5_flag_apCorr',\n",
       " 'i_undeblended_base_CircularApertureFlux_4_5_flag_sincCoeffsTruncated',\n",
       " 'z_undeblended_ext_convolved_ConvolvedFlux_3_3_3_flag_apCorr',\n",
       " 'z_base_SdssShape_flag_psf',\n",
       " 'y_modelfit_DoubleShapeletPsfApprox_0_1',\n",
       " 'y_base_CircularApertureFlux_6_0_instFlux',\n",
       " 'cModelFlux_flag_i',\n",
       " 'g_undeblended_base_CircularApertureFlux_9_0_instFluxErr',\n",
       " 'z_undeblended_ext_convolved_ConvolvedFlux_1_4_5_apCorr',\n",
       " 'u_ext_convolved_ConvolvedFlux_1_kron_instFluxErr',\n",
       " 'y_ext_convolved_ConvolvedFlux_1_3_3_flag',\n",
       " 'z_base_SdssCentroid_y',\n",
       " 'slot_ModelFlux_dev_nonlinear_2',\n",
       " 'snr_i_cModel',\n",
       " 'z_slot_ModelFlux_fracDev',\n",
       " 'y_ext_convolved_ConvolvedFlux_3_4_5_flag_sincCoeffsTruncated',\n",
       " 'detect_isTractInner',\n",
       " 'i_ext_convolved_ConvolvedFlux_0_3_3_flag_apCorr',\n",
       " 'base_SdssCentroid_flag_notAtMaximum',\n",
       " 'z_slot_Centroid_flag',\n",
       " 'g_modelfit_CModel_instFluxErr',\n",
       " 'u_ext_convolved_ConvolvedFlux_1_kron_apCorrErr',\n",
       " 'i_undeblended_ext_convolved_ConvolvedFlux_0_6_0_flag_sincCoeffsTruncated',\n",
       " 'y_base_PsfFlux_flag_edge',\n",
       " 'cModelFlux_flag_g',\n",
       " 'u_ext_convolved_ConvolvedFlux_1_3_3_apCorr',\n",
       " 'g_undeblended_base_CircularApertureFlux_25_0_flag_apertureTruncated',\n",
       " 'g_ext_convolved_ConvolvedFlux_1_deconv',\n",
       " 'y_slot_ModelFlux_exp_instFluxErr',\n",
       " 'u_base_CircularApertureFlux_6_0_flag_apertureTruncated',\n",
       " 'i_base_LocalBackground_flag_badCentroid',\n",
       " 'g_ext_convolved_ConvolvedFlux_1_3_3_flag_apertureTruncated',\n",
       " 'u_ext_convolved_ConvolvedFlux_1_kron_flag_apCorr',\n",
       " 'merge_footprint_sky',\n",
       " 'psFluxErr_i',\n",
       " 'i_base_PixelFlags_flag_crCenter',\n",
       " 'u_slot_ModelFlux_exp_instFlux',\n",
       " 'i_base_ClassificationExtendedness_flag',\n",
       " 'i_slot_Shape_flag',\n",
       " 'base_SdssShape_flag_badCentroid_notAtMaximum',\n",
       " 'u_modelfit_DoubleShapeletPsfApprox_flag_badCentroid',\n",
       " 'r_undeblended_base_CircularApertureFlux_9_0_flag_apertureTruncated',\n",
       " 'y_slot_ModelFlux_flag_badReference',\n",
       " 'r_slot_PsfFlux_area',\n",
       " 'z_ext_convolved_ConvolvedFlux_3_6_0_flag_apertureTruncated',\n",
       " 'base_ClassificationExtendedness_flag',\n",
       " 'u_modelfit_DoubleShapeletPsfApprox_1_xy',\n",
       " 'z_undeblended_ext_convolved_ConvolvedFlux_0_kron_apCorr',\n",
       " 'base_PsfFlux_apCorr',\n",
       " 'base_SdssShape_flag_badCentroid_almostNoSecondDerivative',\n",
       " 'y_base_SdssShape_flag_unweightedBad',\n",
       " 'u_undeblended_ext_convolved_ConvolvedFlux_3_4_5_instFluxErr',\n",
       " 'r_ext_convolved_ConvolvedFlux_3_kron_flag_apCorr',\n",
       " 'i_ext_convolved_ConvolvedFlux_1_3_3_flag_apCorr',\n",
       " 'r_modelfit_CModel_dev_flag_apCorr',\n",
       " 'y_modelfit_CModel_fracDev',\n",
       " 'u_base_CircularApertureFlux_3_0_flag_apertureTruncated',\n",
       " 'modelfit_CModel_exp_flag_apCorr',\n",
       " 'y_undeblended_ext_convolved_ConvolvedFlux_2_6_0_apCorrErr',\n",
       " 'g_modelfit_CModel_flag_region_maxBadPixelFraction',\n",
       " 'z_ext_convolved_ConvolvedFlux_3_4_5_apCorr',\n",
       " 'g_undeblended_ext_convolved_ConvolvedFlux_0_6_0_apCorrErr',\n",
       " 'z_ext_convolved_ConvolvedFlux_3_4_5_flag_apCorr',\n",
       " 'u_undeblended_base_CircularApertureFlux_70_0_instFlux',\n",
       " 'u_modelfit_CModel_flag_noShapeletPsf',\n",
       " 'u_undeblended_ext_convolved_ConvolvedFlux_0_kron_apCorrErr',\n",
       " 'y_base_SdssShape_xyErr',\n",
       " 'g_modelfit_CModel_initial_flag_badReference',\n",
       " 'g_undeblended_ext_convolved_ConvolvedFlux_1_3_3_instFlux',\n",
       " 'i_undeblended_ext_convolved_ConvolvedFlux_0_kron_apCorr',\n",
       " 'z_FLUXMAG0',\n",
       " 'modelfit_CModel_region_final_ellipse_xx',\n",
       " 'Iyy_r',\n",
       " 'base_InputCount_flag_badCentroid_almostNoSecondDerivative',\n",
       " 'g_undeblended_ext_convolved_ConvolvedFlux_0_3_3_apCorrErr',\n",
       " 'r_modelfit_CModel_objective',\n",
       " 'g_undeblended_ext_convolved_ConvolvedFlux_1_6_0_apCorr',\n",
       " 'r_ext_convolved_ConvolvedFlux_0_3_3_instFluxErr',\n",
       " 'r_modelfit_CModel_initial_flag_badReference',\n",
       " 'slot_ApFlux_flag',\n",
       " 'r_ext_photometryKron_KronFlux_flag_apCorr',\n",
       " 'u_undeblended_ext_convolved_ConvolvedFlux_3_3_3_flag',\n",
       " 'r_undeblended_ext_convolved_ConvolvedFlux_3_3_3_flag_apCorr',\n",
       " 'modelfit_DoubleShapeletPsfApprox_1_xy',\n",
       " 'g_ext_photometryKron_KronFlux_instFlux',\n",
       " 'z_modelfit_DoubleShapeletPsfApprox_0_3',\n",
       " 'psFlux_flag_g',\n",
       " 'z_undeblended_ext_convolved_ConvolvedFlux_0_kron_apCorrErr',\n",
       " 'i_ext_convolved_ConvolvedFlux_seeing',\n",
       " 'deblend_psf_instFlux',\n",
       " 'z_modelfit_DoubleShapeletPsfApprox_0_x',\n",
       " 'z_undeblended_ext_convolved_ConvolvedFlux_3_3_3_instFluxErr',\n",
       " 'r_base_CircularApertureFlux_3_0_instFlux',\n",
       " 'y_ext_convolved_ConvolvedFlux_1_4_5_flag_sincCoeffsTruncated',\n",
       " 'g_ext_convolved_ConvolvedFlux_2_3_3_apCorr',\n",
       " 'ext_convolved_ConvolvedFlux_2_4_5_apCorr',\n",
       " 'i_modelfit_DoubleShapeletPsfApprox_1_y',\n",
       " 'r_base_SdssShape_flag',\n",
       " 'i_ext_convolved_ConvolvedFlux_2_6_0_flag_apertureTruncated',\n",
       " 'i_modelfit_CModel_exp_flag_apCorr',\n",
       " 'i_coord_dec',\n",
       " 'y_modelfit_DoubleShapeletPsfApprox_1_yy',\n",
       " 'y_ext_convolved_ConvolvedFlux_3_kron_flag_apCorr',\n",
       " 'i_ext_convolved_ConvolvedFlux_0_3_3_flag_sincCoeffsTruncated',\n",
       " 'r_base_CircularApertureFlux_25_0_flag',\n",
       " 'r_ext_convolved_ConvolvedFlux_2_flag_badCentroid',\n",
       " 'r_coord_dec',\n",
       " 'z_base_SdssCentroid_flag_noSecondDerivative',\n",
       " 'merge_measurement_r',\n",
       " 'i_modelfit_DoubleShapeletPsfApprox_flag_invalidMoments',\n",
       " 'y_slot_Centroid_flag',\n",
       " 'y_undeblended_ext_convolved_ConvolvedFlux_1_4_5_instFlux',\n",
       " 'Iyy',\n",
       " 'r_coord_ra',\n",
       " 'g_slot_ModelFlux_initial_apCorrErr',\n",
       " 'r_ext_convolved_ConvolvedFlux_1_flag_badCentroid',\n",
       " 'i_undeblended_base_CircularApertureFlux_12_0_flag_sincCoeffsTruncated',\n",
       " 'z_base_Variance_flag',\n",
       " 'slot_ModelFlux_initial_instFluxErr',\n",
       " 'r_modelfit_CModel_exp_instFlux',\n",
       " 'y_base_PixelFlags_flag_suspect',\n",
       " 'g_undeblended_ext_convolved_ConvolvedFlux_3_3_3_instFlux',\n",
       " 'r_undeblended_base_PsfFlux_area',\n",
       " 'i_base_SdssShape_yy',\n",
       " 'z_modelfit_DoubleShapeletPsfApprox_flag_invalidPointForPsf',\n",
       " 'r_base_SdssCentroid_flag',\n",
       " 'i_ext_convolved_ConvolvedFlux_1_6_0_instFlux',\n",
       " 'z_ext_convolved_ConvolvedFlux_2_6_0_instFlux',\n",
       " 'g_ext_convolved_ConvolvedFlux_3_3_3_flag_apertureTruncated',\n",
       " 'parentObjectId',\n",
       " 'r_ext_convolved_ConvolvedFlux_3_3_3_flag_apCorr',\n",
       " 'r_ext_convolved_ConvolvedFlux_flag_badCentroid',\n",
       " 'i_undeblended_ext_convolved_ConvolvedFlux_1_4_5_flag_sincCoeffsTruncated',\n",
       " 'y_base_SdssShape_x',\n",
       " 'g_ext_convolved_ConvolvedFlux_2_3_3_flag',\n",
       " 'y_slot_ModelFlux_dev_instFlux',\n",
       " 'modelfit_CModel_initial_flag',\n",
       " 'i_undeblended_base_CircularApertureFlux_3_0_flag_sincCoeffsTruncated',\n",
       " 'y_ext_convolved_ConvolvedFlux_2_4_5_instFluxErr',\n",
       " 'u_base_ClassificationExtendedness_flag',\n",
       " 'u_undeblended_base_CircularApertureFlux_3_0_instFluxErr',\n",
       " 'y_undeblended_ext_convolved_ConvolvedFlux_3_4_5_apCorr',\n",
       " 'z_base_CircularApertureFlux_4_5_instFluxErr',\n",
       " 'z_base_CircularApertureFlux_17_0_flag_apertureTruncated',\n",
       " 'r_ext_convolved_ConvolvedFlux_0_6_0_instFlux',\n",
       " 'i_modelfit_CModel_initial_apCorr',\n",
       " 'r_base_SdssShape_flag_maxIter',\n",
       " 'snr_g_cModel',\n",
       " 'Ixx_z',\n",
       " 'base_CircularApertureFlux_9_0_flag_sincCoeffsTruncated',\n",
       " 'g_undeblended_ext_convolved_ConvolvedFlux_2_6_0_apCorrErr',\n",
       " 'slot_ModelFlux_exp_ellipse_xx',\n",
       " 'i_ext_photometryKron_KronFlux_radius',\n",
       " 'ext_shapeHSM_HsmPsfMoments_xx',\n",
       " 'i_base_CircularApertureFlux_50_0_instFluxErr',\n",
       " 'z_modelfit_CModel_initial_flag',\n",
       " 'g_ext_convolved_ConvolvedFlux_3_kron_flag_apCorr',\n",
       " 'base_LocalBackground_flag_noPsf',\n",
       " 'u_ext_photometryKron_KronFlux_flag_bad_shape_no_psf',\n",
       " 'r_modelfit_CModel_dev_flag_numericError',\n",
       " 'ext_shapeHSM_HsmShapeRegauss_flag_badCentroid_almostNoSecondDerivative',\n",
       " 'u_ext_convolved_ConvolvedFlux_0_4_5_instFlux',\n",
       " 'base_CircularApertureFlux_70_0_flag',\n",
       " 'r_ext_convolved_ConvolvedFlux_3_4_5_flag',\n",
       " 'i_undeblended_ext_convolved_ConvolvedFlux_0_4_5_apCorr',\n",
       " 'u_undeblended_ext_photometryKron_KronFlux_flag_used_psf_radius',\n",
       " 'u_base_CircularApertureFlux_12_0_instFluxErr',\n",
       " 'i_undeblended_ext_photometryKron_KronFlux_flag_bad_radius',\n",
       " 'y_slot_PsfShape_yy',\n",
       " 'i_ext_convolved_ConvolvedFlux_0_3_3_apCorrErr',\n",
       " 'i_ext_photometryKron_KronFlux_flag_bad_shape_no_psf',\n",
       " 'r_slot_ModelFlux_objective',\n",
       " 'g_slot_PsfFlux_flag',\n",
       " 'y_modelfit_CModel_dev_instFlux',\n",
       " 'ext_convolved_ConvolvedFlux_2_4_5_instFluxErr',\n",
       " 'u_slot_ModelFlux_apCorr',\n",
       " 'y_ext_convolved_ConvolvedFlux_1_4_5_flag_apCorr',\n",
       " 'r_undeblended_base_CircularApertureFlux_70_0_instFlux',\n",
       " 'g_undeblended_base_CircularApertureFlux_3_0_instFlux',\n",
       " 'y_undeblended_ext_convolved_ConvolvedFlux_0_3_3_instFluxErr',\n",
       " 'y_undeblended_ext_photometryKron_KronFlux_radius',\n",
       " 'merge_measurement_y',\n",
       " 'y_base_SdssCentroid_x',\n",
       " 'r_base_LocalBackground_flag',\n",
       " 'y_undeblended_ext_convolved_ConvolvedFlux_3_3_3_flag_sincCoeffsTruncated',\n",
       " 'ext_convolved_ConvolvedFlux_1_3_3_flag_sincCoeffsTruncated',\n",
       " 'slot_Centroid_yErr',\n",
       " 'i_undeblended_ext_convolved_ConvolvedFlux_2_6_0_instFlux',\n",
       " 'g_modelfit_DoubleShapeletPsfApprox_flag_badCentroid',\n",
       " 'y_ext_convolved_ConvolvedFlux_0_6_0_flag_apCorr',\n",
       " 'z_ext_photometryKron_KronFlux_flag_used_minimum_radius',\n",
       " 'u_base_CircularApertureFlux_9_0_instFlux',\n",
       " 'z_undeblended_base_CircularApertureFlux_12_0_flag',\n",
       " 'i_ext_convolved_ConvolvedFlux_3_4_5_apCorr',\n",
       " 'yErr',\n",
       " 'u_undeblended_ext_convolved_ConvolvedFlux_3_3_3_instFluxErr',\n",
       " 'modelfit_DoubleShapeletPsfApprox_1_xx',\n",
       " 'y_undeblended_ext_convolved_ConvolvedFlux_3_3_3_apCorr',\n",
       " 'r_undeblended_base_CircularApertureFlux_4_5_flag_sincCoeffsTruncated',\n",
       " 'i_modelfit_CModel_dev_flag',\n",
       " 'i_base_PsfFlux_area',\n",
       " 'i_base_PixelFlags_flag_interpolated',\n",
       " 'u_ext_convolved_ConvolvedFlux_2_3_3_instFlux',\n",
       " 'slot_ModelFlux_exp_nonlinear_1',\n",
       " 'i_ext_convolved_ConvolvedFlux_0_6_0_apCorr',\n",
       " 'z_ext_convolved_ConvolvedFlux_2_4_5_instFluxErr',\n",
       " 'i_modelfit_CModel_dev_apCorrErr',\n",
       " 'ext_photometryKron_KronFlux_flag',\n",
       " 'z_ext_convolved_ConvolvedFlux_3_3_3_flag_apCorr',\n",
       " 'z_ext_convolved_ConvolvedFlux_1_6_0_instFlux',\n",
       " 'y_undeblended_ext_convolved_ConvolvedFlux_2_deconv',\n",
       " 'g_base_CircularApertureFlux_50_0_instFlux',\n",
       " 'base_PixelFlags_flag_suspectCenter',\n",
       " 'modelfit_DoubleShapeletPsfApprox_0_y',\n",
       " 'u_slot_PsfFlux_instFluxErr',\n",
       " 'slot_ModelFlux_initial_nonlinear_1',\n",
       " 'r_undeblended_ext_convolved_ConvolvedFlux_0_4_5_instFlux',\n",
       " 'i_base_CircularApertureFlux_9_0_flag',\n",
       " 'I_flag_y',\n",
       " 'z_ext_convolved_ConvolvedFlux_3_6_0_apCorrErr',\n",
       " 'z_ext_convolved_ConvolvedFlux_0_kron_apCorr',\n",
       " 'u_undeblended_ext_convolved_ConvolvedFlux_1_3_3_flag_apCorr',\n",
       " 'base_CircularApertureFlux_flag_badCentroid_notAtMaximum',\n",
       " 'z_base_SdssCentroid_flag_edge',\n",
       " 'u_base_PsfFlux_apCorrErr',\n",
       " 'z_base_Variance_flag_emptyFootprint',\n",
       " 'z_undeblended_base_CircularApertureFlux_35_0_instFlux',\n",
       " 'u_undeblended_base_CircularApertureFlux_50_0_flag',\n",
       " 'y_slot_Shape_xy',\n",
       " 'y_undeblended_ext_photometryKron_KronFlux_flag_no_minimum_radius',\n",
       " 'y_ext_convolved_ConvolvedFlux_0_kron_flag',\n",
       " 'base_Blendedness_old',\n",
       " 'u_ext_convolved_ConvolvedFlux_0_4_5_flag_apertureTruncated',\n",
       " 'y_base_SdssShape_flag_psf',\n",
       " 'i_base_CircularApertureFlux_4_5_flag_sincCoeffsTruncated',\n",
       " 'r_undeblended_ext_convolved_ConvolvedFlux_3_4_5_instFlux',\n",
       " 'g_undeblended_ext_convolved_ConvolvedFlux_1_3_3_instFluxErr',\n",
       " 'y_modelfit_CModel_flag_region_maxBadPixelFraction',\n",
       " 'y_slot_ModelFlux_dev_flag_badReference',\n",
       " 'u_slot_ModelFlux_flag_badCentroid',\n",
       " 'z_undeblended_ext_convolved_ConvolvedFlux_1_6_0_flag',\n",
       " 'y_ext_convolved_ConvolvedFlux_3_4_5_instFluxErr',\n",
       " 'y_undeblended_base_CircularApertureFlux_3_0_instFlux',\n",
       " 'z_slot_ModelFlux_dev_instFlux_inner',\n",
       " 'modelfit_CModel_initial_instFlux_inner',\n",
       " 'r_base_SdssShape_instFlux',\n",
       " 'r_slot_ModelFlux_exp_apCorr',\n",
       " 'g_ext_convolved_ConvolvedFlux_2_6_0_apCorr',\n",
       " 'r_modelfit_CModel_dev_flag_badReference',\n",
       " 'r_undeblended_ext_convolved_ConvolvedFlux_3_6_0_apCorrErr',\n",
       " 'g_slot_ModelFlux_initial_instFluxErr',\n",
       " 'r_slot_ModelFlux_initial_flag_numericError',\n",
       " 'z_undeblended_ext_photometryKron_KronFlux_flag_no_minimum_radius',\n",
       " 'r_base_CircularApertureFlux_35_0_flag_apertureTruncated',\n",
       " 'i_slot_Centroid_x',\n",
       " 'u_ext_photometryKron_KronFlux_psf_radius',\n",
       " 'base_CircularApertureFlux_17_0_instFlux',\n",
       " 'g_base_ClassificationExtendedness_flag',\n",
       " 'r_undeblended_ext_photometryKron_KronFlux_flag_edge',\n",
       " 'ext_photometryKron_KronFlux_flag_used_minimum_radius',\n",
       " 'z_modelfit_CModel_initial_instFlux_inner',\n",
       " 'y_base_CircularApertureFlux_35_0_flag_apertureTruncated',\n",
       " 'g_undeblended_ext_convolved_ConvolvedFlux_2_4_5_flag_apCorr',\n",
       " 'z_undeblended_base_CircularApertureFlux_25_0_instFlux',\n",
       " 'z_ext_convolved_ConvolvedFlux_3_kron_instFlux',\n",
       " 'g_base_TransformedShape_xy',\n",
       " 'i_slot_Centroid_y',\n",
       " 'i_base_PixelFlags_flag_suspectCenter',\n",
       " 'r_undeblended_base_CircularApertureFlux_17_0_instFlux',\n",
       " 'z_undeblended_ext_convolved_ConvolvedFlux_2_3_3_apCorrErr',\n",
       " 'i_ext_convolved_ConvolvedFlux_1_3_3_instFlux',\n",
       " 'z_base_PsfFlux_flag_edge',\n",
       " 'i_ext_convolved_ConvolvedFlux_1_4_5_flag',\n",
       " 'u_undeblended_base_CircularApertureFlux_3_0_instFlux',\n",
       " 'u_undeblended_ext_convolved_ConvolvedFlux_2_4_5_apCorr',\n",
       " 'i_undeblended_ext_convolved_ConvolvedFlux_0_6_0_apCorr',\n",
       " 'i_undeblended_ext_convolved_ConvolvedFlux_2_3_3_apCorr',\n",
       " 'merge_footprint_r',\n",
       " 'u_undeblended_base_CircularApertureFlux_35_0_instFlux',\n",
       " 'i_undeblended_ext_convolved_ConvolvedFlux_1_6_0_flag_apertureTruncated',\n",
       " 'u_modelfit_CModel_initial_flag_numericError',\n",
       " 'z_undeblended_ext_convolved_ConvolvedFlux_1_3_3_instFlux',\n",
       " 'y_base_CircularApertureFlux_9_0_instFluxErr',\n",
       " 'i_ext_convolved_ConvolvedFlux_2_4_5_flag',\n",
       " 'y_ext_convolved_ConvolvedFlux_3_4_5_instFlux',\n",
       " 'y_undeblended_ext_convolved_ConvolvedFlux_3_flag_badCentroid',\n",
       " 'ext_shapeHSM_HsmShapeRegauss_flag',\n",
       " 'base_PsfFlux_instFluxErr',\n",
       " 'u_undeblended_ext_convolved_ConvolvedFlux_0_3_3_apCorrErr',\n",
       " 'y_undeblended_ext_photometryKron_KronFlux_radius_for_radius',\n",
       " 'z_undeblended_base_CircularApertureFlux_25_0_flag',\n",
       " 'ext_convolved_ConvolvedFlux_0_deconv',\n",
       " 'z_base_PixelFlags_flag_inexact_psf',\n",
       " 'u_undeblended_ext_convolved_ConvolvedFlux_3_6_0_apCorrErr',\n",
       " 'I_flag_u',\n",
       " 'y_ext_photometryKron_KronFlux_flag_edge',\n",
       " 'i_slot_ModelFlux_initial_instFlux_inner',\n",
       " 'g_undeblended_ext_convolved_ConvolvedFlux_0_3_3_flag_sincCoeffsTruncated',\n",
       " 'g_modelfit_DoubleShapeletPsfApprox_0_4',\n",
       " 'z_ext_convolved_ConvolvedFlux_1_deconv',\n",
       " 'z_undeblended_base_CircularApertureFlux_12_0_flag_sincCoeffsTruncated',\n",
       " 'base_LocalBackground_flag_badCentroid',\n",
       " 'r_undeblended_ext_convolved_ConvolvedFlux_2_3_3_instFluxErr',\n",
       " 'g_ext_convolved_ConvolvedFlux_2_4_5_instFlux',\n",
       " 'z_undeblended_ext_convolved_ConvolvedFlux_3_kron_apCorrErr',\n",
       " 'i_modelfit_DoubleShapeletPsfApprox_0_5',\n",
       " 'u_slot_ModelFlux_dev_instFlux',\n",
       " 'deblend_skipped',\n",
       " 'g_ext_convolved_ConvolvedFlux_3_6_0_flag',\n",
       " 'r_ext_convolved_ConvolvedFlux_3_4_5_instFlux',\n",
       " 'z_slot_PsfFlux_apCorr',\n",
       " 'r_base_SdssShape_flag_shift',\n",
       " 'ext_shapeHSM_HsmSourceMomentsRound_Flux',\n",
       " 'slot_ModelFlux_flags_region_usedPsfArea',\n",
       " 'z_base_LocalBackground_instFlux',\n",
       " 'u_slot_ModelFlux_dev_flag_apCorr',\n",
       " 'g_undeblended_ext_convolved_ConvolvedFlux_2_6_0_instFluxErr',\n",
       " 'r_base_PixelFlags_flag_suspect',\n",
       " 'y_base_CircularApertureFlux_12_0_instFlux',\n",
       " 'y_undeblended_ext_convolved_ConvolvedFlux_0_4_5_flag_apertureTruncated',\n",
       " 'z_undeblended_ext_convolved_ConvolvedFlux_0_4_5_apCorrErr',\n",
       " 'r_ext_convolved_ConvolvedFlux_2_kron_instFlux',\n",
       " 'i_base_SdssShape_flag_psf',\n",
       " 'g_ext_convolved_ConvolvedFlux_2_kron_apCorr',\n",
       " 'u_slot_ModelFlux_instFlux_inner',\n",
       " 'i_slot_PsfFlux_instFlux',\n",
       " 'r_base_CircularApertureFlux_70_0_instFluxErr',\n",
       " 'g_base_LocalBackground_flag',\n",
       " 'g_modelfit_CModel_initial_apCorr',\n",
       " 'z_modelfit_CModel_exp_flag_badReference',\n",
       " 'g_modelfit_DoubleShapeletPsfApprox_flag_invalidMoments',\n",
       " 'g_slot_Shape_xx',\n",
       " 'z_undeblended_ext_convolved_ConvolvedFlux_3_3_3_flag',\n",
       " 'r_modelfit_DoubleShapeletPsfApprox_1_1',\n",
       " 'modelfit_CModel_region_final_ellipse_xy',\n",
       " 'ext_convolved_ConvolvedFlux_0_flag_badCentroid_resetToPeak',\n",
       " 'r_base_TransformedShape_yy',\n",
       " 'z_ext_photometryKron_KronFlux_psf_radius',\n",
       " 'u_base_PixelFlags_flag_interpolatedCenter',\n",
       " 'r_undeblended_base_CircularApertureFlux_50_0_instFluxErr',\n",
       " 'slot_ModelFlux_exp_instFlux',\n",
       " 'modelfit_CModel_ellipse_yy',\n",
       " 'u_base_InputCount_flag',\n",
       " 'i_undeblended_ext_convolved_ConvolvedFlux_0_6_0_flag',\n",
       " 'z_ext_convolved_ConvolvedFlux_1_3_3_apCorrErr',\n",
       " 'y_ext_convolved_ConvolvedFlux_1_6_0_flag_apCorr',\n",
       " 'ext_convolved_ConvolvedFlux_2_flag_badCentroid',\n",
       " 'ext_convolved_ConvolvedFlux_0_4_5_instFlux',\n",
       " 'z_undeblended_ext_convolved_ConvolvedFlux_2_4_5_flag',\n",
       " 'g_modelfit_CModel_fracDev',\n",
       " 'y_base_PsfFlux_flag_apCorr',\n",
       " 'i_ext_convolved_ConvolvedFlux_2_6_0_flag_apCorr',\n",
       " 'r_ext_convolved_ConvolvedFlux_2_6_0_flag_apCorr',\n",
       " 'z_undeblended_ext_convolved_ConvolvedFlux_0_kron_instFlux',\n",
       " 'z_ext_convolved_ConvolvedFlux_2_4_5_apCorrErr',\n",
       " 'u_ext_convolved_ConvolvedFlux_0_4_5_flag_apCorr',\n",
       " 'u_undeblended_ext_convolved_ConvolvedFlux_1_4_5_flag',\n",
       " 'ext_convolved_ConvolvedFlux_3_flag_badCentroid_badError',\n",
       " 'z_ext_convolved_ConvolvedFlux_0_3_3_instFlux',\n",
       " 'u_undeblended_ext_convolved_ConvolvedFlux_flag',\n",
       " 'z_undeblended_base_CircularApertureFlux_6_0_flag',\n",
       " 'u_undeblended_ext_convolved_ConvolvedFlux_1_4_5_apCorrErr',\n",
       " 'u_slot_PsfFlux_flag_edge',\n",
       " 'base_CircularApertureFlux_70_0_instFluxErr',\n",
       " 'u_ext_convolved_ConvolvedFlux_3_3_3_flag',\n",
       " 'u_undeblended_ext_convolved_ConvolvedFlux_0_6_0_flag_apCorr',\n",
       " 'slot_PsfFlux_apCorrErr',\n",
       " 'modelfit_CModel_apCorrErr',\n",
       " 'z_undeblended_ext_photometryKron_KronFlux_radius_for_radius',\n",
       " 'r_undeblended_base_CircularApertureFlux_flag_badCentroid',\n",
       " 'g_coord_dec',\n",
       " 'r_undeblended_ext_photometryKron_KronFlux_flag_bad_radius',\n",
       " 'r_undeblended_ext_convolved_ConvolvedFlux_1_4_5_instFluxErr',\n",
       " 'modelfit_DoubleShapeletPsfApprox_1_1',\n",
       " 'u_slot_ModelFlux_initial_flag',\n",
       " 'u_ext_convolved_ConvolvedFlux_0_6_0_apCorr',\n",
       " 'g_base_SdssCentroid_flag_edge',\n",
       " 'i_undeblended_ext_photometryKron_KronFlux_flag_used_psf_radius',\n",
       " 'i_slot_ModelFlux_instFlux',\n",
       " 'i_undeblended_ext_convolved_ConvolvedFlux_1_3_3_flag',\n",
       " 'base_PixelFlags_flag_edge',\n",
       " 'u_ext_convolved_ConvolvedFlux_1_3_3_apCorrErr',\n",
       " 'r_base_GaussianFlux_apCorr',\n",
       " 'z_undeblended_base_CircularApertureFlux_50_0_instFlux',\n",
       " 'modelfit_DoubleShapeletPsfApprox_flag_badCentroid',\n",
       " 'g_slot_ModelFlux_dev_flag_badReference',\n",
       " 'z_undeblended_ext_photometryKron_KronFlux_instFlux',\n",
       " 'i_undeblended_ext_convolved_ConvolvedFlux_2_deconv',\n",
       " 'IxxPSF_y',\n",
       " 'i_ext_convolved_ConvolvedFlux_1_kron_apCorrErr',\n",
       " 'u_undeblended_base_PsfFlux_flag_badCentroid',\n",
       " 'modelfit_DoubleShapeletPsfApprox_0_xy',\n",
       " 'i_undeblended_ext_convolved_ConvolvedFlux_3_6_0_apCorr',\n",
       " 'ext_shapeHSM_HsmPsfMoments_flag_badCentroid_badError',\n",
       " 'y_undeblended_ext_photometryKron_KronFlux_flag_bad_radius',\n",
       " 'y_modelfit_CModel_exp_flag',\n",
       " 'mag_i',\n",
       " 'r_base_SdssCentroid_y',\n",
       " 'i_ext_convolved_ConvolvedFlux_2_kron_apCorrErr',\n",
       " 'y_ext_convolved_ConvolvedFlux_1_3_3_flag_apertureTruncated',\n",
       " 'r_base_PsfFlux_flag_apCorr',\n",
       " 'r_undeblended_ext_convolved_ConvolvedFlux_3_4_5_flag_apCorr',\n",
       " 'u_base_CircularApertureFlux_4_5_flag_apertureTruncated',\n",
       " 'u_ext_convolved_ConvolvedFlux_2_6_0_instFlux',\n",
       " 'g_modelfit_DoubleShapeletPsfApprox_1_xx',\n",
       " 'i_base_SdssShape_x',\n",
       " 'base_PsfFlux_flag_badCentroid_resetToPeak',\n",
       " 'y_base_PixelFlags_flag_saturatedCenter',\n",
       " 'r_ext_convolved_ConvolvedFlux_1_3_3_flag_apertureTruncated',\n",
       " 'y_ext_convolved_ConvolvedFlux_0_4_5_flag_sincCoeffsTruncated',\n",
       " 'r_slot_ModelFlux_flag_region_maxArea',\n",
       " 'i_ext_photometryKron_KronFlux_flag_small_radius',\n",
       " 'z_undeblended_base_PsfFlux_flag_edge',\n",
       " 'slot_ModelFlux_initial_flag_apCorr',\n",
       " 'y_undeblended_base_PsfFlux_area',\n",
       " 'i_ext_convolved_ConvolvedFlux_3_3_3_flag_sincCoeffsTruncated',\n",
       " 'modelfit_CModel_dev_fixed_1',\n",
       " 'y_base_GaussianFlux_flag_badCentroid',\n",
       " 'u_undeblended_ext_convolved_ConvolvedFlux_2_4_5_flag_apertureTruncated',\n",
       " 'r_slot_PsfFlux_instFluxErr',\n",
       " 'g_ext_convolved_ConvolvedFlux_0_kron_flag',\n",
       " 'r_ext_convolved_ConvolvedFlux_3_6_0_flag_apertureTruncated',\n",
       " 'y_undeblended_ext_convolved_ConvolvedFlux_3_4_5_flag_sincCoeffsTruncated',\n",
       " 'y_undeblended_ext_convolved_ConvolvedFlux_0_6_0_instFlux',\n",
       " 'r_ext_photometryKron_KronFlux_instFluxErr',\n",
       " 'g_undeblended_base_CircularApertureFlux_4_5_flag_sincCoeffsTruncated',\n",
       " 'r_slot_ModelFlux_dev_flag_numericError',\n",
       " 'z_ext_convolved_ConvolvedFlux_0_3_3_instFluxErr',\n",
       " 'z_undeblended_base_CircularApertureFlux_35_0_flag_apertureTruncated',\n",
       " 'r_undeblended_base_CircularApertureFlux_35_0_instFluxErr',\n",
       " 'z_undeblended_ext_convolved_ConvolvedFlux_3_flag_badCentroid',\n",
       " 'y_base_CircularApertureFlux_4_5_instFluxErr',\n",
       " 'u_modelfit_CModel_flag',\n",
       " 'r_slot_ModelFlux_exp_flag_badReference',\n",
       " 'y_undeblended_ext_convolved_ConvolvedFlux_0_4_5_apCorr',\n",
       " 'g_base_InputCount_flag_badCentroid',\n",
       " 'base_SdssCentroid_flag',\n",
       " 'u_base_CircularApertureFlux_9_0_flag_sincCoeffsTruncated',\n",
       " 'r_slot_PsfShape_xx',\n",
       " 'u_ext_convolved_ConvolvedFlux_1_3_3_flag_apertureTruncated',\n",
       " 'r_undeblended_ext_convolved_ConvolvedFlux_2_kron_apCorrErr',\n",
       " 'ext_convolved_ConvolvedFlux_1_3_3_flag_apertureTruncated',\n",
       " 'u_undeblended_base_CircularApertureFlux_35_0_instFluxErr',\n",
       " 'y_undeblended_base_CircularApertureFlux_4_5_flag_apertureTruncated',\n",
       " 'r_ext_convolved_ConvolvedFlux_3_6_0_instFluxErr',\n",
       " 'g_undeblended_ext_convolved_ConvolvedFlux_0_kron_flag',\n",
       " 'y_undeblended_ext_convolved_ConvolvedFlux_2_3_3_flag_apertureTruncated',\n",
       " 'g_ext_convolved_ConvolvedFlux_2_4_5_apCorr',\n",
       " 'r_ext_convolved_ConvolvedFlux_0_kron_apCorr',\n",
       " 'g_ext_convolved_ConvolvedFlux_0_4_5_apCorr',\n",
       " 'g_ext_convolved_ConvolvedFlux_1_6_0_instFluxErr',\n",
       " 'modelfit_CModel_flag_apCorr',\n",
       " 'i_undeblended_ext_convolved_ConvolvedFlux_2_3_3_instFluxErr',\n",
       " 'r_undeblended_ext_photometryKron_KronFlux_radius_for_radius',\n",
       " 'i_undeblended_ext_convolved_ConvolvedFlux_3_4_5_apCorrErr',\n",
       " 'y_modelfit_CModel_exp_apCorrErr',\n",
       " 'base_InputCount_flag_badCentroid_notAtMaximum',\n",
       " 'u_undeblended_ext_convolved_ConvolvedFlux_2_3_3_flag_sincCoeffsTruncated',\n",
       " 'i_ext_convolved_ConvolvedFlux_0_4_5_instFlux',\n",
       " 'u_undeblended_base_CircularApertureFlux_17_0_instFluxErr',\n",
       " 'u_modelfit_CModel_apCorrErr',\n",
       " 'u_base_PsfFlux_instFlux',\n",
       " 'u_base_SdssShape_yy',\n",
       " 'y_undeblended_ext_convolved_ConvolvedFlux_2_6_0_apCorr',\n",
       " 'u_base_CircularApertureFlux_9_0_instFluxErr',\n",
       " 'i_ext_convolved_ConvolvedFlux_3_kron_apCorr',\n",
       " 'y_ext_convolved_ConvolvedFlux_2_deconv',\n",
       " 'Ixy',\n",
       " 'u_slot_PsfFlux_apCorr',\n",
       " 'r_ext_convolved_ConvolvedFlux_2_kron_instFluxErr',\n",
       " 'i_base_ClassificationExtendedness_value',\n",
       " 'i_base_PixelFlags_flag',\n",
       " 'r_ext_photometryKron_KronFlux_flag_no_fallback_radius',\n",
       " 'r_ext_convolved_ConvolvedFlux_2_kron_flag',\n",
       " 'y_undeblended_ext_convolved_ConvolvedFlux_3_6_0_apCorrErr',\n",
       " 'slot_ModelFlux_exp_nonlinear_2',\n",
       " 'modelfit_CModel_flag_noShape',\n",
       " 'g_undeblended_ext_convolved_ConvolvedFlux_1_4_5_instFluxErr',\n",
       " 'g_base_SdssShape_psf_xx',\n",
       " 'base_PixelFlags_flag_sensor_edge',\n",
       " 'ext_shapeHSM_HsmSourceMoments_flag_badCentroid_noSecondDerivative',\n",
       " 'z_deblend_nChild',\n",
       " 'z_base_SdssCentroid_flag_notAtMaximum',\n",
       " 'base_CircularApertureFlux_25_0_instFlux',\n",
       " 'g_undeblended_base_CircularApertureFlux_17_0_flag',\n",
       " 'z_base_PsfFlux_flag',\n",
       " 'i_slot_ModelFlux_initial_apCorr',\n",
       " 'r_slot_ModelFlux_dev_flag_apCorr',\n",
       " 'modelfit_CModel_initial_instFlux',\n",
       " 'i_base_InputCount_flag_noInputs',\n",
       " 'u_ext_convolved_ConvolvedFlux_1_flag_badCentroid',\n",
       " 'u_slot_ModelFlux_flag_badReference',\n",
       " 'i_undeblended_base_CircularApertureFlux_4_5_flag',\n",
       " 'g_ext_convolved_ConvolvedFlux_0_4_5_flag',\n",
       " 'u_base_CircularApertureFlux_6_0_instFlux',\n",
       " 'u_undeblended_ext_convolved_ConvolvedFlux_0_6_0_apCorrErr',\n",
       " 'r_undeblended_ext_convolved_ConvolvedFlux_0_6_0_apCorr',\n",
       " 'r_undeblended_ext_convolved_ConvolvedFlux_1_6_0_flag_apCorr',\n",
       " 'i_base_GaussianFlux_apCorrErr',\n",
       " 'g_undeblended_ext_convolved_ConvolvedFlux_2_3_3_flag_sincCoeffsTruncated',\n",
       " 'y_ext_photometryKron_KronFlux_instFlux',\n",
       " 'deblend_deblendedAsPsf',\n",
       " 'r_base_GaussianFlux_flag_badShape',\n",
       " 'i_slot_PsfFlux_flag',\n",
       " 'y_base_CircularApertureFlux_4_5_flag',\n",
       " 'u_ext_convolved_ConvolvedFlux_1_3_3_flag',\n",
       " 'i_ext_convolved_ConvolvedFlux_3_kron_instFluxErr',\n",
       " 'y_undeblended_ext_convolved_ConvolvedFlux_0_kron_flag',\n",
       " 'slot_ModelFlux_exp_ellipse_xy',\n",
       " 'u_ext_convolved_ConvolvedFlux_3_6_0_instFlux',\n",
       " 'z_base_SdssShape_flag_maxIter',\n",
       " 'y_modelfit_CModel_exp_instFlux',\n",
       " 'z_slot_ModelFlux_initial_apCorr',\n",
       " 'y_undeblended_ext_convolved_ConvolvedFlux_1_6_0_flag_apCorr',\n",
       " 'z_ext_convolved_ConvolvedFlux_1_6_0_instFluxErr',\n",
       " 'g_ext_convolved_ConvolvedFlux_2_6_0_instFlux',\n",
       " 'base_CircularApertureFlux_3_0_flag_sincCoeffsTruncated',\n",
       " 'i_undeblended_base_CircularApertureFlux_25_0_flag',\n",
       " 'modelfit_DoubleShapeletPsfApprox_0_x',\n",
       " 'i_base_CircularApertureFlux_17_0_flag',\n",
       " 'deblend_masked',\n",
       " 'ext_convolved_ConvolvedFlux_0_3_3_flag_apCorr',\n",
       " 'y_deblend_nChild',\n",
       " 'z_ext_convolved_ConvolvedFlux_1_kron_apCorr',\n",
       " 'merge_footprint_u',\n",
       " 'u_base_CircularApertureFlux_12_0_flag',\n",
       " 'u_modelfit_DoubleShapeletPsfApprox_0_yy',\n",
       " 'g_undeblended_ext_convolved_ConvolvedFlux_1_4_5_apCorrErr',\n",
       " 'u_slot_Shape_yy',\n",
       " 'g_base_GaussianFlux_instFluxErr',\n",
       " 'z_undeblended_ext_convolved_ConvolvedFlux_2_6_0_apCorrErr',\n",
       " 'i_undeblended_ext_convolved_ConvolvedFlux_0_flag_badCentroid',\n",
       " 'modelfit_CModel_initial_objective',\n",
       " 'y_base_PixelFlags_flag_suspectCenter',\n",
       " 'u_undeblended_ext_convolved_ConvolvedFlux_3_6_0_flag_apertureTruncated',\n",
       " 'z_ext_convolved_ConvolvedFlux_3_3_3_flag_sincCoeffsTruncated',\n",
       " 'u_ext_photometryKron_KronFlux_flag_bad_radius',\n",
       " 'base_NaiveCentroid_flag_badInitialCentroid_noSecondDerivative',\n",
       " 'ext_convolved_ConvolvedFlux_3_6_0_apCorr',\n",
       " 'base_InputCount_flag_badCentroid_noSecondDerivative',\n",
       " 'ext_convolved_ConvolvedFlux_3_3_3_flag_apCorr',\n",
       " 'g_modelfit_CModel_dev_flag',\n",
       " 'slot_ModelFlux_flag_badCentroid',\n",
       " 'z_base_CircularApertureFlux_6_0_flag_sincCoeffsTruncated',\n",
       " 'i_slot_ModelFlux_flag_region_maxArea',\n",
       " 'r_slot_Shape_yy',\n",
       " 'y_slot_Centroid_y',\n",
       " 'base_NaiveCentroid_flag_resetToPeak',\n",
       " 'u_base_SdssShape_yyErr',\n",
       " 'g_undeblended_ext_convolved_ConvolvedFlux_2_6_0_flag',\n",
       " 'g_ext_convolved_ConvolvedFlux_0_6_0_flag',\n",
       " 'base_GaussianFlux_flag_badCentroid_resetToPeak',\n",
       " 'cModelFluxErr_g',\n",
       " 'u_undeblended_ext_convolved_ConvolvedFlux_2_3_3_instFluxErr',\n",
       " 'u_slot_ModelFlux_dev_apCorr',\n",
       " 'base_PixelFlags_flag_clipped',\n",
       " 'i_undeblended_base_CircularApertureFlux_35_0_flag',\n",
       " 'z_undeblended_base_CircularApertureFlux_9_0_flag',\n",
       " 'r_undeblended_ext_convolved_ConvolvedFlux_2_6_0_flag_apertureTruncated',\n",
       " 'r_ext_convolved_ConvolvedFlux_1_kron_apCorr',\n",
       " 'y_base_InputCount_flag_noInputs',\n",
       " 'ext_convolved_ConvolvedFlux_2_flag_badCentroid_almostNoSecondDerivative',\n",
       " 'r_undeblended_base_CircularApertureFlux_6_0_flag_apertureTruncated',\n",
       " 'z_undeblended_base_CircularApertureFlux_6_0_instFluxErr',\n",
       " 'y_ext_convolved_ConvolvedFlux_flag_badCentroid',\n",
       " 'u_ext_convolved_ConvolvedFlux_0_3_3_instFlux',\n",
       " 'z_ext_convolved_ConvolvedFlux_2_kron_apCorr',\n",
       " 'ext_convolved_ConvolvedFlux_3_4_5_flag_sincCoeffsTruncated',\n",
       " 'g_slot_ModelFlux_dev_instFlux',\n",
       " 'slot_Centroid_y',\n",
       " 'i_undeblended_base_CircularApertureFlux_70_0_flag_apertureTruncated',\n",
       " 'base_CircularApertureFlux_50_0_instFluxErr',\n",
       " 'i_ext_convolved_ConvolvedFlux_1_3_3_apCorr',\n",
       " 'base_SdssShape_psf_xx',\n",
       " 'slot_ModelFlux_region_initial_ellipse_yy',\n",
       " 'ext_convolved_ConvolvedFlux_2_6_0_flag_apertureTruncated',\n",
       " 'merge_peak_y',\n",
       " 'i_slot_ModelFlux_exp_instFlux',\n",
       " 'y_base_InputCount_flag_badCentroid',\n",
       " 'g_base_LocalBackground_instFlux',\n",
       " 'z_ext_convolved_ConvolvedFlux_3_3_3_apCorrErr',\n",
       " 'g_base_CircularApertureFlux_35_0_instFlux',\n",
       " 'g_ext_photometryKron_KronFlux_flag_bad_shape_no_psf',\n",
       " 'z_base_SdssCentroid_x',\n",
       " 'y_modelfit_DoubleShapeletPsfApprox_1_xy',\n",
       " 'u_undeblended_ext_convolved_ConvolvedFlux_0_3_3_flag_sincCoeffsTruncated',\n",
       " 'g_undeblended_ext_convolved_ConvolvedFlux_1_6_0_flag_sincCoeffsTruncated',\n",
       " 'r_undeblended_ext_convolved_ConvolvedFlux_3_6_0_instFluxErr',\n",
       " 'g_base_CircularApertureFlux_6_0_flag_apertureTruncated',\n",
       " 'modelfit_CModel_initial_apCorr',\n",
       " 'u_deblend_nChild',\n",
       " 'deblend_psfCenter_y',\n",
       " 'z_undeblended_ext_convolved_ConvolvedFlux_0_kron_flag_apCorr',\n",
       " 'z_modelfit_CModel_initial_instFlux',\n",
       " 'i_slot_PsfFlux_instFluxErr',\n",
       " 'u_base_PixelFlags_flag_sensor_edgeCenter',\n",
       " 'i_modelfit_CModel_exp_flag_numericError',\n",
       " 'i_ext_convolved_ConvolvedFlux_0_6_0_flag_apCorr',\n",
       " 'y_base_SdssCentroid_flag_edge',\n",
       " 'y_slot_ModelFlux_flag_noShapeletPsf',\n",
       " 'ext_shapeHSM_HsmPsfMoments_xy',\n",
       " 'slot_ApFlux_instFlux',\n",
       " 'u_base_SdssShape_psf_xx',\n",
       " 'i_ext_convolved_ConvolvedFlux_0_4_5_instFluxErr',\n",
       " 'modelfit_CModel_flags_region_usedInitialEllipseMax',\n",
       " 'z_undeblended_ext_convolved_ConvolvedFlux_3_3_3_apCorr',\n",
       " 'r_base_PixelFlags_flag_cr',\n",
       " 'y_parent',\n",
       " 'g_undeblended_base_CircularApertureFlux_6_0_instFluxErr',\n",
       " 'ext_convolved_ConvolvedFlux_1_flag_badCentroid_noSecondDerivative',\n",
       " 'g_ext_convolved_ConvolvedFlux_3_4_5_instFluxErr',\n",
       " 'r_ext_convolved_ConvolvedFlux_1_4_5_flag_apCorr',\n",
       " 'i_undeblended_ext_convolved_ConvolvedFlux_1_3_3_instFluxErr',\n",
       " 'y_ext_convolved_ConvolvedFlux_0_3_3_flag_sincCoeffsTruncated',\n",
       " 'z_modelfit_DoubleShapeletPsfApprox_0_5',\n",
       " 'magerr_i',\n",
       " 'g_ext_convolved_ConvolvedFlux_1_3_3_flag_sincCoeffsTruncated',\n",
       " 'i_modelfit_CModel_exp_instFluxErr',\n",
       " 'i_base_LocalBackground_instFluxErr',\n",
       " 'g_undeblended_ext_convolved_ConvolvedFlux_3_6_0_instFlux',\n",
       " 'modelfit_CModel_dev_flag_numericError',\n",
       " 'r_ext_convolved_ConvolvedFlux_0_3_3_instFlux',\n",
       " 'slot_ModelFlux_initial_instFlux_inner',\n",
       " 'z_undeblended_ext_convolved_ConvolvedFlux_1_3_3_apCorrErr',\n",
       " 'y_ext_convolved_ConvolvedFlux_1_4_5_apCorr',\n",
       " 'ext_shapeHSM_HsmSourceMomentsRound_flag_badCentroid_edge',\n",
       " 'r_undeblended_ext_convolved_ConvolvedFlux_3_flag_badCentroid',\n",
       " 'i_undeblended_ext_convolved_ConvolvedFlux_1_3_3_apCorrErr',\n",
       " 'base_GaussianFlux_instFluxErr',\n",
       " 'r_base_CircularApertureFlux_3_0_instFluxErr',\n",
       " 'i_ext_photometryKron_KronFlux_flag_edge',\n",
       " 'ext_convolved_ConvolvedFlux_flag_badCentroid_notAtMaximum',\n",
       " 'modelfit_CModel_dev_flag_apCorr',\n",
       " 'u_undeblended_base_CircularApertureFlux_4_5_instFlux',\n",
       " 'z_undeblended_ext_convolved_ConvolvedFlux_2_3_3_apCorr',\n",
       " 'r_undeblended_ext_convolved_ConvolvedFlux_3_kron_apCorr',\n",
       " 'g_undeblended_ext_photometryKron_KronFlux_radius_for_radius',\n",
       " 'ext_convolved_ConvolvedFlux_flag_badCentroid_almostNoSecondDerivative',\n",
       " 'r_ext_convolved_ConvolvedFlux_0_kron_instFlux',\n",
       " 'z_ext_convolved_ConvolvedFlux_3_flag_badCentroid',\n",
       " 'y_undeblended_ext_photometryKron_KronFlux_flag_used_psf_radius',\n",
       " 'i_base_SdssShape_flag',\n",
       " 'u_base_SdssCentroid_flag_notAtMaximum',\n",
       " 'u_base_PixelFlags_flag_inexact_psf',\n",
       " 'i_ext_convolved_ConvolvedFlux_3_6_0_apCorr',\n",
       " 'u_ext_convolved_ConvolvedFlux_2_3_3_instFluxErr',\n",
       " 'g_slot_ModelFlux_flag',\n",
       " 'i_base_Variance_value',\n",
       " 'y_ext_convolved_ConvolvedFlux_3_4_5_flag',\n",
       " 'i_undeblended_ext_convolved_ConvolvedFlux_2_kron_apCorrErr',\n",
       " 'i_base_LocalBackground_flag_noPsf',\n",
       " 'u_modelfit_CModel_dev_instFluxErr',\n",
       " 'i_undeblended_base_CircularApertureFlux_25_0_instFlux',\n",
       " 'i_undeblended_ext_convolved_ConvolvedFlux_0_3_3_flag_sincCoeffsTruncated',\n",
       " 'ext_convolved_ConvolvedFlux_3_6_0_instFluxErr',\n",
       " 'y_undeblended_ext_convolved_ConvolvedFlux_3_3_3_instFluxErr',\n",
       " 'r_slot_ModelFlux_instFluxErr',\n",
       " 'r_modelfit_CModel_dev_instFlux',\n",
       " 'i_undeblended_base_CircularApertureFlux_17_0_flag_apertureTruncated',\n",
       " 'z_base_PixelFlags_flag_offimage',\n",
       " 'g_base_CircularApertureFlux_17_0_instFlux',\n",
       " 'y_ext_convolved_ConvolvedFlux_1_4_5_apCorrErr',\n",
       " 'u_base_LocalBackground_flag_noPsf',\n",
       " 'z_base_LocalBackground_flag_noGoodPixels',\n",
       " 'z_ext_convolved_ConvolvedFlux_2_6_0_apCorrErr',\n",
       " 'z_modelfit_CModel_flag_badCentroid',\n",
       " 'i_undeblended_ext_convolved_ConvolvedFlux_1_3_3_flag_sincCoeffsTruncated',\n",
       " 'u_ext_convolved_ConvolvedFlux_0_kron_flag_apCorr',\n",
       " 'y_undeblended_base_CircularApertureFlux_17_0_flag_apertureTruncated',\n",
       " 'modelfit_CModel_exp_nonlinear_1',\n",
       " 'g_undeblended_ext_convolved_ConvolvedFlux_1_4_5_flag_apCorr',\n",
       " 'ext_convolved_ConvolvedFlux_flag_badCentroid_resetToPeak',\n",
       " 'r_ext_convolved_ConvolvedFlux_3_4_5_flag_apCorr',\n",
       " 'z_ext_convolved_ConvolvedFlux_0_3_3_flag_apCorr',\n",
       " 'psFlux_flag_r',\n",
       " 'ext_photometryKron_KronFlux_flag_no_fallback_radius',\n",
       " 'z_ext_convolved_ConvolvedFlux_0_3_3_apCorrErr',\n",
       " 'r_modelfit_CModel_flag_badCentroid',\n",
       " 'i_modelfit_DoubleShapeletPsfApprox_0_3',\n",
       " 'r_undeblended_ext_convolved_ConvolvedFlux_flag_badCentroid',\n",
       " 'y_slot_ModelFlux_dev_instFlux_inner',\n",
       " 'IyyPSF',\n",
       " 'g_undeblended_ext_convolved_ConvolvedFlux_1_3_3_flag_sincCoeffsTruncated',\n",
       " 'z_base_PixelFlags_flag_clipped',\n",
       " 'u_base_SdssShape_instFlux_xx_Cov',\n",
       " 'u_ext_convolved_ConvolvedFlux_1_6_0_flag',\n",
       " 'u_base_GaussianFlux_apCorr',\n",
       " 'u_ext_convolved_ConvolvedFlux_0_6_0_flag_apCorr',\n",
       " 'g_undeblended_ext_convolved_ConvolvedFlux_2_4_5_flag',\n",
       " 'i_undeblended_base_CircularApertureFlux_35_0_flag_apertureTruncated',\n",
       " 'slot_PsfShape_y',\n",
       " 'y_ext_convolved_ConvolvedFlux_3_3_3_instFluxErr',\n",
       " 'z_modelfit_DoubleShapeletPsfApprox_1_0',\n",
       " 'base_SdssCentroid_flag_resetToPeak',\n",
       " 'r_base_PsfFlux_apCorrErr',\n",
       " 'g_undeblended_ext_convolved_ConvolvedFlux_3_deconv',\n",
       " 'modelfit_CModel_dev_instFlux_inner',\n",
       " 'z_base_CircularApertureFlux_9_0_flag_apertureTruncated',\n",
       " 'z_undeblended_ext_convolved_ConvolvedFlux_1_6_0_flag_apCorr',\n",
       " 'base_InputCount_flag_badCentroid_badError',\n",
       " 'g_slot_ModelFlux_initial_flag',\n",
       " 'g_ext_convolved_ConvolvedFlux_1_6_0_instFlux',\n",
       " 'z_undeblended_ext_convolved_ConvolvedFlux_0_6_0_flag_sincCoeffsTruncated',\n",
       " 'ext_convolved_ConvolvedFlux_3_4_5_instFlux',\n",
       " 'i_modelfit_CModel_fracDev',\n",
       " 'ext_convolved_ConvolvedFlux_1_3_3_instFluxErr',\n",
       " 'r_base_CircularApertureFlux_35_0_flag',\n",
       " 'u_slot_ModelFlux_instFluxErr',\n",
       " 'modelfit_DoubleShapeletPsfApprox_0_5',\n",
       " 'r_slot_ModelFlux_initial_instFlux',\n",
       " 'i_undeblended_ext_convolved_ConvolvedFlux_0_4_5_flag_apertureTruncated',\n",
       " 'u_slot_PsfFlux_apCorrErr',\n",
       " 'i_base_PixelFlags_flag_suspect',\n",
       " 'g_undeblended_ext_convolved_ConvolvedFlux_3_4_5_flag_apCorr',\n",
       " 'r_base_PixelFlags_flag_inexact_psfCenter',\n",
       " 'r_undeblended_ext_convolved_ConvolvedFlux_0_3_3_instFluxErr',\n",
       " 'u_ext_convolved_ConvolvedFlux_2_3_3_apCorr',\n",
       " 'base_CircularApertureFlux_3_0_flag_apertureTruncated',\n",
       " 'i_ext_convolved_ConvolvedFlux_3_3_3_instFluxErr',\n",
       " 'i_undeblended_ext_convolved_ConvolvedFlux_3_6_0_instFluxErr',\n",
       " 'z_base_CircularApertureFlux_35_0_instFlux',\n",
       " 'i_undeblended_ext_convolved_ConvolvedFlux_1_6_0_instFluxErr',\n",
       " 'g_slot_ModelFlux_dev_apCorr',\n",
       " 'y_modelfit_DoubleShapeletPsfApprox_0_xy',\n",
       " 'g_undeblended_ext_convolved_ConvolvedFlux_2_4_5_apCorrErr',\n",
       " 'slot_ModelFlux_flag_region_maxArea',\n",
       " 'modelfit_CModel_instFluxErr',\n",
       " 'ext_convolved_ConvolvedFlux_1_6_0_flag',\n",
       " 'z_base_TransformedCentroid_y',\n",
       " 'y_base_PixelFlags_flag_cr',\n",
       " 'z_base_CircularApertureFlux_12_0_flag_sincCoeffsTruncated',\n",
       " 'i_undeblended_base_CircularApertureFlux_12_0_instFlux',\n",
       " 'ext_shapeHSM_HsmShapeRegauss_resolution',\n",
       " 'u_base_SdssShape_flag_maxIter',\n",
       " 'u_undeblended_ext_convolved_ConvolvedFlux_1_6_0_instFlux',\n",
       " 'g_ext_convolved_ConvolvedFlux_0_4_5_instFluxErr',\n",
       " 'r_undeblended_base_CircularApertureFlux_6_0_instFluxErr',\n",
       " 'r_undeblended_ext_convolved_ConvolvedFlux_0_6_0_instFlux',\n",
       " 'z_modelfit_CModel_instFluxErr',\n",
       " 'r_ext_convolved_ConvolvedFlux_1_6_0_flag_sincCoeffsTruncated',\n",
       " 'z_undeblended_ext_convolved_ConvolvedFlux_2_4_5_apCorrErr',\n",
       " 'i_modelfit_CModel_dev_flag_numericError',\n",
       " 'r_base_InputCount_flag_badCentroid',\n",
       " 'u_undeblended_ext_convolved_ConvolvedFlux_1_3_3_flag_apertureTruncated',\n",
       " 'r_undeblended_base_CircularApertureFlux_4_5_flag_apertureTruncated',\n",
       " 'g_ext_convolved_ConvolvedFlux_3_kron_instFluxErr',\n",
       " 'y_base_TransformedCentroid_x',\n",
       " 'r_undeblended_ext_convolved_ConvolvedFlux_1_6_0_instFlux',\n",
       " 'y_undeblended_ext_convolved_ConvolvedFlux_2_4_5_apCorrErr',\n",
       " 'ext_shapeHSM_HsmSourceMoments_flag_badCentroid',\n",
       " 'y_base_TransformedShape_yy',\n",
       " 'y_undeblended_base_CircularApertureFlux_6_0_flag_apertureTruncated',\n",
       " 'y_undeblended_ext_convolved_ConvolvedFlux_1_3_3_instFlux',\n",
       " 'slot_ModelFlux_dev_fixed_1',\n",
       " 'ext_shapeHSM_HsmPsfMoments_x',\n",
       " 'r_slot_PsfFlux_apCorr',\n",
       " 'r_ext_photometryKron_KronFlux_flag',\n",
       " 'r_base_PsfFlux_flag_noGoodPixels',\n",
       " 'z_base_CircularApertureFlux_70_0_flag_apertureTruncated',\n",
       " 'y_undeblended_base_CircularApertureFlux_25_0_instFlux',\n",
       " 'i_ext_convolved_ConvolvedFlux_3_kron_flag_apCorr',\n",
       " 'y_ext_photometryKron_KronFlux_flag_bad_radius',\n",
       " 'y_base_SdssCentroid_xErr',\n",
       " 'y_modelfit_CModel_exp_flag_numericError',\n",
       " 'base_SdssShape_xx',\n",
       " 'z_base_SdssShape_psf_xy',\n",
       " 'u_modelfit_CModel_instFlux_inner',\n",
       " 'y_base_CircularApertureFlux_6_0_instFluxErr',\n",
       " 'z_base_CircularApertureFlux_25_0_instFluxErr',\n",
       " 'r_modelfit_CModel_exp_instFluxErr',\n",
       " 'modelfit_CModel_initial_fixed_1',\n",
       " 'r_ext_convolved_ConvolvedFlux_2_4_5_flag',\n",
       " 'g_undeblended_ext_convolved_ConvolvedFlux_1_6_0_instFluxErr',\n",
       " 'z_undeblended_ext_convolved_ConvolvedFlux_3_4_5_apCorrErr',\n",
       " 'r_undeblended_base_CircularApertureFlux_9_0_instFlux',\n",
       " 'i_undeblended_ext_convolved_ConvolvedFlux_3_6_0_flag',\n",
       " 'u_ext_convolved_ConvolvedFlux_0_6_0_apCorrErr',\n",
       " 'tract',\n",
       " 'z_modelfit_CModel_apCorr',\n",
       " 'base_CircularApertureFlux_12_0_flag_apertureTruncated',\n",
       " 'z_undeblended_ext_convolved_ConvolvedFlux_3_deconv',\n",
       " 'u_ext_convolved_ConvolvedFlux_1_kron_flag',\n",
       " 'i_base_SdssShape_instFluxErr',\n",
       " 'y_modelfit_DoubleShapeletPsfApprox_1_x',\n",
       " 'r_undeblended_ext_photometryKron_KronFlux_instFluxErr',\n",
       " 'g_undeblended_ext_photometryKron_KronFlux_psf_radius',\n",
       " 'z_base_SdssShape_instFlux',\n",
       " 'y_ext_convolved_ConvolvedFlux_flag',\n",
       " 'g_base_PsfFlux_instFluxErr',\n",
       " 'g_undeblended_base_CircularApertureFlux_12_0_flag_apertureTruncated',\n",
       " 'g_slot_ModelFlux_dev_apCorrErr',\n",
       " 'slot_ApFlux_flag_sincCoeffsTruncated',\n",
       " 'slot_ModelFlux_initial_nonlinear_2',\n",
       " 'i_slot_ModelFlux_dev_flag_badReference',\n",
       " 'y_ext_convolved_ConvolvedFlux_0_4_5_apCorr',\n",
       " 'u_undeblended_base_CircularApertureFlux_12_0_flag_apertureTruncated',\n",
       " 'u_undeblended_ext_convolved_ConvolvedFlux_3_4_5_instFlux',\n",
       " 'g_base_CircularApertureFlux_12_0_flag',\n",
       " 'i_undeblended_ext_convolved_ConvolvedFlux_0_6_0_instFlux',\n",
       " 'z_ext_convolved_ConvolvedFlux_3_6_0_flag',\n",
       " 'base_PixelFlags_flag_cr',\n",
       " 'z_base_PixelFlags_flag_interpolatedCenter',\n",
       " 'g_modelfit_DoubleShapeletPsfApprox_0_2',\n",
       " 'y_ext_convolved_ConvolvedFlux_3_kron_flag',\n",
       " 'r_ext_convolved_ConvolvedFlux_3_kron_flag',\n",
       " 'modelfit_DoubleShapeletPsfApprox_0_0',\n",
       " 'z_slot_PsfShape_yy',\n",
       " 'ext_convolved_ConvolvedFlux_3_kron_apCorr',\n",
       " 'z_undeblended_base_CircularApertureFlux_70_0_instFluxErr',\n",
       " 'u_undeblended_base_CircularApertureFlux_25_0_instFluxErr',\n",
       " 'ext_convolved_ConvolvedFlux_0_flag_badCentroid_noSecondDerivative',\n",
       " 'ext_convolved_ConvolvedFlux_2_kron_apCorr',\n",
       " 'ext_shapeHSM_HsmSourceMoments_flag_badCentroid_edge',\n",
       " 'g_modelfit_CModel_exp_flag_badReference',\n",
       " 'z_ext_convolved_ConvolvedFlux_3_4_5_apCorrErr',\n",
       " 'y_ext_convolved_ConvolvedFlux_0_3_3_flag',\n",
       " 'y_ext_convolved_ConvolvedFlux_1_6_0_flag_apertureTruncated',\n",
       " 'g_slot_ModelFlux_flag_badCentroid',\n",
       " 'z_undeblended_ext_convolved_ConvolvedFlux_2_4_5_flag_apCorr',\n",
       " 'u_undeblended_ext_convolved_ConvolvedFlux_3_6_0_flag_apCorr',\n",
       " 'ext_photometryKron_KronFlux_flag_bad_shape',\n",
       " 'y_undeblended_ext_convolved_ConvolvedFlux_0_3_3_flag_apCorr',\n",
       " 'g_ext_convolved_ConvolvedFlux_2_4_5_apCorrErr',\n",
       " 'g_slot_ModelFlux_dev_flag',\n",
       " 'slot_PsfFlux_apCorr',\n",
       " 'merge_measurement_z',\n",
       " 'i_undeblended_ext_photometryKron_KronFlux_radius_for_radius',\n",
       " 'y',\n",
       " 'deblend_nChild',\n",
       " 'z_base_PixelFlags_flag_suspectCenter',\n",
       " 'base_CircularApertureFlux_50_0_flag',\n",
       " 'r_modelfit_DoubleShapeletPsfApprox_flag_invalidPointForPsf',\n",
       " 'ext_shapeHSM_HsmSourceMoments_xx',\n",
       " 'i_base_CircularApertureFlux_6_0_flag_apertureTruncated',\n",
       " 'y_base_CircularApertureFlux_4_5_flag_sincCoeffsTruncated',\n",
       " 'i_slot_ModelFlux_fracDev',\n",
       " 'i_undeblended_ext_convolved_ConvolvedFlux_1_4_5_flag_apCorr',\n",
       " 'base_PsfFlux_flag_badCentroid_almostNoSecondDerivative',\n",
       " 'z_modelfit_CModel_exp_flag_apCorr',\n",
       " 'IxyPSF',\n",
       " 'z_slot_ModelFlux_initial_apCorrErr',\n",
       " 'r_ext_convolved_ConvolvedFlux_0_kron_flag_apCorr',\n",
       " 'y_modelfit_DoubleShapeletPsfApprox_0_3',\n",
       " 'r_base_PixelFlags_flag_saturated',\n",
       " 'i_ext_convolved_ConvolvedFlux_3_4_5_flag',\n",
       " 'r_modelfit_DoubleShapeletPsfApprox_flag_badCentroid',\n",
       " 'g_undeblended_ext_convolved_ConvolvedFlux_3_6_0_instFluxErr',\n",
       " 'u_ext_convolved_ConvolvedFlux_3_4_5_instFluxErr',\n",
       " 'g_modelfit_CModel_initial_apCorrErr',\n",
       " 'z_undeblended_ext_photometryKron_KronFlux_flag_edge',\n",
       " 'r_base_PixelFlags_flag_crCenter',\n",
       " 'modelfit_CModel_dev_instFluxErr',\n",
       " 'r_modelfit_DoubleShapeletPsfApprox_flag',\n",
       " 'g_base_TransformedShape_xx',\n",
       " 'y_undeblended_ext_convolved_ConvolvedFlux_0_3_3_flag_apertureTruncated',\n",
       " 'r_ext_convolved_ConvolvedFlux_3_6_0_apCorrErr',\n",
       " 'y_modelfit_CModel_initial_instFlux_inner',\n",
       " 'r_undeblended_ext_convolved_ConvolvedFlux_2_4_5_instFlux',\n",
       " 'u_undeblended_ext_convolved_ConvolvedFlux_0_3_3_instFlux',\n",
       " 'merge_footprint_z',\n",
       " 'r_ext_convolved_ConvolvedFlux_0_flag_badCentroid',\n",
       " 'u_undeblended_base_PsfFlux_instFluxErr',\n",
       " 'i_ext_convolved_ConvolvedFlux_1_kron_instFluxErr',\n",
       " 'y_undeblended_ext_convolved_ConvolvedFlux_3_4_5_apCorrErr',\n",
       " 'r_modelfit_CModel_initial_flag',\n",
       " 'z_undeblended_ext_convolved_ConvolvedFlux_flag',\n",
       " 'r_modelfit_DoubleShapeletPsfApprox_1_x',\n",
       " 'r_ext_convolved_ConvolvedFlux_2_6_0_flag_sincCoeffsTruncated',\n",
       " 'g_undeblended_ext_convolved_ConvolvedFlux_3_6_0_flag_apCorr',\n",
       " 'base_SdssShape_xxErr',\n",
       " 'z_modelfit_DoubleShapeletPsfApprox_0_xx',\n",
       " 'y_modelfit_CModel_dev_flag',\n",
       " 'i_slot_ModelFlux_exp_flag',\n",
       " 'z_ext_convolved_ConvolvedFlux_1_4_5_flag_sincCoeffsTruncated',\n",
       " 'ext_convolved_ConvolvedFlux_0_kron_instFluxErr',\n",
       " 'y_base_PixelFlags_flag_saturated',\n",
       " 'ext_shapeHSM_HsmShapeRegauss_e1',\n",
       " 'i_ext_convolved_ConvolvedFlux_3_kron_instFlux',\n",
       " 'g_ext_convolved_ConvolvedFlux_3_4_5_flag_apertureTruncated',\n",
       " 'y_undeblended_ext_convolved_ConvolvedFlux_0_kron_instFluxErr',\n",
       " 'y_undeblended_ext_convolved_ConvolvedFlux_0_3_3_apCorr',\n",
       " 'g_ext_convolved_ConvolvedFlux_3_6_0_flag_sincCoeffsTruncated',\n",
       " 'i_base_PsfFlux_apCorr',\n",
       " 'i_modelfit_CModel_initial_instFlux',\n",
       " 'i_ext_convolved_ConvolvedFlux_0_kron_flag',\n",
       " 'ext_convolved_ConvolvedFlux_flag',\n",
       " 'g_undeblended_base_CircularApertureFlux_3_0_instFluxErr',\n",
       " 'base_CircularApertureFlux_3_0_instFluxErr',\n",
       " 'g_ext_convolved_ConvolvedFlux_seeing',\n",
       " 'modelfit_CModel_initial_nonlinear_1',\n",
       " 'y_modelfit_DoubleShapeletPsfApprox_1_0',\n",
       " 'g_base_CircularApertureFlux_6_0_flag',\n",
       " 'u_ext_convolved_ConvolvedFlux_3_4_5_flag_apertureTruncated',\n",
       " 'u_ext_convolved_ConvolvedFlux_3_3_3_instFluxErr',\n",
       " 'i_modelfit_CModel_initial_flag',\n",
       " 'i_modelfit_DoubleShapeletPsfApprox_1_x',\n",
       " 'z_undeblended_ext_convolved_ConvolvedFlux_2_kron_flag_apCorr',\n",
       " ...]"
      ]
     },
     "execution_count": 7,
     "metadata": {},
     "output_type": "execute_result"
    }
   ],
   "source": [
    "gc_obs.list_all_quantities(include_native=True)"
   ]
  },
  {
   "cell_type": "code",
   "execution_count": 8,
   "metadata": {},
   "outputs": [
    {
     "data": {
      "text/plain": [
       "['mag_i_lsst_no_host_extinction',\n",
       " 'SDSS_filters/diskLuminositiesStellar:SDSS_g:rest',\n",
       " 'totalMassStellar',\n",
       " 'SEDs/diskLuminositiesStellar:SED_6954_431:rest:dustAtlas',\n",
       " 'LSST_filters/totalLuminositiesStellar:LSST_i:observed:dustAtlas',\n",
       " 'Mag_true_r_sdss_z0_no_host_extinction',\n",
       " 'sed_3184_197',\n",
       " 'LSST_filters/magnitude:LSST_z:rest',\n",
       " 'SEDs/diskLuminositiesStellar:SED_4565_283:rest:dustAtlas',\n",
       " 'SDSS_filters/spheroidLuminositiesStellar:SDSS_g:observed',\n",
       " 'SDSS_filters/diskLuminositiesStellar:SDSS_z:observed',\n",
       " 'sed_4299_266',\n",
       " 'SEDs/diskLuminositiesStellar:SED_2998_186:rest',\n",
       " 'hostHaloMass',\n",
       " 'SEDs/diskLuminositiesStellar:SED_2407_591:rest',\n",
       " 'sed_2407_591',\n",
       " 'morphology/diskMajorAxisArcsec',\n",
       " 'sed_2998_186',\n",
       " 'SEDs/diskLuminositiesStellar:SED_7385_458:rest:dustAtlas',\n",
       " 'LSST_filters/diskLuminositiesStellar:LSST_i:observed:dustAtlas',\n",
       " 'sed_7843_486_disk',\n",
       " 'baseDC2/_obs_sm_orig_um_snap',\n",
       " 'SDSS_filters/spheroidLuminositiesStellar:SDSS_z:rest',\n",
       " 'baseDC2/vx',\n",
       " 'sed_1000_246_disk',\n",
       " 'LSST_filters/totalLuminositiesStellar:LSST_y:observed',\n",
       " 'spinSpin',\n",
       " 'SEDs/spheroidLuminositiesStellar:SED_3590_222:rest:dustAtlas',\n",
       " 'LSST_filters/totalLuminositiesStellar:LSST_z:rest',\n",
       " 'SDSS_filters/diskLuminositiesStellar:SDSS_g:observed',\n",
       " 'SDSS_filters/magnitude:SDSS_i:rest:dustAtlas',\n",
       " 'sed_4848_300_bulge_no_host_extinction',\n",
       " 'sed_7385_458_no_host_extinction',\n",
       " 'LSST_filters/magnitude:LSST_r:observed:dustAtlas',\n",
       " 'emissionLines/spheroidLineLuminosity:oxygenIII5007',\n",
       " 'emissionLines/spheroidLineLuminosity:oxygenII3729',\n",
       " 'sed_5148_319_no_host_extinction',\n",
       " 'SDSS_filters/spheroidLuminositiesStellar:SDSS_u:observed:dustAtlas',\n",
       " 'SEDs/totalLuminositiesStellar:SED_3590_222:rest:dustAtlas',\n",
       " 'baseDC2/target_halo_mass',\n",
       " 'ellipticity_1_bulge_true',\n",
       " 'emissionLines/diskLineLuminosity:sulfurII6731',\n",
       " 'Mag_true_y_lsst_z0',\n",
       " 'SEDs/totalLuminositiesStellar:SED_3381_209:rest:dustAtlas',\n",
       " 'SEDs/totalLuminositiesStellar:SED_5467_339:rest:dustAtlas',\n",
       " 'SDSS_filters/magnitude:SDSS_g:observed',\n",
       " 'mag_r_lsst',\n",
       " 'SEDs/diskLuminositiesStellar:SED_3812_236:rest:dustAtlas',\n",
       " 'blackHoleMass',\n",
       " 'sed_3184_197_bulge_no_host_extinction',\n",
       " 'SEDs/totalLuminositiesStellar:SED_8846_549:rest',\n",
       " 'sed_1552_381',\n",
       " 'LSST_filters/spheroidLuminositiesStellar:LSST_g:observed',\n",
       " 'position_y',\n",
       " 'mag_z_sdss',\n",
       " 'matchUp/luminosityFactor',\n",
       " 'SDSS_filters/totalLuminositiesStellar:SDSS_r:rest',\n",
       " 'SDSS_filters/totalLuminositiesStellar:SDSS_u:rest:dustAtlas',\n",
       " 'sed_3381_209_disk_no_host_extinction',\n",
       " 'galaxyID',\n",
       " 'emissionLines/totalLineLuminosity:oxygenII3729',\n",
       " 'LSST_filters/spheroidLuminositiesStellar:LSST_g:observed:dustAtlas',\n",
       " 'LSST_filters/diskLuminositiesStellar:LSST_g:rest',\n",
       " 'SDSS_filters/diskLuminositiesStellar:SDSS_z:observed:dustAtlas',\n",
       " 'baseDC2/mpeak',\n",
       " 'SEDs/totalLuminositiesStellar:SED_3381_209:rest',\n",
       " 'LSST_filters/magnitude:LSST_z:observed:dustAtlas',\n",
       " 'redshiftHubble',\n",
       " 'SDSS_filters/magnitude:SDSS_g:observed:dustAtlas',\n",
       " 'R_v_disk',\n",
       " 'SEDs/spheroidLuminositiesStellar:SED_6548_406:rest:dustAtlas',\n",
       " 'mag_true_g_lsst_no_host_extinction',\n",
       " 'mag_true_u_sdss',\n",
       " 'LSST_filters/diskLuminositiesStellar:LSST_y:rest:dustAtlas',\n",
       " 'otherLuminosities/spheroidLuminositiesStellar:Lyc:rest',\n",
       " 'baseDC2/obs_sfr',\n",
       " 'SDSS_filters/magnitude:SDSS_r:rest',\n",
       " 'SEDs/diskLuminositiesStellar:SED_3381_209:rest:dustAtlas',\n",
       " 'sed_1246_306_bulge',\n",
       " 'SEDs/spheroidLuminositiesStellar:SED_4565_283:rest',\n",
       " 'sed_3812_236_disk_no_host_extinction',\n",
       " 'SEDs/spheroidLuminositiesStellar:SED_1000_246:rest:dustAtlas',\n",
       " 'morphology/totalSersicIndex',\n",
       " 'sed_3812_236_disk',\n",
       " 'SEDs/spheroidLuminositiesStellar:SED_4299_266:rest',\n",
       " 'baseDC2/z',\n",
       " 'sed_4848_300',\n",
       " 'mag_u_lsst',\n",
       " 'SEDs/spheroidLuminositiesStellar:SED_4848_300:rest',\n",
       " 'otherLuminosities/diskLuminositiesStellar:Lyc:rest',\n",
       " 'LSST_filters/diskLuminositiesStellar:LSST_g:rest:dustAtlas',\n",
       " 'LSST_filters/totalLuminositiesStellar:LSST_g:observed',\n",
       " 'baseDC2/upid',\n",
       " 'SEDs/diskLuminositiesStellar:SED_8329_517:rest:dustAtlas',\n",
       " 'SEDs/totalLuminositiesStellar:SED_3184_197:rest:dustAtlas',\n",
       " 'SEDs/totalLuminositiesStellar:SED_6548_406:rest:dustAtlas',\n",
       " 'SEDs/totalLuminositiesStellar:SED_11467_1710:rest:dustAtlas',\n",
       " 'sed_5148_319_disk_no_host_extinction',\n",
       " 'SDSS_filters/magnitude:SDSS_i:observed:dustAtlas',\n",
       " 'mag_true_z_lsst',\n",
       " 'baseDC2/redshift',\n",
       " 'SEDs/spheroidLuminositiesStellar:SED_1933_474:rest',\n",
       " 'blackHoleAccretionRate',\n",
       " 'emissionLines/spheroidLineLuminosity:oxygenIII4959',\n",
       " 'morphology/spheroidSersicIndex',\n",
       " 'SEDs/diskLuminositiesStellar:SED_1000_246:rest',\n",
       " 'sed_2998_186_no_host_extinction',\n",
       " 'morphology/positionAngle',\n",
       " 'SEDs/spheroidLuminositiesStellar:SED_8329_517:rest:dustAtlas',\n",
       " 'sed_11467_1710',\n",
       " 'baseDC2/target_halo_z',\n",
       " 'baseDC2/target_halo_fof_halo_id',\n",
       " 'mag_i_sdss_no_host_extinction',\n",
       " 'sed_6548_406_disk',\n",
       " 'sed_3812_236_bulge',\n",
       " 'sed_5806_360_disk',\n",
       " 'SEDs/spheroidLuminositiesStellar:SED_3184_197:rest',\n",
       " 'sed_1246_306_disk_no_host_extinction',\n",
       " 'LSST_filters/diskLuminositiesStellar:LSST_r:observed:dustAtlas',\n",
       " 'LSST_filters/totalLuminositiesStellar:LSST_u:rest:dustAtlas',\n",
       " 'SEDs/spheroidLuminositiesStellar:SED_4048_251:rest',\n",
       " 'LSST_filters/diskLuminositiesStellar:LSST_u:rest:dustAtlas',\n",
       " 'sed_4299_266_no_host_extinction',\n",
       " 'Mag_true_i_lsst_z0_no_host_extinction',\n",
       " 'sed_8846_549_bulge_no_host_extinction',\n",
       " 'mag_true_g_lsst',\n",
       " 'matchUp/dustFactor',\n",
       " 'SDSS_filters/diskLuminositiesStellar:SDSS_u:observed',\n",
       " 'sed_5467_339_disk_no_host_extinction',\n",
       " 'morphology/diskEllipticity1',\n",
       " 'z',\n",
       " 'SEDs/diskLuminositiesStellar:SED_4048_251:rest:dustAtlas',\n",
       " 'mag_true_u_lsst',\n",
       " 'mag_true_g_sdss_no_host_extinction',\n",
       " 'LSST_filters/diskLuminositiesStellar:LSST_i:rest',\n",
       " 'SDSS_filters/magnitude:SDSS_u:observed:dustAtlas',\n",
       " 'SDSS_filters/magnitude:SDSS_u:rest',\n",
       " 'position_x',\n",
       " 'morphology/spheroidHalfLightRadius',\n",
       " 'SEDs/totalLuminositiesStellar:SED_4565_283:rest',\n",
       " 'baseDC2/lightcone_id',\n",
       " 'SDSS_filters/diskLuminositiesStellar:SDSS_u:observed:dustAtlas',\n",
       " 'sed_4299_266_disk',\n",
       " 'sed_9395_583_bulge_no_host_extinction',\n",
       " 'sed_9395_583',\n",
       " 'LSST_filters/totalLuminositiesStellar:LSST_z:observed:dustAtlas',\n",
       " 'LSST_filters/totalLuminositiesStellar:LSST_i:rest:dustAtlas',\n",
       " 'SEDs/diskLuminositiesStellar:SED_6166_382:rest:dustAtlas',\n",
       " 'SEDs/totalLuminositiesStellar:SED_6954_431:rest',\n",
       " 'sed_2998_186_disk',\n",
       " 'diskVelocity',\n",
       " 'LSST_filters/totalLuminositiesStellar:LSST_g:rest',\n",
       " 'emissionLines/totalLineLuminosity:oxygenII3726',\n",
       " 'baseDC2/vmax',\n",
       " 'emissionLines/diskLineLuminosity:oxygenIII4959',\n",
       " 'mag_i_lsst',\n",
       " 'SEDs/diskLuminositiesStellar:SED_3184_197:rest',\n",
       " 'baseDC2/host_halo_mvir',\n",
       " 'sed_1552_381_disk_no_host_extinction',\n",
       " 'SDSS_filters/totalLuminositiesStellar:SDSS_g:rest:dustAtlas',\n",
       " 'sed_6954_431',\n",
       " 'sed_8329_517',\n",
       " 'sed_5148_319',\n",
       " 'sed_7843_486',\n",
       " 'LSST_filters/diskLuminositiesStellar:LSST_i:observed',\n",
       " 'baseDC2/lightcone_replication',\n",
       " 'sed_3381_209_bulge',\n",
       " 'sed_3812_236_no_host_extinction',\n",
       " 'bulge_to_total_ratio_i',\n",
       " 'diskMassStellar',\n",
       " 'LSST_filters/magnitude:LSST_z:rest:dustAtlas',\n",
       " 'SEDs/totalLuminositiesStellar:SED_9395_583:rest',\n",
       " 'morphology/spheroidEllipticity',\n",
       " 'emissionLines/diskLineLuminosity:oxygenIII5007',\n",
       " 'Mag_true_z_lsst_z0_no_host_extinction',\n",
       " 'sed_11467_1710_bulge',\n",
       " 'SEDs/spheroidLuminositiesStellar:SED_7385_458:rest:dustAtlas',\n",
       " 'diskAbundancesStellarMetals',\n",
       " 'blackHoleEddingtonRatio',\n",
       " 'SDSS_filters/totalLuminositiesStellar:SDSS_u:rest',\n",
       " 'stellar_mass',\n",
       " 'sed_6548_406',\n",
       " 'sed_9978_1489_bulge_no_host_extinction',\n",
       " 'baseDC2/host_centric_z',\n",
       " 'LSST_filters/diskLuminositiesStellar:LSST_y:observed:dustAtlas',\n",
       " 'sed_9978_1489',\n",
       " 'SDSS_filters/magnitude:SDSS_u:rest:dustAtlas',\n",
       " 'SEDs/totalLuminositiesStellar:SED_6166_382:rest',\n",
       " 'LSST_filters/magnitude:LSST_y:observed:dustAtlas',\n",
       " 'sed_5148_319_disk',\n",
       " 'SEDs/totalLuminositiesStellar:SED_17402_2596:rest',\n",
       " 'SDSS_filters/spheroidLuminositiesStellar:SDSS_u:rest',\n",
       " 'SEDs/spheroidLuminositiesStellar:SED_7843_486:rest:dustAtlas',\n",
       " 'mag_true_r_sdss',\n",
       " 'LSST_filters/totalLuminositiesStellar:LSST_y:rest:dustAtlas',\n",
       " 'baseDC2/hostid',\n",
       " 'morphology/spheroidEllipticity2',\n",
       " 'LSST_filters/spheroidLuminositiesStellar:LSST_u:rest:dustAtlas',\n",
       " 'sed_1933_474_disk',\n",
       " 'morphology/diskEllipticity2',\n",
       " 'sed_1552_381_bulge',\n",
       " 'sed_7385_458_disk_no_host_extinction',\n",
       " 'SEDs/diskLuminositiesStellar:SED_5148_319:rest',\n",
       " 'sed_4565_283_disk',\n",
       " 'LSST_filters/magnitude:LSST_i:rest',\n",
       " 'SDSS_filters/totalLuminositiesStellar:SDSS_z:observed',\n",
       " 'sed_4299_266_disk_no_host_extinction',\n",
       " 'baseDC2/target_halo_x',\n",
       " 'SEDs/totalLuminositiesStellar:SED_3812_236:rest:dustAtlas',\n",
       " 'sed_1933_474_no_host_extinction',\n",
       " 'step',\n",
       " 'SEDs/diskLuminositiesStellar:SED_9395_583:rest:dustAtlas',\n",
       " 'SEDs/totalLuminositiesStellar:SED_4299_266:rest',\n",
       " 'x',\n",
       " 'ellipticity_1_disk_true',\n",
       " 'SEDs/spheroidLuminositiesStellar:SED_7385_458:rest',\n",
       " 'SEDs/spheroidLuminositiesStellar:SED_1246_306:rest:dustAtlas',\n",
       " 'sed_15143_2259',\n",
       " 'SDSS_filters/diskLuminositiesStellar:SDSS_z:rest',\n",
       " 'SEDs/spheroidLuminositiesStellar:SED_9978_1489:rest:dustAtlas',\n",
       " 'SEDs/spheroidLuminositiesStellar:SED_6166_382:rest',\n",
       " 'SEDs/diskLuminositiesStellar:SED_8329_517:rest',\n",
       " 'SEDs/totalLuminositiesStellar:SED_1246_306:rest:dustAtlas',\n",
       " 'SEDs/spheroidLuminositiesStellar:SED_2998_186:rest:dustAtlas',\n",
       " 'SDSS_filters/magnitude:SDSS_g:rest',\n",
       " 'emissionLines/spheroidLineLuminosity:nitrogenII6584',\n",
       " 'morphology/totalEllipticity1',\n",
       " 'sed_2998_186_bulge_no_host_extinction',\n",
       " 'sed_7385_458_bulge_no_host_extinction',\n",
       " 'SEDs/diskLuminositiesStellar:SED_4299_266:rest',\n",
       " 'sed_4048_251_bulge_no_host_extinction',\n",
       " 'sed_3184_197_bulge',\n",
       " 'SEDs/diskLuminositiesStellar:SED_7385_458:rest',\n",
       " 'SEDs/diskLuminositiesStellar:SED_7843_486:rest',\n",
       " 'LSST_filters/magnitude:LSST_u:observed',\n",
       " 'SDSS_filters/diskLuminositiesStellar:SDSS_i:rest:dustAtlas',\n",
       " 'SEDs/spheroidLuminositiesStellar:SED_17402_2596:rest:dustAtlas',\n",
       " 'totalStarFormationRate',\n",
       " 'SEDs/totalLuminositiesStellar:SED_1246_306:rest',\n",
       " 'SEDs/totalLuminositiesStellar:SED_8329_517:rest:dustAtlas',\n",
       " 'Mag_true_g_lsst_z0',\n",
       " 'sed_9978_1489_no_host_extinction',\n",
       " 'sed_7385_458',\n",
       " 'sed_5467_339_disk',\n",
       " 'sed_4565_283_no_host_extinction',\n",
       " 'morphology/diskHalfLightRadius',\n",
       " 'sed_3184_197_disk_no_host_extinction',\n",
       " 'baseDC2/vy',\n",
       " 'sed_4048_251_bulge',\n",
       " 'SEDs/spheroidLuminositiesStellar:SED_3812_236:rest',\n",
       " 'vx',\n",
       " 'sed_4565_283_bulge_no_host_extinction',\n",
       " 'sed_9978_1489_disk_no_host_extinction',\n",
       " 'sed_4048_251_no_host_extinction',\n",
       " 'sed_4048_251_disk_no_host_extinction',\n",
       " 'mag_true_z_sdss',\n",
       " 'size_bulge_true',\n",
       " 'sed_15143_2259_bulge',\n",
       " 'mag_Y_lsst_no_host_extinction',\n",
       " 'sed_7843_486_disk_no_host_extinction',\n",
       " 'LSST_filters/magnitude:LSST_i:observed',\n",
       " 'isCentral',\n",
       " 'sed_3381_209_no_host_extinction',\n",
       " 'baseDC2/target_halo_id',\n",
       " 'mag_true_u_sdss_no_host_extinction',\n",
       " 'sed_1000_246',\n",
       " 'shear_2',\n",
       " 'sed_3184_197_disk',\n",
       " 'LSST_filters/magnitude:LSST_g:observed',\n",
       " 'SDSS_filters/diskLuminositiesStellar:SDSS_g:observed:dustAtlas',\n",
       " 'sed_3590_222_bulge',\n",
       " 'SDSS_filters/totalLuminositiesStellar:SDSS_u:observed:dustAtlas',\n",
       " 'SEDs/totalLuminositiesStellar:SED_13177_1966:rest',\n",
       " 'morphology/spheroidMinorAxisArcsec',\n",
       " 'ellipticity_bulge_true',\n",
       " 'LSST_filters/magnitude:LSST_y:rest:dustAtlas',\n",
       " 'otherLuminosities/spheroidLuminositiesStellar:HeliumContinuum:rest:dustAtlas',\n",
       " 'morphology/spheroidHalfLightRadiusArcsec',\n",
       " 'SEDs/spheroidLuminositiesStellar:SED_4565_283:rest:dustAtlas',\n",
       " 'mag_true_Y_lsst',\n",
       " 'sed_3381_209_bulge_no_host_extinction',\n",
       " 'sed_5148_319_bulge_no_host_extinction',\n",
       " 'SDSS_filters/magnitude:SDSS_i:rest',\n",
       " 'otherLuminosities/spheroidLuminositiesStellar:OxygenContinuum:rest',\n",
       " 'sed_7385_458_bulge',\n",
       " 'SEDs/totalLuminositiesStellar:SED_4048_251:rest:dustAtlas',\n",
       " 'mag_g_lsst',\n",
       " 'uniqueHaloID',\n",
       " 'baseDC2/host_halo_y',\n",
       " 'SEDs/spheroidLuminositiesStellar:SED_9978_1489:rest',\n",
       " 'LSST_filters/totalLuminositiesStellar:LSST_g:rest:dustAtlas',\n",
       " 'SEDs/diskLuminositiesStellar:SED_13177_1966:rest:dustAtlas',\n",
       " 'baseDC2/target_halo_vz',\n",
       " 'baseDC2/host_centric_y',\n",
       " 'sed_13177_1966_no_host_extinction',\n",
       " 'SEDs/spheroidLuminositiesStellar:SED_11467_1710:rest:dustAtlas',\n",
       " 'sed_7843_486_bulge_no_host_extinction',\n",
       " 'LSST_filters/diskLuminositiesStellar:LSST_i:rest:dustAtlas',\n",
       " 'SDSS_filters/diskLuminositiesStellar:SDSS_i:observed:dustAtlas',\n",
       " 'mag_true_i_sdss_no_host_extinction',\n",
       " 'SEDs/totalLuminositiesStellar:SED_13177_1966:rest:dustAtlas',\n",
       " 'SEDs/totalLuminositiesStellar:SED_4848_300:rest:dustAtlas',\n",
       " 'SDSS_filters/totalLuminositiesStellar:SDSS_r:rest:dustAtlas',\n",
       " 'shear_1',\n",
       " 'SEDs/totalLuminositiesStellar:SED_15143_2259:rest:dustAtlas',\n",
       " 'emissionLines/diskLineLuminosity:balmerBeta4861',\n",
       " 'SDSS_filters/totalLuminositiesStellar:SDSS_i:observed:dustAtlas',\n",
       " 'A_v',\n",
       " 'sed_11467_1710_disk',\n",
       " 'LSST_filters/magnitude:LSST_r:rest:dustAtlas',\n",
       " 'morphology/totalEllipticity2',\n",
       " 'SDSS_filters/diskLuminositiesStellar:SDSS_r:observed:dustAtlas',\n",
       " 'LSST_filters/totalLuminositiesStellar:LSST_r:rest:dustAtlas',\n",
       " 'SEDs/diskLuminositiesStellar:SED_1000_246:rest:dustAtlas',\n",
       " 'sed_4848_300_bulge',\n",
       " 'mag_true_y_lsst_no_host_extinction',\n",
       " 'sed_8329_517_disk_no_host_extinction',\n",
       " 'SDSS_filters/diskLuminositiesStellar:SDSS_r:observed',\n",
       " 'sed_6166_382',\n",
       " 'SEDs/totalLuminositiesStellar:SED_6954_431:rest:dustAtlas',\n",
       " 'sed_3381_209_disk',\n",
       " 'LSST_filters/magnitude:LSST_y:rest',\n",
       " 'LSST_filters/totalLuminositiesStellar:LSST_r:rest',\n",
       " 'LSST_filters/spheroidLuminositiesStellar:LSST_r:rest',\n",
       " 'emissionLines/spheroidLineLuminosity:oxygenII3726',\n",
       " 'ellipticity_2_disk_true',\n",
       " 'SEDs/diskLuminositiesStellar:SED_1552_381:rest:dustAtlas',\n",
       " 'SEDs/diskLuminositiesStellar:SED_9395_583:rest',\n",
       " 'SEDs/diskLuminositiesStellar:SED_3590_222:rest',\n",
       " 'halo_id',\n",
       " 'SDSS_filters/diskLuminositiesStellar:SDSS_r:rest:dustAtlas',\n",
       " 'baseDC2/is_on_red_sequence_gr',\n",
       " 'SDSS_filters/totalLuminositiesStellar:SDSS_r:observed:dustAtlas',\n",
       " 'LSST_filters/diskLuminositiesStellar:LSST_z:rest:dustAtlas',\n",
       " 'SEDs/totalLuminositiesStellar:SED_17402_2596:rest:dustAtlas',\n",
       " 'SDSS_filters/totalLuminositiesStellar:SDSS_i:observed',\n",
       " 'SDSS_filters/magnitude:SDSS_z:observed',\n",
       " 'sed_11467_1710_no_host_extinction',\n",
       " 'mag_true_i',\n",
       " 'SEDs/spheroidLuminositiesStellar:SED_11467_1710:rest',\n",
       " 'sed_3590_222_bulge_no_host_extinction',\n",
       " 'SEDs/totalLuminositiesStellar:SED_8846_549:rest:dustAtlas',\n",
       " 'Mag_true_z_sdss_z0_no_host_extinction',\n",
       " 'baseDC2/source_halo_mvir',\n",
       " 'SDSS_filters/spheroidLuminositiesStellar:SDSS_r:observed',\n",
       " 'morphology/diskHalfLightRadiusArcsec',\n",
       " 'LSST_filters/spheroidLuminositiesStellar:LSST_i:rest',\n",
       " 'morphology/diskAxisRatio',\n",
       " 'Mag_true_Y_lsst_z0',\n",
       " 'mag_true_y',\n",
       " 'sed_11467_1710_disk_no_host_extinction',\n",
       " 'LSST_filters/magnitude:LSST_r:rest',\n",
       " 'SEDs/diskLuminositiesStellar:SED_4848_300:rest:dustAtlas',\n",
       " 'SEDs/spheroidLuminositiesStellar:SED_5467_339:rest',\n",
       " 'sed_6954_431_no_host_extinction',\n",
       " 'SEDs/diskLuminositiesStellar:SED_11467_1710:rest:dustAtlas',\n",
       " 'SEDs/diskLuminositiesStellar:SED_1552_381:rest',\n",
       " 'LSST_filters/diskLuminositiesStellar:LSST_r:observed',\n",
       " 'redshift_true',\n",
       " 'baseDC2/vz',\n",
       " 'otherLuminosities/diskLuminositiesStellar:V:rest:dustAtlas',\n",
       " 'mag_true_u',\n",
       " 'baseDC2/lightcone_rotation',\n",
       " 'SDSS_filters/diskLuminositiesStellar:SDSS_u:rest:dustAtlas',\n",
       " 'SDSS_filters/totalLuminositiesStellar:SDSS_g:observed:dustAtlas',\n",
       " 'sed_8329_517_bulge',\n",
       " 'SEDs/totalLuminositiesStellar:SED_9978_1489:rest:dustAtlas',\n",
       " 'emissionLines/totalLineLuminosity:sulfurII6731',\n",
       " 'sed_4565_283_disk_no_host_extinction',\n",
       " 'SEDs/diskLuminositiesStellar:SED_6548_406:rest',\n",
       " 'otherLuminosities/totalLuminositiesStellar:V:rest:dustAtlas',\n",
       " 'sed_6166_382_no_host_extinction',\n",
       " 'LSST_filters/totalLuminositiesStellar:LSST_r:observed:dustAtlas',\n",
       " 'SEDs/spheroidLuminositiesStellar:SED_1246_306:rest',\n",
       " 'SEDs/totalLuminositiesStellar:SED_1552_381:rest',\n",
       " 'SEDs/totalLuminositiesStellar:SED_2998_186:rest',\n",
       " 'baseDC2/sfr_percentile',\n",
       " 'baseDC2/y',\n",
       " 'otherLuminosities/totalLuminositiesStellar:OxygenContinuum:rest:dustAtlas',\n",
       " 'sed_1933_474_bulge',\n",
       " 'baseDC2/host_halo_x',\n",
       " 'LSST_filters/totalLuminositiesStellar:LSST_u:rest',\n",
       " 'mag_u_lsst_no_host_extinction',\n",
       " 'SDSS_filters/diskLuminositiesStellar:SDSS_i:rest',\n",
       " 'ellipticity_disk_true',\n",
       " 'sed_6548_406_bulge',\n",
       " 'LSST_filters/magnitude:LSST_i:observed:dustAtlas',\n",
       " 'SEDs/spheroidLuminositiesStellar:SED_5806_360:rest:dustAtlas',\n",
       " 'sed_15143_2259_no_host_extinction',\n",
       " 'SEDs/spheroidLuminositiesStellar:SED_5806_360:rest',\n",
       " 'Mag_true_z_sdss_z0',\n",
       " 'LSST_filters/diskLuminositiesStellar:LSST_r:rest',\n",
       " 'SEDs/diskLuminositiesStellar:SED_5806_360:rest:dustAtlas',\n",
       " 'otherLuminosities/spheroidLuminositiesStellar:HeliumContinuum:rest',\n",
       " 'R_v_bulge',\n",
       " 'dec',\n",
       " 'otherLuminosities/totalLuminositiesStellar:B:rest',\n",
       " 'SEDs/spheroidLuminositiesStellar:SED_1552_381:rest:dustAtlas',\n",
       " 'LSST_filters/diskLuminositiesStellar:LSST_y:rest',\n",
       " 'SEDs/spheroidLuminositiesStellar:SED_6954_431:rest',\n",
       " 'SEDs/spheroidLuminositiesStellar:SED_6166_382:rest:dustAtlas',\n",
       " 'otherLuminosities/spheroidLuminositiesStellar:Lyc:rest:dustAtlas',\n",
       " 'morphology/totalEllipticity',\n",
       " 'sed_6166_382_bulge_no_host_extinction',\n",
       " 'LSST_filters/spheroidLuminositiesStellar:LSST_u:observed',\n",
       " 'Mag_true_i_lsst_z0',\n",
       " 'SEDs/diskLuminositiesStellar:SED_15143_2259:rest:dustAtlas',\n",
       " 'baseDC2/sfr',\n",
       " 'LSST_filters/spheroidLuminositiesStellar:LSST_u:rest',\n",
       " 'emissionLines/diskLineLuminosity:balmerAlpha6563',\n",
       " 'SDSS_filters/totalLuminositiesStellar:SDSS_i:rest',\n",
       " 'SDSS_filters/spheroidLuminositiesStellar:SDSS_g:rest:dustAtlas',\n",
       " 'LSST_filters/totalLuminositiesStellar:LSST_y:observed:dustAtlas',\n",
       " 'sed_5148_319_bulge',\n",
       " 'SEDs/totalLuminositiesStellar:SED_5148_319:rest',\n",
       " 'LSST_filters/totalLuminositiesStellar:LSST_u:observed:dustAtlas',\n",
       " 'infallIndex',\n",
       " 'mag_true_u_lsst_no_host_extinction',\n",
       " 'Mag_true_u_lsst_z0',\n",
       " 'sed_5806_360_bulge',\n",
       " 'SEDs/diskLuminositiesStellar:SED_6166_382:rest',\n",
       " 'baseDC2/host_halo_vy',\n",
       " 'sed_1933_474',\n",
       " 'SEDs/diskLuminositiesStellar:SED_3381_209:rest',\n",
       " 'SEDs/spheroidLuminositiesStellar:SED_5148_319:rest:dustAtlas',\n",
       " 'SDSS_filters/diskLuminositiesStellar:SDSS_g:rest:dustAtlas',\n",
       " 'LSST_filters/magnitude:LSST_i:rest:dustAtlas',\n",
       " 'baseDC2/obs_sfr_percentile',\n",
       " 'Mag_true_g_sdss_z0',\n",
       " 'LSST_filters/spheroidLuminositiesStellar:LSST_i:observed',\n",
       " 'LSST_filters/diskLuminositiesStellar:LSST_z:rest',\n",
       " 'SEDs/spheroidLuminositiesStellar:SED_17402_2596:rest',\n",
       " 'SDSS_filters/magnitude:SDSS_r:observed',\n",
       " 'SDSS_filters/totalLuminositiesStellar:SDSS_z:rest',\n",
       " 'SDSS_filters/magnitude:SDSS_g:rest:dustAtlas',\n",
       " 'baseDC2/host_halo_vx',\n",
       " 'spheroidMassStellar',\n",
       " 'SDSS_filters/totalLuminositiesStellar:SDSS_z:observed:dustAtlas',\n",
       " 'SEDs/totalLuminositiesStellar:SED_1000_246:rest',\n",
       " 'sed_8329_517_bulge_no_host_extinction',\n",
       " 'LSST_filters/spheroidLuminositiesStellar:LSST_u:observed:dustAtlas',\n",
       " 'sed_6548_406_disk_no_host_extinction',\n",
       " 'mag_true_i_lsst',\n",
       " 'SDSS_filters/spheroidLuminositiesStellar:SDSS_r:rest:dustAtlas',\n",
       " 'LSST_filters/spheroidLuminositiesStellar:LSST_y:rest',\n",
       " 'SDSS_filters/spheroidLuminositiesStellar:SDSS_r:rest',\n",
       " 'otherLuminosities/diskLuminositiesStellar:HeliumContinuum:rest',\n",
       " 'LSST_filters/diskLuminositiesStellar:LSST_u:observed',\n",
       " 'morphology/diskSersicIndex',\n",
       " 'mag_true_g_sdss',\n",
       " 'SDSS_filters/spheroidLuminositiesStellar:SDSS_g:rest',\n",
       " 'sed_6954_431_disk_no_host_extinction',\n",
       " 'SEDs/spheroidLuminositiesStellar:SED_15143_2259:rest',\n",
       " 'SEDs/totalLuminositiesStellar:SED_7843_486:rest:dustAtlas',\n",
       " 'sed_3590_222_disk_no_host_extinction',\n",
       " 'SEDs/spheroidLuminositiesStellar:SED_9395_583:rest',\n",
       " 'otherLuminosities/totalLuminositiesStellar:HeliumContinuum:rest',\n",
       " 'totalVelocity',\n",
       " 'mag_g_sdss_no_host_extinction',\n",
       " 'SEDs/diskLuminositiesStellar:SED_3812_236:rest',\n",
       " 'sed_5467_339',\n",
       " 'SEDs/totalLuminositiesStellar:SED_2407_591:rest:dustAtlas',\n",
       " 'Mag_true_y_lsst_z0_no_host_extinction',\n",
       " 'SEDs/spheroidLuminositiesStellar:SED_3381_209:rest',\n",
       " 'SEDs/spheroidLuminositiesStellar:SED_4848_300:rest:dustAtlas',\n",
       " 'emissionLines/spheroidLineLuminosity:balmerBeta4861',\n",
       " 'mag_true_y_lsst',\n",
       " 'sed_5806_360_no_host_extinction',\n",
       " 'mag_g',\n",
       " 'sed_4848_300_disk',\n",
       " 'sed_6954_431_bulge',\n",
       " 'sed_4565_283_bulge',\n",
       " 'mag_true_r_sdss_no_host_extinction',\n",
       " 'sed_4848_300_disk_no_host_extinction',\n",
       " 'emissionLines/totalLineLuminosity:nitrogenII6584',\n",
       " 'SEDs/diskLuminositiesStellar:SED_13177_1966:rest',\n",
       " 'sed_1246_306_disk',\n",
       " 'SEDs/totalLuminositiesStellar:SED_1933_474:rest',\n",
       " 'LSST_filters/totalLuminositiesStellar:LSST_u:observed',\n",
       " 'sed_6166_382_disk',\n",
       " 'SDSS_filters/totalLuminositiesStellar:SDSS_u:observed',\n",
       " 'SEDs/diskLuminositiesStellar:SED_3184_197:rest:dustAtlas',\n",
       " 'otherLuminosities/spheroidLuminositiesStellar:V:rest',\n",
       " 'mag_r_lsst_no_host_extinction',\n",
       " 'baseDC2/host_centric_x',\n",
       " 'sed_5806_360',\n",
       " 'SEDs/totalLuminositiesStellar:SED_7385_458:rest:dustAtlas',\n",
       " 'LSST_filters/totalLuminositiesStellar:LSST_z:observed',\n",
       " 'sed_1000_246_disk_no_host_extinction',\n",
       " 'sed_13177_1966_bulge',\n",
       " 'SEDs/totalLuminositiesStellar:SED_11467_1710:rest',\n",
       " 'SDSS_filters/totalLuminositiesStellar:SDSS_g:observed',\n",
       " 'stellar_mass_disk',\n",
       " 'mag_u_sdss',\n",
       " 'otherLuminosities/diskLuminositiesStellar:B:rest:dustAtlas',\n",
       " 'SEDs/spheroidLuminositiesStellar:SED_13177_1966:rest',\n",
       " 'Mag_true_u_lsst_z0_no_host_extinction',\n",
       " 'peculiarVelocity',\n",
       " 'LSST_filters/totalLuminositiesStellar:LSST_i:rest',\n",
       " 'SEDs/spheroidLuminositiesStellar:SED_5148_319:rest',\n",
       " 'sed_2407_591_bulge_no_host_extinction',\n",
       " 'baseDC2/galaxy_id',\n",
       " 'SDSS_filters/spheroidLuminositiesStellar:SDSS_r:observed:dustAtlas',\n",
       " 'emissionLines/diskLineLuminosity:sulfurII6716',\n",
       " 'shear1',\n",
       " 'sed_15143_2259_disk',\n",
       " 'SDSS_filters/spheroidLuminositiesStellar:SDSS_i:rest:dustAtlas',\n",
       " 'morphology/spheroidEllipticity1',\n",
       " 'LSST_filters/spheroidLuminositiesStellar:LSST_z:observed',\n",
       " 'velocity_y',\n",
       " 'emissionLines/totalLineLuminosity:balmerAlpha6563',\n",
       " 'SEDs/totalLuminositiesStellar:SED_8329_517:rest',\n",
       " 'sed_2407_591_bulge',\n",
       " 'LSST_filters/spheroidLuminositiesStellar:LSST_r:observed',\n",
       " 'emissionLines/totalLineLuminosity:balmerBeta4861',\n",
       " 'baseDC2/is_on_red_sequence_ri',\n",
       " 'sed_3812_236_bulge_no_host_extinction',\n",
       " 'SDSS_filters/magnitude:SDSS_r:rest:dustAtlas',\n",
       " 'sed_7843_486_no_host_extinction',\n",
       " 'sed_2407_591_disk_no_host_extinction',\n",
       " 'sed_6166_382_bulge',\n",
       " 'baseDC2/restframe_extincted_sdss_abs_magg',\n",
       " 'baseDC2/x',\n",
       " 'sed_4048_251',\n",
       " 'magnification',\n",
       " 'sed_2407_591_no_host_extinction',\n",
       " 'SEDs/spheroidLuminositiesStellar:SED_3590_222:rest',\n",
       " 'LSST_filters/totalLuminositiesStellar:LSST_g:observed:dustAtlas',\n",
       " 'SEDs/spheroidLuminositiesStellar:SED_2407_591:rest',\n",
       " 'LSST_filters/diskLuminositiesStellar:LSST_y:observed',\n",
       " 'LSST_filters/magnitude:LSST_u:observed:dustAtlas',\n",
       " 'SEDs/spheroidLuminositiesStellar:SED_1000_246:rest',\n",
       " 'halo_mass',\n",
       " 'mag_g_lsst_no_host_extinction',\n",
       " 'morphology/spheroidAxisRatio',\n",
       " 'SEDs/spheroidLuminositiesStellar:SED_1933_474:rest:dustAtlas',\n",
       " 'position_angle_true',\n",
       " 'sed_4299_266_bulge_no_host_extinction',\n",
       " 'sed_1933_474_bulge_no_host_extinction',\n",
       " 'sed_1552_381_no_host_extinction',\n",
       " 'matchUp/NumberSelected',\n",
       " 'LSST_filters/totalLuminositiesStellar:LSST_z:rest:dustAtlas',\n",
       " 'SDSS_filters/magnitude:SDSS_u:observed',\n",
       " 'emissionLines/diskLineLuminosity:nitrogenII6584',\n",
       " 'SDSS_filters/magnitude:SDSS_i:observed',\n",
       " 'SEDs/diskLuminositiesStellar:SED_6954_431:rest',\n",
       " 'sed_8846_549_bulge',\n",
       " 'y',\n",
       " 'otherLuminosities/diskLuminositiesStellar:B:rest',\n",
       " 'LSST_filters/magnitude:LSST_r:observed',\n",
       " 'SEDs/totalLuminositiesStellar:SED_6548_406:rest',\n",
       " 'sed_1000_246_no_host_extinction',\n",
       " 'R_v',\n",
       " 'velocity_z',\n",
       " 'LSST_filters/diskLuminositiesStellar:LSST_z:observed:dustAtlas',\n",
       " 'SEDs/diskLuminositiesStellar:SED_11467_1710:rest',\n",
       " 'SEDs/totalLuminositiesStellar:SED_4299_266:rest:dustAtlas',\n",
       " 'Mag_true_r_sdss_z0',\n",
       " 'sed_6954_431_bulge_no_host_extinction',\n",
       " 'is_central',\n",
       " 'SEDs/spheroidLuminositiesStellar:SED_2407_591:rest:dustAtlas',\n",
       " 'sed_6954_431_disk',\n",
       " 'SDSS_filters/magnitude:SDSS_z:rest:dustAtlas',\n",
       " 'morphology/diskEllipticity',\n",
       " 'sed_8846_549_disk_no_host_extinction',\n",
       " 'sed_2998_186_bulge',\n",
       " 'sed_9395_583_bulge',\n",
       " 'LSST_filters/diskLuminositiesStellar:LSST_g:observed',\n",
       " 'SEDs/totalLuminositiesStellar:SED_2998_186:rest:dustAtlas',\n",
       " 'sed_17402_2596_no_host_extinction',\n",
       " 'SEDs/totalLuminositiesStellar:SED_7385_458:rest',\n",
       " 'sed_3590_222_disk',\n",
       " 'LSST_filters/spheroidLuminositiesStellar:LSST_y:rest:dustAtlas',\n",
       " 'sed_9395_583_disk',\n",
       " 'SEDs/totalLuminositiesStellar:SED_5806_360:rest',\n",
       " 'SDSS_filters/magnitude:SDSS_z:rest',\n",
       " 'sed_5467_339_no_host_extinction',\n",
       " 'SEDs/diskLuminositiesStellar:SED_9978_1489:rest',\n",
       " 'emissionLines/totalLineLuminosity:oxygenIII5007',\n",
       " 'SEDs/diskLuminositiesStellar:SED_17402_2596:rest:dustAtlas',\n",
       " 'velocity_x',\n",
       " 'sed_2407_591_disk',\n",
       " 'galaxy_id',\n",
       " 'lightcone_rotation',\n",
       " 'LSST_filters/spheroidLuminositiesStellar:LSST_i:observed:dustAtlas',\n",
       " 'sed_6548_406_bulge_no_host_extinction',\n",
       " 'sed_8846_549',\n",
       " 'size_true',\n",
       " 'sed_6166_382_disk_no_host_extinction',\n",
       " 'LSST_filters/spheroidLuminositiesStellar:LSST_g:rest:dustAtlas',\n",
       " 'baseDC2/restframe_extincted_sdss_abs_magi',\n",
       " 'stellar_mass_bulge',\n",
       " 'sed_17402_2596_disk_no_host_extinction',\n",
       " 'LSST_filters/diskLuminositiesStellar:LSST_u:observed:dustAtlas',\n",
       " 'emissionLines/diskLineLuminosity:oxygenII3729',\n",
       " 'SDSS_filters/diskLuminositiesStellar:SDSS_r:rest',\n",
       " 'SEDs/diskLuminositiesStellar:SED_3590_222:rest:dustAtlas',\n",
       " 'sed_6548_406_no_host_extinction',\n",
       " 'SEDs/spheroidLuminositiesStellar:SED_9395_583:rest:dustAtlas',\n",
       " 'LSST_filters/spheroidLuminositiesStellar:LSST_z:rest:dustAtlas',\n",
       " 'baseDC2/target_halo_y',\n",
       " 'SDSS_filters/spheroidLuminositiesStellar:SDSS_z:observed',\n",
       " 'ellipticity_1_true',\n",
       " 'otherLuminosities/totalLuminositiesStellar:HeliumContinuum:rest:dustAtlas',\n",
       " 'otherLuminosities/diskLuminositiesStellar:HeliumContinuum:rest:dustAtlas',\n",
       " 'SEDs/totalLuminositiesStellar:SED_7843_486:rest',\n",
       " 'redshift',\n",
       " 'sed_17402_2596',\n",
       " 'sed_8846_549_disk',\n",
       " 'baseDC2/mvir',\n",
       " 'otherLuminosities/totalLuminositiesStellar:Lyc:rest',\n",
       " 'sed_2998_186_disk_no_host_extinction',\n",
       " 'sed_1000_246_bulge_no_host_extinction',\n",
       " 'baseDC2/dec',\n",
       " 'SDSS_filters/spheroidLuminositiesStellar:SDSS_i:observed',\n",
       " 'Mag_true_i_sdss_z0_no_host_extinction',\n",
       " 'SDSS_filters/magnitude:SDSS_r:observed:dustAtlas',\n",
       " 'sed_4048_251_disk',\n",
       " 'shear2',\n",
       " 'sed_9978_1489_bulge',\n",
       " 'sed_13177_1966_disk',\n",
       " 'mag_g_sdss',\n",
       " 'size_disk_true',\n",
       " 'SEDs/spheroidLuminositiesStellar:SED_4048_251:rest:dustAtlas',\n",
       " 'otherLuminosities/totalLuminositiesStellar:Lyc:rest:dustAtlas',\n",
       " 'SEDs/spheroidLuminositiesStellar:SED_6548_406:rest',\n",
       " 'SDSS_filters/totalLuminositiesStellar:SDSS_i:rest:dustAtlas',\n",
       " 'sed_7843_486_bulge',\n",
       " 'baseDC2/host_centric_vy',\n",
       " 'LSST_filters/spheroidLuminositiesStellar:LSST_g:rest',\n",
       " 'mag_true_g',\n",
       " 'LSST_filters/spheroidLuminositiesStellar:LSST_y:observed',\n",
       " 'otherLuminosities/diskLuminositiesStellar:OxygenContinuum:rest:dustAtlas',\n",
       " 'SEDs/totalLuminositiesStellar:SED_4848_300:rest',\n",
       " 'ellipticity_2_true',\n",
       " 'SEDs/totalLuminositiesStellar:SED_1552_381:rest:dustAtlas',\n",
       " 'LSST_filters/magnitude:LSST_u:rest:dustAtlas',\n",
       " 'sersic_bulge',\n",
       " 'sed_1552_381_disk',\n",
       " 'baseDC2/vpeak',\n",
       " 'hostHaloTag',\n",
       " 'spheroidVelocity',\n",
       " 'sed_13177_1966',\n",
       " 'SEDs/diskLuminositiesStellar:SED_4048_251:rest',\n",
       " 'LSST_filters/diskLuminositiesStellar:LSST_u:rest',\n",
       " 'SEDs/totalLuminositiesStellar:SED_4048_251:rest',\n",
       " 'position_z',\n",
       " 'vy',\n",
       " 'Mag_true_g_lsst_z0_no_host_extinction',\n",
       " 'sed_17402_2596_bulge',\n",
       " 'SEDs/spheroidLuminositiesStellar:SED_7843_486:rest',\n",
       " 'SDSS_filters/diskLuminositiesStellar:SDSS_i:observed',\n",
       " 'ellipticity_true',\n",
       " 'emissionLines/totalLineLuminosity:sulfurII6716',\n",
       " 'sed_9395_583_disk_no_host_extinction',\n",
       " 'sed_1246_306_no_host_extinction',\n",
       " 'SEDs/spheroidLuminositiesStellar:SED_5467_339:rest:dustAtlas',\n",
       " 'mag_u',\n",
       " 'SEDs/diskLuminositiesStellar:SED_5148_319:rest:dustAtlas',\n",
       " 'matchUp/GalacticusNodeIndex',\n",
       " 'totalAbundancesStellarMetals',\n",
       " 'morphology/totalAxisRatio',\n",
       " 'mag_r_sdss',\n",
       " 'mag_true_r_lsst_no_host_extinction',\n",
       " 'baseDC2/restframe_extincted_sdss_abs_magr',\n",
       " 'SEDs/totalLuminositiesStellar:SED_6166_382:rest:dustAtlas',\n",
       " 'size_minor_disk_true',\n",
       " 'baseDC2/target_halo_vy',\n",
       " 'Mag_true_i_sdss_z0',\n",
       " 'mag_true_z',\n",
       " 'ra_true',\n",
       " 'mag_r',\n",
       " 'SEDs/diskLuminositiesStellar:SED_5467_339:rest',\n",
       " 'SEDs/totalLuminositiesStellar:SED_5148_319:rest:dustAtlas',\n",
       " 'Mag_true_u_sdss_z0',\n",
       " 'Mag_true_z_lsst_z0',\n",
       " 'SDSS_filters/magnitude:SDSS_z:observed:dustAtlas',\n",
       " 'baseDC2/target_halo_redshift',\n",
       " 'lightcone_replication',\n",
       " 'sersic_disk',\n",
       " 'SEDs/totalLuminositiesStellar:SED_5467_339:rest',\n",
       " 'SDSS_filters/spheroidLuminositiesStellar:SDSS_u:observed',\n",
       " 'sed_3590_222',\n",
       " 'ellipticity_2_bulge_true',\n",
       " 'SDSS_filters/totalLuminositiesStellar:SDSS_z:rest:dustAtlas',\n",
       " 'LSST_filters/totalLuminositiesStellar:LSST_y:rest',\n",
       " 'baseDC2/sm',\n",
       " 'baseDC2/host_halo_vz',\n",
       " 'LSST_filters/spheroidLuminositiesStellar:LSST_z:observed:dustAtlas',\n",
       " 'SDSS_filters/diskLuminositiesStellar:SDSS_z:rest:dustAtlas',\n",
       " 'SEDs/totalLuminositiesStellar:SED_1933_474:rest:dustAtlas',\n",
       " 'SEDs/diskLuminositiesStellar:SED_9978_1489:rest:dustAtlas',\n",
       " 'sed_13177_1966_disk_no_host_extinction',\n",
       " 'sed_9978_1489_disk',\n",
       " 'LSST_filters/spheroidLuminositiesStellar:LSST_y:observed:dustAtlas',\n",
       " 'LSST_filters/magnitude:LSST_u:rest',\n",
       " 'SEDs/diskLuminositiesStellar:SED_5467_339:rest:dustAtlas',\n",
       " 'SEDs/spheroidLuminositiesStellar:SED_2998_186:rest',\n",
       " 'LSST_filters/diskLuminositiesStellar:LSST_z:observed',\n",
       " 'LSST_filters/spheroidLuminositiesStellar:LSST_r:observed:dustAtlas',\n",
       " 'SEDs/diskLuminositiesStellar:SED_7843_486:rest:dustAtlas',\n",
       " 'SEDs/totalLuminositiesStellar:SED_1000_246:rest:dustAtlas',\n",
       " 'sed_15143_2259_disk_no_host_extinction',\n",
       " 'SEDs/totalLuminositiesStellar:SED_4565_283:rest:dustAtlas',\n",
       " 'SDSS_filters/totalLuminositiesStellar:SDSS_g:rest',\n",
       " 'Mag_true_r_lsst_z0_no_host_extinction',\n",
       " 'LSST_filters/spheroidLuminositiesStellar:LSST_r:rest:dustAtlas',\n",
       " 'sed_1552_381_bulge_no_host_extinction',\n",
       " 'SEDs/diskLuminositiesStellar:SED_6548_406:rest:dustAtlas',\n",
       " 'SEDs/diskLuminositiesStellar:SED_4565_283:rest',\n",
       " 'SEDs/totalLuminositiesStellar:SED_15143_2259:rest',\n",
       " 'SEDs/totalLuminositiesStellar:SED_3590_222:rest',\n",
       " 'mag_z_lsst_no_host_extinction',\n",
       " 'mag_true_r',\n",
       " 'mag_y_lsst',\n",
       " 'mag_z_lsst',\n",
       " 'baseDC2/ra',\n",
       " 'LSST_filters/magnitude:LSST_g:observed:dustAtlas',\n",
       " 'sed_7385_458_disk',\n",
       " 'vz',\n",
       " 'SEDs/spheroidLuminositiesStellar:SED_6954_431:rest:dustAtlas',\n",
       " 'otherLuminosities/diskLuminositiesStellar:V:rest',\n",
       " 'SEDs/spheroidLuminositiesStellar:SED_3812_236:rest:dustAtlas',\n",
       " 'SEDs/diskLuminositiesStellar:SED_1933_474:rest:dustAtlas',\n",
       " 'Mag_true_Y_lsst_z0_no_host_extinction',\n",
       " 'mag_true_i_lsst_no_host_extinction',\n",
       " 'SDSS_filters/spheroidLuminositiesStellar:SDSS_i:observed:dustAtlas',\n",
       " 'SEDs/diskLuminositiesStellar:SED_1933_474:rest',\n",
       " 'A_v_bulge',\n",
       " 'sed_4848_300_no_host_extinction',\n",
       " 'shear_2_phosim',\n",
       " 'sed_15143_2259_bulge_no_host_extinction',\n",
       " 'morphology/spheroidMajorAxisArcsec',\n",
       " 'SEDs/totalLuminositiesStellar:SED_2407_591:rest',\n",
       " 'SEDs/diskLuminositiesStellar:SED_1246_306:rest',\n",
       " 'SDSS_filters/spheroidLuminositiesStellar:SDSS_z:rest:dustAtlas',\n",
       " 'LSST_filters/diskLuminositiesStellar:LSST_r:rest:dustAtlas',\n",
       " 'emissionLines/spheroidLineLuminosity:sulfurII6731',\n",
       " 'baseDC2/halo_id',\n",
       " 'baseDC2/obs_sm',\n",
       " 'SEDs/diskLuminositiesStellar:SED_8846_549:rest',\n",
       " 'convergence',\n",
       " 'baseDC2/restframe_extincted_sdss_ri',\n",
       " 'otherLuminosities/totalLuminositiesStellar:B:rest:dustAtlas',\n",
       " 'mag_r_sdss_no_host_extinction',\n",
       " 'Mag_true_g_sdss_z0_no_host_extinction',\n",
       " 'sed_1246_306',\n",
       " 'SEDs/spheroidLuminositiesStellar:SED_8846_549:rest',\n",
       " 'ra',\n",
       " 'mag_u_sdss_no_host_extinction',\n",
       " 'baseDC2/target_halo_vx',\n",
       " 'mag_true_Y_lsst_no_host_extinction',\n",
       " 'otherLuminosities/spheroidLuminositiesStellar:B:rest:dustAtlas',\n",
       " 'SEDs/spheroidLuminositiesStellar:SED_8846_549:rest:dustAtlas',\n",
       " 'mag_i',\n",
       " 'emissionLines/totalLineLuminosity:oxygenIII4959',\n",
       " 'baseDC2/host_centric_vz',\n",
       " 'size_minor_bulge_true',\n",
       " 'sed_3590_222_no_host_extinction',\n",
       " 'spheroidStarFormationRate',\n",
       " 'Mag_true_u_sdss_z0_no_host_extinction',\n",
       " 'LSST_filters/spheroidLuminositiesStellar:LSST_z:rest',\n",
       " 'SEDs/spheroidLuminositiesStellar:SED_1552_381:rest',\n",
       " 'SEDs/diskLuminositiesStellar:SED_2407_591:rest:dustAtlas',\n",
       " 'LSST_filters/magnitude:LSST_y:observed',\n",
       " 'SDSS_filters/spheroidLuminositiesStellar:SDSS_z:observed:dustAtlas',\n",
       " 'sed_17402_2596_bulge_no_host_extinction',\n",
       " 'SEDs/spheroidLuminositiesStellar:SED_3184_197:rest:dustAtlas',\n",
       " 'SDSS_filters/spheroidLuminositiesStellar:SDSS_u:rest:dustAtlas',\n",
       " 'SEDs/spheroidLuminositiesStellar:SED_8329_517:rest',\n",
       " 'sed_1000_246_bulge',\n",
       " 'SEDs/spheroidLuminositiesStellar:SED_13177_1966:rest:dustAtlas',\n",
       " 'sed_5467_339_bulge',\n",
       " 'SEDs/diskLuminositiesStellar:SED_8846_549:rest:dustAtlas',\n",
       " 'SDSS_filters/diskLuminositiesStellar:SDSS_u:rest',\n",
       " 'SEDs/spheroidLuminositiesStellar:SED_4299_266:rest:dustAtlas',\n",
       " 'SEDs/diskLuminositiesStellar:SED_5806_360:rest',\n",
       " 'otherLuminosities/diskLuminositiesStellar:Lyc:rest:dustAtlas',\n",
       " 'sed_8846_549_no_host_extinction',\n",
       " 'SEDs/diskLuminositiesStellar:SED_15143_2259:rest',\n",
       " 'mag_true_z_sdss_no_host_extinction',\n",
       " 'SEDs/diskLuminositiesStellar:SED_17402_2596:rest',\n",
       " 'sed_3184_197_no_host_extinction',\n",
       " 'SEDs/diskLuminositiesStellar:SED_2998_186:rest:dustAtlas',\n",
       " 'sed_11467_1710_bulge_no_host_extinction',\n",
       " 'LSST_filters/totalLuminositiesStellar:LSST_r:observed',\n",
       " 'LSST_filters/diskLuminositiesStellar:LSST_g:observed:dustAtlas',\n",
       " 'LSST_filters/magnitude:LSST_z:observed',\n",
       " 'spheroidAbundancesStellarMetals',\n",
       " 'sed_17402_2596_disk',\n",
       " 'LSST_filters/spheroidLuminositiesStellar:LSST_i:rest:dustAtlas',\n",
       " 'SEDs/totalLuminositiesStellar:SED_9978_1489:rest',\n",
       " 'sed_3812_236',\n",
       " 'SDSS_filters/spheroidLuminositiesStellar:SDSS_g:observed:dustAtlas',\n",
       " 'SEDs/diskLuminositiesStellar:SED_1246_306:rest:dustAtlas',\n",
       " 'sed_13177_1966_bulge_no_host_extinction',\n",
       " 'sed_5806_360_bulge_no_host_extinction',\n",
       " 'mag_y',\n",
       " 'dec_true',\n",
       " 'sed_4565_283',\n",
       " 'sed_1933_474_disk_no_host_extinction',\n",
       " 'morphology/diskMinorAxisArcsec',\n",
       " 'SEDs/totalLuminositiesStellar:SED_5806_360:rest:dustAtlas',\n",
       " 'sed_3381_209',\n",
       " 'mag_true_r_lsst',\n",
       " 'SEDs/spheroidLuminositiesStellar:SED_3381_209:rest:dustAtlas',\n",
       " 'sed_8329_517_disk',\n",
       " 'SDSS_filters/spheroidLuminositiesStellar:SDSS_i:rest',\n",
       " 'SEDs/spheroidLuminositiesStellar:SED_15143_2259:rest:dustAtlas',\n",
       " 'sed_4299_266_bulge',\n",
       " 'baseDC2/host_halo_z',\n",
       " 'mag_i_sdss',\n",
       " 'otherLuminosities/totalLuminositiesStellar:V:rest',\n",
       " 'baseDC2/source_halo_id',\n",
       " 'baseDC2/restframe_extincted_sdss_gr',\n",
       " 'emissionLines/spheroidLineLuminosity:balmerAlpha6563',\n",
       " 'A_v_disk',\n",
       " 'diskStarFormationRate',\n",
       " 'mag_true_i_sdss',\n",
       " 'otherLuminosities/spheroidLuminositiesStellar:V:rest:dustAtlas',\n",
       " 'sed_8329_517_no_host_extinction',\n",
       " 'mag_true_z_lsst_no_host_extinction',\n",
       " 'LSST_filters/totalLuminositiesStellar:LSST_i:observed',\n",
       " 'size_minor_true',\n",
       " 'otherLuminosities/spheroidLuminositiesStellar:OxygenContinuum:rest:dustAtlas',\n",
       " 'LSST_filters/magnitude:LSST_g:rest:dustAtlas',\n",
       " 'SDSS_filters/totalLuminositiesStellar:SDSS_r:observed',\n",
       " 'shear_2_treecorr',\n",
       " 'SEDs/diskLuminositiesStellar:SED_4848_300:rest',\n",
       " 'otherLuminosities/totalLuminositiesStellar:OxygenContinuum:rest',\n",
       " 'emissionLines/diskLineLuminosity:oxygenII3726',\n",
       " 'mag_Y_lsst',\n",
       " 'sed_1246_306_bulge_no_host_extinction',\n",
       " 'otherLuminosities/diskLuminositiesStellar:OxygenContinuum:rest',\n",
       " 'SEDs/diskLuminositiesStellar:SED_4299_266:rest:dustAtlas',\n",
       " 'sed_5806_360_disk_no_host_extinction',\n",
       " 'SEDs/totalLuminositiesStellar:SED_3812_236:rest',\n",
       " 'emissionLines/spheroidLineLuminosity:sulfurII6716',\n",
       " 'mag_z_sdss_no_host_extinction',\n",
       " 'mag_z',\n",
       " 'sed_5467_339_bulge_no_host_extinction',\n",
       " 'sed_9395_583_no_host_extinction',\n",
       " 'baseDC2/host_centric_vx',\n",
       " 'otherLuminosities/spheroidLuminositiesStellar:B:rest',\n",
       " 'mag_y_lsst_no_host_extinction',\n",
       " 'SEDs/totalLuminositiesStellar:SED_9395_583:rest:dustAtlas',\n",
       " 'LSST_filters/magnitude:LSST_g:rest',\n",
       " 'SEDs/totalLuminositiesStellar:SED_3184_197:rest',\n",
       " 'matchUp/libraryIndex',\n",
       " 'Mag_true_r_lsst_z0']"
      ]
     },
     "execution_count": 8,
     "metadata": {},
     "output_type": "execute_result"
    }
   ],
   "source": [
    "gc.list_all_quantities(include_native=True)"
   ]
  },
  {
   "cell_type": "code",
   "execution_count": 9,
   "metadata": {},
   "outputs": [
    {
     "name": "stdout",
     "output_type": "stream",
     "text": [
      "A_v, A_v_bulge, A_v_disk, LSST_filters/diskLuminositiesStellar:LSST_g:observed, LSST_filters/diskLuminositiesStellar:LSST_g:observed:dustAtlas, LSST_filters/diskLuminositiesStellar:LSST_g:rest, LSST_filters/diskLuminositiesStellar:LSST_g:rest:dustAtlas, LSST_filters/diskLuminositiesStellar:LSST_i:observed, LSST_filters/diskLuminositiesStellar:LSST_i:observed:dustAtlas, LSST_filters/diskLuminositiesStellar:LSST_i:rest, LSST_filters/diskLuminositiesStellar:LSST_i:rest:dustAtlas, LSST_filters/diskLuminositiesStellar:LSST_r:observed, LSST_filters/diskLuminositiesStellar:LSST_r:observed:dustAtlas, LSST_filters/diskLuminositiesStellar:LSST_r:rest, LSST_filters/diskLuminositiesStellar:LSST_r:rest:dustAtlas, LSST_filters/diskLuminositiesStellar:LSST_u:observed, LSST_filters/diskLuminositiesStellar:LSST_u:observed:dustAtlas, LSST_filters/diskLuminositiesStellar:LSST_u:rest, LSST_filters/diskLuminositiesStellar:LSST_u:rest:dustAtlas, LSST_filters/diskLuminositiesStellar:LSST_y:observed, LSST_filters/diskLuminositiesStellar:LSST_y:observed:dustAtlas, LSST_filters/diskLuminositiesStellar:LSST_y:rest, LSST_filters/diskLuminositiesStellar:LSST_y:rest:dustAtlas, LSST_filters/diskLuminositiesStellar:LSST_z:observed, LSST_filters/diskLuminositiesStellar:LSST_z:observed:dustAtlas, LSST_filters/diskLuminositiesStellar:LSST_z:rest, LSST_filters/diskLuminositiesStellar:LSST_z:rest:dustAtlas, LSST_filters/magnitude:LSST_g:observed, LSST_filters/magnitude:LSST_g:observed:dustAtlas, LSST_filters/magnitude:LSST_g:rest, LSST_filters/magnitude:LSST_g:rest:dustAtlas, LSST_filters/magnitude:LSST_i:observed, LSST_filters/magnitude:LSST_i:observed:dustAtlas, LSST_filters/magnitude:LSST_i:rest, LSST_filters/magnitude:LSST_i:rest:dustAtlas, LSST_filters/magnitude:LSST_r:observed, LSST_filters/magnitude:LSST_r:observed:dustAtlas, LSST_filters/magnitude:LSST_r:rest, LSST_filters/magnitude:LSST_r:rest:dustAtlas, LSST_filters/magnitude:LSST_u:observed, LSST_filters/magnitude:LSST_u:observed:dustAtlas, LSST_filters/magnitude:LSST_u:rest, LSST_filters/magnitude:LSST_u:rest:dustAtlas, LSST_filters/magnitude:LSST_y:observed, LSST_filters/magnitude:LSST_y:observed:dustAtlas, LSST_filters/magnitude:LSST_y:rest, LSST_filters/magnitude:LSST_y:rest:dustAtlas, LSST_filters/magnitude:LSST_z:observed, LSST_filters/magnitude:LSST_z:observed:dustAtlas, LSST_filters/magnitude:LSST_z:rest, LSST_filters/magnitude:LSST_z:rest:dustAtlas, LSST_filters/spheroidLuminositiesStellar:LSST_g:observed, LSST_filters/spheroidLuminositiesStellar:LSST_g:observed:dustAtlas, LSST_filters/spheroidLuminositiesStellar:LSST_g:rest, LSST_filters/spheroidLuminositiesStellar:LSST_g:rest:dustAtlas, LSST_filters/spheroidLuminositiesStellar:LSST_i:observed, LSST_filters/spheroidLuminositiesStellar:LSST_i:observed:dustAtlas, LSST_filters/spheroidLuminositiesStellar:LSST_i:rest, LSST_filters/spheroidLuminositiesStellar:LSST_i:rest:dustAtlas, LSST_filters/spheroidLuminositiesStellar:LSST_r:observed, LSST_filters/spheroidLuminositiesStellar:LSST_r:observed:dustAtlas, LSST_filters/spheroidLuminositiesStellar:LSST_r:rest, LSST_filters/spheroidLuminositiesStellar:LSST_r:rest:dustAtlas, LSST_filters/spheroidLuminositiesStellar:LSST_u:observed, LSST_filters/spheroidLuminositiesStellar:LSST_u:observed:dustAtlas, LSST_filters/spheroidLuminositiesStellar:LSST_u:rest, LSST_filters/spheroidLuminositiesStellar:LSST_u:rest:dustAtlas, LSST_filters/spheroidLuminositiesStellar:LSST_y:observed, LSST_filters/spheroidLuminositiesStellar:LSST_y:observed:dustAtlas, LSST_filters/spheroidLuminositiesStellar:LSST_y:rest, LSST_filters/spheroidLuminositiesStellar:LSST_y:rest:dustAtlas, LSST_filters/spheroidLuminositiesStellar:LSST_z:observed, LSST_filters/spheroidLuminositiesStellar:LSST_z:observed:dustAtlas, LSST_filters/spheroidLuminositiesStellar:LSST_z:rest, LSST_filters/spheroidLuminositiesStellar:LSST_z:rest:dustAtlas, LSST_filters/totalLuminositiesStellar:LSST_g:observed, LSST_filters/totalLuminositiesStellar:LSST_g:observed:dustAtlas, LSST_filters/totalLuminositiesStellar:LSST_g:rest, LSST_filters/totalLuminositiesStellar:LSST_g:rest:dustAtlas, LSST_filters/totalLuminositiesStellar:LSST_i:observed, LSST_filters/totalLuminositiesStellar:LSST_i:observed:dustAtlas, LSST_filters/totalLuminositiesStellar:LSST_i:rest, LSST_filters/totalLuminositiesStellar:LSST_i:rest:dustAtlas, LSST_filters/totalLuminositiesStellar:LSST_r:observed, LSST_filters/totalLuminositiesStellar:LSST_r:observed:dustAtlas, LSST_filters/totalLuminositiesStellar:LSST_r:rest, LSST_filters/totalLuminositiesStellar:LSST_r:rest:dustAtlas, LSST_filters/totalLuminositiesStellar:LSST_u:observed, LSST_filters/totalLuminositiesStellar:LSST_u:observed:dustAtlas, LSST_filters/totalLuminositiesStellar:LSST_u:rest, LSST_filters/totalLuminositiesStellar:LSST_u:rest:dustAtlas, LSST_filters/totalLuminositiesStellar:LSST_y:observed, LSST_filters/totalLuminositiesStellar:LSST_y:observed:dustAtlas, LSST_filters/totalLuminositiesStellar:LSST_y:rest, LSST_filters/totalLuminositiesStellar:LSST_y:rest:dustAtlas, LSST_filters/totalLuminositiesStellar:LSST_z:observed, LSST_filters/totalLuminositiesStellar:LSST_z:observed:dustAtlas, LSST_filters/totalLuminositiesStellar:LSST_z:rest, LSST_filters/totalLuminositiesStellar:LSST_z:rest:dustAtlas, Mag_true_Y_lsst_z0, Mag_true_Y_lsst_z0_no_host_extinction, Mag_true_g_lsst_z0, Mag_true_g_lsst_z0_no_host_extinction, Mag_true_g_sdss_z0, Mag_true_g_sdss_z0_no_host_extinction, Mag_true_i_lsst_z0, Mag_true_i_lsst_z0_no_host_extinction, Mag_true_i_sdss_z0, Mag_true_i_sdss_z0_no_host_extinction, Mag_true_r_lsst_z0, Mag_true_r_lsst_z0_no_host_extinction, Mag_true_r_sdss_z0, Mag_true_r_sdss_z0_no_host_extinction, Mag_true_u_lsst_z0, Mag_true_u_lsst_z0_no_host_extinction, Mag_true_u_sdss_z0, Mag_true_u_sdss_z0_no_host_extinction, Mag_true_y_lsst_z0, Mag_true_y_lsst_z0_no_host_extinction, Mag_true_z_lsst_z0, Mag_true_z_lsst_z0_no_host_extinction, Mag_true_z_sdss_z0, Mag_true_z_sdss_z0_no_host_extinction, R_v, R_v_bulge, R_v_disk, SDSS_filters/diskLuminositiesStellar:SDSS_g:observed, SDSS_filters/diskLuminositiesStellar:SDSS_g:observed:dustAtlas, SDSS_filters/diskLuminositiesStellar:SDSS_g:rest, SDSS_filters/diskLuminositiesStellar:SDSS_g:rest:dustAtlas, SDSS_filters/diskLuminositiesStellar:SDSS_i:observed, SDSS_filters/diskLuminositiesStellar:SDSS_i:observed:dustAtlas, SDSS_filters/diskLuminositiesStellar:SDSS_i:rest, SDSS_filters/diskLuminositiesStellar:SDSS_i:rest:dustAtlas, SDSS_filters/diskLuminositiesStellar:SDSS_r:observed, SDSS_filters/diskLuminositiesStellar:SDSS_r:observed:dustAtlas, SDSS_filters/diskLuminositiesStellar:SDSS_r:rest, SDSS_filters/diskLuminositiesStellar:SDSS_r:rest:dustAtlas, SDSS_filters/diskLuminositiesStellar:SDSS_u:observed, SDSS_filters/diskLuminositiesStellar:SDSS_u:observed:dustAtlas, SDSS_filters/diskLuminositiesStellar:SDSS_u:rest, SDSS_filters/diskLuminositiesStellar:SDSS_u:rest:dustAtlas, SDSS_filters/diskLuminositiesStellar:SDSS_z:observed, SDSS_filters/diskLuminositiesStellar:SDSS_z:observed:dustAtlas, SDSS_filters/diskLuminositiesStellar:SDSS_z:rest, SDSS_filters/diskLuminositiesStellar:SDSS_z:rest:dustAtlas, SDSS_filters/magnitude:SDSS_g:observed, SDSS_filters/magnitude:SDSS_g:observed:dustAtlas, SDSS_filters/magnitude:SDSS_g:rest, SDSS_filters/magnitude:SDSS_g:rest:dustAtlas, SDSS_filters/magnitude:SDSS_i:observed, SDSS_filters/magnitude:SDSS_i:observed:dustAtlas, SDSS_filters/magnitude:SDSS_i:rest, SDSS_filters/magnitude:SDSS_i:rest:dustAtlas, SDSS_filters/magnitude:SDSS_r:observed, SDSS_filters/magnitude:SDSS_r:observed:dustAtlas, SDSS_filters/magnitude:SDSS_r:rest, SDSS_filters/magnitude:SDSS_r:rest:dustAtlas, SDSS_filters/magnitude:SDSS_u:observed, SDSS_filters/magnitude:SDSS_u:observed:dustAtlas, SDSS_filters/magnitude:SDSS_u:rest, SDSS_filters/magnitude:SDSS_u:rest:dustAtlas, SDSS_filters/magnitude:SDSS_z:observed, SDSS_filters/magnitude:SDSS_z:observed:dustAtlas, SDSS_filters/magnitude:SDSS_z:rest, SDSS_filters/magnitude:SDSS_z:rest:dustAtlas, SDSS_filters/spheroidLuminositiesStellar:SDSS_g:observed, SDSS_filters/spheroidLuminositiesStellar:SDSS_g:observed:dustAtlas, SDSS_filters/spheroidLuminositiesStellar:SDSS_g:rest, SDSS_filters/spheroidLuminositiesStellar:SDSS_g:rest:dustAtlas, SDSS_filters/spheroidLuminositiesStellar:SDSS_i:observed, SDSS_filters/spheroidLuminositiesStellar:SDSS_i:observed:dustAtlas, SDSS_filters/spheroidLuminositiesStellar:SDSS_i:rest, SDSS_filters/spheroidLuminositiesStellar:SDSS_i:rest:dustAtlas, SDSS_filters/spheroidLuminositiesStellar:SDSS_r:observed, SDSS_filters/spheroidLuminositiesStellar:SDSS_r:observed:dustAtlas, SDSS_filters/spheroidLuminositiesStellar:SDSS_r:rest, SDSS_filters/spheroidLuminositiesStellar:SDSS_r:rest:dustAtlas, SDSS_filters/spheroidLuminositiesStellar:SDSS_u:observed, SDSS_filters/spheroidLuminositiesStellar:SDSS_u:observed:dustAtlas, SDSS_filters/spheroidLuminositiesStellar:SDSS_u:rest, SDSS_filters/spheroidLuminositiesStellar:SDSS_u:rest:dustAtlas, SDSS_filters/spheroidLuminositiesStellar:SDSS_z:observed, SDSS_filters/spheroidLuminositiesStellar:SDSS_z:observed:dustAtlas, SDSS_filters/spheroidLuminositiesStellar:SDSS_z:rest, SDSS_filters/spheroidLuminositiesStellar:SDSS_z:rest:dustAtlas, SDSS_filters/totalLuminositiesStellar:SDSS_g:observed, SDSS_filters/totalLuminositiesStellar:SDSS_g:observed:dustAtlas, SDSS_filters/totalLuminositiesStellar:SDSS_g:rest, SDSS_filters/totalLuminositiesStellar:SDSS_g:rest:dustAtlas, SDSS_filters/totalLuminositiesStellar:SDSS_i:observed, SDSS_filters/totalLuminositiesStellar:SDSS_i:observed:dustAtlas, SDSS_filters/totalLuminositiesStellar:SDSS_i:rest, SDSS_filters/totalLuminositiesStellar:SDSS_i:rest:dustAtlas, SDSS_filters/totalLuminositiesStellar:SDSS_r:observed, SDSS_filters/totalLuminositiesStellar:SDSS_r:observed:dustAtlas, SDSS_filters/totalLuminositiesStellar:SDSS_r:rest, SDSS_filters/totalLuminositiesStellar:SDSS_r:rest:dustAtlas, SDSS_filters/totalLuminositiesStellar:SDSS_u:observed, SDSS_filters/totalLuminositiesStellar:SDSS_u:observed:dustAtlas, SDSS_filters/totalLuminositiesStellar:SDSS_u:rest, SDSS_filters/totalLuminositiesStellar:SDSS_u:rest:dustAtlas, SDSS_filters/totalLuminositiesStellar:SDSS_z:observed, SDSS_filters/totalLuminositiesStellar:SDSS_z:observed:dustAtlas, SDSS_filters/totalLuminositiesStellar:SDSS_z:rest, SDSS_filters/totalLuminositiesStellar:SDSS_z:rest:dustAtlas, SEDs/diskLuminositiesStellar:SED_1000_246:rest, SEDs/diskLuminositiesStellar:SED_1000_246:rest:dustAtlas, SEDs/diskLuminositiesStellar:SED_11467_1710:rest, SEDs/diskLuminositiesStellar:SED_11467_1710:rest:dustAtlas, SEDs/diskLuminositiesStellar:SED_1246_306:rest, SEDs/diskLuminositiesStellar:SED_1246_306:rest:dustAtlas, SEDs/diskLuminositiesStellar:SED_13177_1966:rest, SEDs/diskLuminositiesStellar:SED_13177_1966:rest:dustAtlas, SEDs/diskLuminositiesStellar:SED_15143_2259:rest, SEDs/diskLuminositiesStellar:SED_15143_2259:rest:dustAtlas, SEDs/diskLuminositiesStellar:SED_1552_381:rest, SEDs/diskLuminositiesStellar:SED_1552_381:rest:dustAtlas, SEDs/diskLuminositiesStellar:SED_17402_2596:rest, SEDs/diskLuminositiesStellar:SED_17402_2596:rest:dustAtlas, SEDs/diskLuminositiesStellar:SED_1933_474:rest, SEDs/diskLuminositiesStellar:SED_1933_474:rest:dustAtlas, SEDs/diskLuminositiesStellar:SED_2407_591:rest, SEDs/diskLuminositiesStellar:SED_2407_591:rest:dustAtlas, SEDs/diskLuminositiesStellar:SED_2998_186:rest, SEDs/diskLuminositiesStellar:SED_2998_186:rest:dustAtlas, SEDs/diskLuminositiesStellar:SED_3184_197:rest, SEDs/diskLuminositiesStellar:SED_3184_197:rest:dustAtlas, SEDs/diskLuminositiesStellar:SED_3381_209:rest, SEDs/diskLuminositiesStellar:SED_3381_209:rest:dustAtlas, SEDs/diskLuminositiesStellar:SED_3590_222:rest, SEDs/diskLuminositiesStellar:SED_3590_222:rest:dustAtlas, SEDs/diskLuminositiesStellar:SED_3812_236:rest, SEDs/diskLuminositiesStellar:SED_3812_236:rest:dustAtlas, SEDs/diskLuminositiesStellar:SED_4048_251:rest, SEDs/diskLuminositiesStellar:SED_4048_251:rest:dustAtlas, SEDs/diskLuminositiesStellar:SED_4299_266:rest, SEDs/diskLuminositiesStellar:SED_4299_266:rest:dustAtlas, SEDs/diskLuminositiesStellar:SED_4565_283:rest, SEDs/diskLuminositiesStellar:SED_4565_283:rest:dustAtlas, SEDs/diskLuminositiesStellar:SED_4848_300:rest, SEDs/diskLuminositiesStellar:SED_4848_300:rest:dustAtlas, SEDs/diskLuminositiesStellar:SED_5148_319:rest, SEDs/diskLuminositiesStellar:SED_5148_319:rest:dustAtlas, SEDs/diskLuminositiesStellar:SED_5467_339:rest, SEDs/diskLuminositiesStellar:SED_5467_339:rest:dustAtlas, SEDs/diskLuminositiesStellar:SED_5806_360:rest, SEDs/diskLuminositiesStellar:SED_5806_360:rest:dustAtlas, SEDs/diskLuminositiesStellar:SED_6166_382:rest, SEDs/diskLuminositiesStellar:SED_6166_382:rest:dustAtlas, SEDs/diskLuminositiesStellar:SED_6548_406:rest, SEDs/diskLuminositiesStellar:SED_6548_406:rest:dustAtlas, SEDs/diskLuminositiesStellar:SED_6954_431:rest, SEDs/diskLuminositiesStellar:SED_6954_431:rest:dustAtlas, SEDs/diskLuminositiesStellar:SED_7385_458:rest, SEDs/diskLuminositiesStellar:SED_7385_458:rest:dustAtlas, SEDs/diskLuminositiesStellar:SED_7843_486:rest, SEDs/diskLuminositiesStellar:SED_7843_486:rest:dustAtlas, SEDs/diskLuminositiesStellar:SED_8329_517:rest, SEDs/diskLuminositiesStellar:SED_8329_517:rest:dustAtlas, SEDs/diskLuminositiesStellar:SED_8846_549:rest, SEDs/diskLuminositiesStellar:SED_8846_549:rest:dustAtlas, SEDs/diskLuminositiesStellar:SED_9395_583:rest, SEDs/diskLuminositiesStellar:SED_9395_583:rest:dustAtlas, SEDs/diskLuminositiesStellar:SED_9978_1489:rest, SEDs/diskLuminositiesStellar:SED_9978_1489:rest:dustAtlas, SEDs/spheroidLuminositiesStellar:SED_1000_246:rest, SEDs/spheroidLuminositiesStellar:SED_1000_246:rest:dustAtlas, SEDs/spheroidLuminositiesStellar:SED_11467_1710:rest, SEDs/spheroidLuminositiesStellar:SED_11467_1710:rest:dustAtlas, SEDs/spheroidLuminositiesStellar:SED_1246_306:rest, SEDs/spheroidLuminositiesStellar:SED_1246_306:rest:dustAtlas, SEDs/spheroidLuminositiesStellar:SED_13177_1966:rest, SEDs/spheroidLuminositiesStellar:SED_13177_1966:rest:dustAtlas, SEDs/spheroidLuminositiesStellar:SED_15143_2259:rest, SEDs/spheroidLuminositiesStellar:SED_15143_2259:rest:dustAtlas, SEDs/spheroidLuminositiesStellar:SED_1552_381:rest, SEDs/spheroidLuminositiesStellar:SED_1552_381:rest:dustAtlas, SEDs/spheroidLuminositiesStellar:SED_17402_2596:rest, SEDs/spheroidLuminositiesStellar:SED_17402_2596:rest:dustAtlas, SEDs/spheroidLuminositiesStellar:SED_1933_474:rest, SEDs/spheroidLuminositiesStellar:SED_1933_474:rest:dustAtlas, SEDs/spheroidLuminositiesStellar:SED_2407_591:rest, SEDs/spheroidLuminositiesStellar:SED_2407_591:rest:dustAtlas, SEDs/spheroidLuminositiesStellar:SED_2998_186:rest, SEDs/spheroidLuminositiesStellar:SED_2998_186:rest:dustAtlas, SEDs/spheroidLuminositiesStellar:SED_3184_197:rest, SEDs/spheroidLuminositiesStellar:SED_3184_197:rest:dustAtlas, SEDs/spheroidLuminositiesStellar:SED_3381_209:rest, SEDs/spheroidLuminositiesStellar:SED_3381_209:rest:dustAtlas, SEDs/spheroidLuminositiesStellar:SED_3590_222:rest, SEDs/spheroidLuminositiesStellar:SED_3590_222:rest:dustAtlas, SEDs/spheroidLuminositiesStellar:SED_3812_236:rest, SEDs/spheroidLuminositiesStellar:SED_3812_236:rest:dustAtlas, SEDs/spheroidLuminositiesStellar:SED_4048_251:rest, SEDs/spheroidLuminositiesStellar:SED_4048_251:rest:dustAtlas, SEDs/spheroidLuminositiesStellar:SED_4299_266:rest, SEDs/spheroidLuminositiesStellar:SED_4299_266:rest:dustAtlas, SEDs/spheroidLuminositiesStellar:SED_4565_283:rest, SEDs/spheroidLuminositiesStellar:SED_4565_283:rest:dustAtlas, SEDs/spheroidLuminositiesStellar:SED_4848_300:rest, SEDs/spheroidLuminositiesStellar:SED_4848_300:rest:dustAtlas, SEDs/spheroidLuminositiesStellar:SED_5148_319:rest, SEDs/spheroidLuminositiesStellar:SED_5148_319:rest:dustAtlas, SEDs/spheroidLuminositiesStellar:SED_5467_339:rest, SEDs/spheroidLuminositiesStellar:SED_5467_339:rest:dustAtlas, SEDs/spheroidLuminositiesStellar:SED_5806_360:rest, SEDs/spheroidLuminositiesStellar:SED_5806_360:rest:dustAtlas, SEDs/spheroidLuminositiesStellar:SED_6166_382:rest, SEDs/spheroidLuminositiesStellar:SED_6166_382:rest:dustAtlas, SEDs/spheroidLuminositiesStellar:SED_6548_406:rest, SEDs/spheroidLuminositiesStellar:SED_6548_406:rest:dustAtlas, SEDs/spheroidLuminositiesStellar:SED_6954_431:rest, SEDs/spheroidLuminositiesStellar:SED_6954_431:rest:dustAtlas, SEDs/spheroidLuminositiesStellar:SED_7385_458:rest, SEDs/spheroidLuminositiesStellar:SED_7385_458:rest:dustAtlas, SEDs/spheroidLuminositiesStellar:SED_7843_486:rest, SEDs/spheroidLuminositiesStellar:SED_7843_486:rest:dustAtlas, SEDs/spheroidLuminositiesStellar:SED_8329_517:rest, SEDs/spheroidLuminositiesStellar:SED_8329_517:rest:dustAtlas, SEDs/spheroidLuminositiesStellar:SED_8846_549:rest, SEDs/spheroidLuminositiesStellar:SED_8846_549:rest:dustAtlas, SEDs/spheroidLuminositiesStellar:SED_9395_583:rest, SEDs/spheroidLuminositiesStellar:SED_9395_583:rest:dustAtlas, SEDs/spheroidLuminositiesStellar:SED_9978_1489:rest, SEDs/spheroidLuminositiesStellar:SED_9978_1489:rest:dustAtlas, SEDs/totalLuminositiesStellar:SED_1000_246:rest, SEDs/totalLuminositiesStellar:SED_1000_246:rest:dustAtlas, SEDs/totalLuminositiesStellar:SED_11467_1710:rest, SEDs/totalLuminositiesStellar:SED_11467_1710:rest:dustAtlas, SEDs/totalLuminositiesStellar:SED_1246_306:rest, SEDs/totalLuminositiesStellar:SED_1246_306:rest:dustAtlas, SEDs/totalLuminositiesStellar:SED_13177_1966:rest, SEDs/totalLuminositiesStellar:SED_13177_1966:rest:dustAtlas, SEDs/totalLuminositiesStellar:SED_15143_2259:rest, SEDs/totalLuminositiesStellar:SED_15143_2259:rest:dustAtlas, SEDs/totalLuminositiesStellar:SED_1552_381:rest, SEDs/totalLuminositiesStellar:SED_1552_381:rest:dustAtlas, SEDs/totalLuminositiesStellar:SED_17402_2596:rest, SEDs/totalLuminositiesStellar:SED_17402_2596:rest:dustAtlas, SEDs/totalLuminositiesStellar:SED_1933_474:rest, SEDs/totalLuminositiesStellar:SED_1933_474:rest:dustAtlas, SEDs/totalLuminositiesStellar:SED_2407_591:rest, SEDs/totalLuminositiesStellar:SED_2407_591:rest:dustAtlas, SEDs/totalLuminositiesStellar:SED_2998_186:rest, SEDs/totalLuminositiesStellar:SED_2998_186:rest:dustAtlas, SEDs/totalLuminositiesStellar:SED_3184_197:rest, SEDs/totalLuminositiesStellar:SED_3184_197:rest:dustAtlas, SEDs/totalLuminositiesStellar:SED_3381_209:rest, SEDs/totalLuminositiesStellar:SED_3381_209:rest:dustAtlas, SEDs/totalLuminositiesStellar:SED_3590_222:rest, SEDs/totalLuminositiesStellar:SED_3590_222:rest:dustAtlas, SEDs/totalLuminositiesStellar:SED_3812_236:rest, SEDs/totalLuminositiesStellar:SED_3812_236:rest:dustAtlas, SEDs/totalLuminositiesStellar:SED_4048_251:rest, SEDs/totalLuminositiesStellar:SED_4048_251:rest:dustAtlas, SEDs/totalLuminositiesStellar:SED_4299_266:rest, SEDs/totalLuminositiesStellar:SED_4299_266:rest:dustAtlas, SEDs/totalLuminositiesStellar:SED_4565_283:rest, SEDs/totalLuminositiesStellar:SED_4565_283:rest:dustAtlas, SEDs/totalLuminositiesStellar:SED_4848_300:rest, SEDs/totalLuminositiesStellar:SED_4848_300:rest:dustAtlas, SEDs/totalLuminositiesStellar:SED_5148_319:rest, SEDs/totalLuminositiesStellar:SED_5148_319:rest:dustAtlas, SEDs/totalLuminositiesStellar:SED_5467_339:rest, SEDs/totalLuminositiesStellar:SED_5467_339:rest:dustAtlas, SEDs/totalLuminositiesStellar:SED_5806_360:rest, SEDs/totalLuminositiesStellar:SED_5806_360:rest:dustAtlas, SEDs/totalLuminositiesStellar:SED_6166_382:rest, SEDs/totalLuminositiesStellar:SED_6166_382:rest:dustAtlas, SEDs/totalLuminositiesStellar:SED_6548_406:rest, SEDs/totalLuminositiesStellar:SED_6548_406:rest:dustAtlas, SEDs/totalLuminositiesStellar:SED_6954_431:rest, SEDs/totalLuminositiesStellar:SED_6954_431:rest:dustAtlas, SEDs/totalLuminositiesStellar:SED_7385_458:rest, SEDs/totalLuminositiesStellar:SED_7385_458:rest:dustAtlas, SEDs/totalLuminositiesStellar:SED_7843_486:rest, SEDs/totalLuminositiesStellar:SED_7843_486:rest:dustAtlas, SEDs/totalLuminositiesStellar:SED_8329_517:rest, SEDs/totalLuminositiesStellar:SED_8329_517:rest:dustAtlas, SEDs/totalLuminositiesStellar:SED_8846_549:rest, SEDs/totalLuminositiesStellar:SED_8846_549:rest:dustAtlas, SEDs/totalLuminositiesStellar:SED_9395_583:rest, SEDs/totalLuminositiesStellar:SED_9395_583:rest:dustAtlas, SEDs/totalLuminositiesStellar:SED_9978_1489:rest, SEDs/totalLuminositiesStellar:SED_9978_1489:rest:dustAtlas, baseDC2/_obs_sm_orig_um_snap, baseDC2/dec, baseDC2/galaxy_id, baseDC2/halo_id, baseDC2/host_centric_vx, baseDC2/host_centric_vy, baseDC2/host_centric_vz, baseDC2/host_centric_x, baseDC2/host_centric_y, baseDC2/host_centric_z, baseDC2/host_halo_mvir, baseDC2/host_halo_vx, baseDC2/host_halo_vy, baseDC2/host_halo_vz, baseDC2/host_halo_x, baseDC2/host_halo_y, baseDC2/host_halo_z, baseDC2/hostid, baseDC2/is_on_red_sequence_gr, baseDC2/is_on_red_sequence_ri, baseDC2/lightcone_id, baseDC2/lightcone_replication, baseDC2/lightcone_rotation, baseDC2/mpeak, baseDC2/mvir, baseDC2/obs_sfr, baseDC2/obs_sfr_percentile, baseDC2/obs_sm, baseDC2/ra, baseDC2/redshift, baseDC2/restframe_extincted_sdss_abs_magg, baseDC2/restframe_extincted_sdss_abs_magi, baseDC2/restframe_extincted_sdss_abs_magr, baseDC2/restframe_extincted_sdss_gr, baseDC2/restframe_extincted_sdss_ri, baseDC2/sfr, baseDC2/sfr_percentile, baseDC2/sm, baseDC2/source_halo_id, baseDC2/source_halo_mvir, baseDC2/target_halo_fof_halo_id, baseDC2/target_halo_id, baseDC2/target_halo_mass, baseDC2/target_halo_redshift, baseDC2/target_halo_vx, baseDC2/target_halo_vy, baseDC2/target_halo_vz, baseDC2/target_halo_x, baseDC2/target_halo_y, baseDC2/target_halo_z, baseDC2/upid, baseDC2/vmax, baseDC2/vpeak, baseDC2/vx, baseDC2/vy, baseDC2/vz, baseDC2/x, baseDC2/y, baseDC2/z, blackHoleAccretionRate, blackHoleEddingtonRatio, blackHoleMass, bulge_to_total_ratio_i, convergence, dec, dec_true, diskAbundancesStellarMetals, diskMassStellar, diskStarFormationRate, diskVelocity, ellipticity_1_bulge_true, ellipticity_1_disk_true, ellipticity_1_true, ellipticity_2_bulge_true, ellipticity_2_disk_true, ellipticity_2_true, ellipticity_bulge_true, ellipticity_disk_true, ellipticity_true, emissionLines/diskLineLuminosity:balmerAlpha6563, emissionLines/diskLineLuminosity:balmerBeta4861, emissionLines/diskLineLuminosity:nitrogenII6584, emissionLines/diskLineLuminosity:oxygenII3726, emissionLines/diskLineLuminosity:oxygenII3729, emissionLines/diskLineLuminosity:oxygenIII4959, emissionLines/diskLineLuminosity:oxygenIII5007, emissionLines/diskLineLuminosity:sulfurII6716, emissionLines/diskLineLuminosity:sulfurII6731, emissionLines/spheroidLineLuminosity:balmerAlpha6563, emissionLines/spheroidLineLuminosity:balmerBeta4861, emissionLines/spheroidLineLuminosity:nitrogenII6584, emissionLines/spheroidLineLuminosity:oxygenII3726, emissionLines/spheroidLineLuminosity:oxygenII3729, emissionLines/spheroidLineLuminosity:oxygenIII4959, emissionLines/spheroidLineLuminosity:oxygenIII5007, emissionLines/spheroidLineLuminosity:sulfurII6716, emissionLines/spheroidLineLuminosity:sulfurII6731, emissionLines/totalLineLuminosity:balmerAlpha6563, emissionLines/totalLineLuminosity:balmerBeta4861, emissionLines/totalLineLuminosity:nitrogenII6584, emissionLines/totalLineLuminosity:oxygenII3726, emissionLines/totalLineLuminosity:oxygenII3729, emissionLines/totalLineLuminosity:oxygenIII4959, emissionLines/totalLineLuminosity:oxygenIII5007, emissionLines/totalLineLuminosity:sulfurII6716, emissionLines/totalLineLuminosity:sulfurII6731, galaxyID, galaxy_id, halo_id, halo_mass, hostHaloMass, hostHaloTag, infallIndex, isCentral, is_central, lightcone_replication, lightcone_rotation, mag_Y_lsst, mag_Y_lsst_no_host_extinction, mag_g, mag_g_lsst, mag_g_lsst_no_host_extinction, mag_g_sdss, mag_g_sdss_no_host_extinction, mag_i, mag_i_lsst, mag_i_lsst_no_host_extinction, mag_i_sdss, mag_i_sdss_no_host_extinction, mag_r, mag_r_lsst, mag_r_lsst_no_host_extinction, mag_r_sdss, mag_r_sdss_no_host_extinction, mag_true_Y_lsst, mag_true_Y_lsst_no_host_extinction, mag_true_g, mag_true_g_lsst, mag_true_g_lsst_no_host_extinction, mag_true_g_sdss, mag_true_g_sdss_no_host_extinction, mag_true_i, mag_true_i_lsst, mag_true_i_lsst_no_host_extinction, mag_true_i_sdss, mag_true_i_sdss_no_host_extinction, mag_true_r, mag_true_r_lsst, mag_true_r_lsst_no_host_extinction, mag_true_r_sdss, mag_true_r_sdss_no_host_extinction, mag_true_u, mag_true_u_lsst, mag_true_u_lsst_no_host_extinction, mag_true_u_sdss, mag_true_u_sdss_no_host_extinction, mag_true_y, mag_true_y_lsst, mag_true_y_lsst_no_host_extinction, mag_true_z, mag_true_z_lsst, mag_true_z_lsst_no_host_extinction, mag_true_z_sdss, mag_true_z_sdss_no_host_extinction, mag_u, mag_u_lsst, mag_u_lsst_no_host_extinction, mag_u_sdss, mag_u_sdss_no_host_extinction, mag_y, mag_y_lsst, mag_y_lsst_no_host_extinction, mag_z, mag_z_lsst, mag_z_lsst_no_host_extinction, mag_z_sdss, mag_z_sdss_no_host_extinction, magnification, matchUp/GalacticusNodeIndex, matchUp/NumberSelected, matchUp/dustFactor, matchUp/libraryIndex, matchUp/luminosityFactor, morphology/diskAxisRatio, morphology/diskEllipticity, morphology/diskEllipticity1, morphology/diskEllipticity2, morphology/diskHalfLightRadius, morphology/diskHalfLightRadiusArcsec, morphology/diskMajorAxisArcsec, morphology/diskMinorAxisArcsec, morphology/diskSersicIndex, morphology/positionAngle, morphology/spheroidAxisRatio, morphology/spheroidEllipticity, morphology/spheroidEllipticity1, morphology/spheroidEllipticity2, morphology/spheroidHalfLightRadius, morphology/spheroidHalfLightRadiusArcsec, morphology/spheroidMajorAxisArcsec, morphology/spheroidMinorAxisArcsec, morphology/spheroidSersicIndex, morphology/totalAxisRatio, morphology/totalEllipticity, morphology/totalEllipticity1, morphology/totalEllipticity2, morphology/totalSersicIndex, otherLuminosities/diskLuminositiesStellar:B:rest, otherLuminosities/diskLuminositiesStellar:B:rest:dustAtlas, otherLuminosities/diskLuminositiesStellar:HeliumContinuum:rest, otherLuminosities/diskLuminositiesStellar:HeliumContinuum:rest:dustAtlas, otherLuminosities/diskLuminositiesStellar:Lyc:rest, otherLuminosities/diskLuminositiesStellar:Lyc:rest:dustAtlas, otherLuminosities/diskLuminositiesStellar:OxygenContinuum:rest, otherLuminosities/diskLuminositiesStellar:OxygenContinuum:rest:dustAtlas, otherLuminosities/diskLuminositiesStellar:V:rest, otherLuminosities/diskLuminositiesStellar:V:rest:dustAtlas, otherLuminosities/spheroidLuminositiesStellar:B:rest, otherLuminosities/spheroidLuminositiesStellar:B:rest:dustAtlas, otherLuminosities/spheroidLuminositiesStellar:HeliumContinuum:rest, otherLuminosities/spheroidLuminositiesStellar:HeliumContinuum:rest:dustAtlas, otherLuminosities/spheroidLuminositiesStellar:Lyc:rest, otherLuminosities/spheroidLuminositiesStellar:Lyc:rest:dustAtlas, otherLuminosities/spheroidLuminositiesStellar:OxygenContinuum:rest, otherLuminosities/spheroidLuminositiesStellar:OxygenContinuum:rest:dustAtlas, otherLuminosities/spheroidLuminositiesStellar:V:rest, otherLuminosities/spheroidLuminositiesStellar:V:rest:dustAtlas, otherLuminosities/totalLuminositiesStellar:B:rest, otherLuminosities/totalLuminositiesStellar:B:rest:dustAtlas, otherLuminosities/totalLuminositiesStellar:HeliumContinuum:rest, otherLuminosities/totalLuminositiesStellar:HeliumContinuum:rest:dustAtlas, otherLuminosities/totalLuminositiesStellar:Lyc:rest, otherLuminosities/totalLuminositiesStellar:Lyc:rest:dustAtlas, otherLuminosities/totalLuminositiesStellar:OxygenContinuum:rest, otherLuminosities/totalLuminositiesStellar:OxygenContinuum:rest:dustAtlas, otherLuminosities/totalLuminositiesStellar:V:rest, otherLuminosities/totalLuminositiesStellar:V:rest:dustAtlas, peculiarVelocity, position_angle_true, position_x, position_y, position_z, ra, ra_true, redshift, redshiftHubble, redshift_true, sed_1000_246, sed_1000_246_bulge, sed_1000_246_bulge_no_host_extinction, sed_1000_246_disk, sed_1000_246_disk_no_host_extinction, sed_1000_246_no_host_extinction, sed_11467_1710, sed_11467_1710_bulge, sed_11467_1710_bulge_no_host_extinction, sed_11467_1710_disk, sed_11467_1710_disk_no_host_extinction, sed_11467_1710_no_host_extinction, sed_1246_306, sed_1246_306_bulge, sed_1246_306_bulge_no_host_extinction, sed_1246_306_disk, sed_1246_306_disk_no_host_extinction, sed_1246_306_no_host_extinction, sed_13177_1966, sed_13177_1966_bulge, sed_13177_1966_bulge_no_host_extinction, sed_13177_1966_disk, sed_13177_1966_disk_no_host_extinction, sed_13177_1966_no_host_extinction, sed_15143_2259, sed_15143_2259_bulge, sed_15143_2259_bulge_no_host_extinction, sed_15143_2259_disk, sed_15143_2259_disk_no_host_extinction, sed_15143_2259_no_host_extinction, sed_1552_381, sed_1552_381_bulge, sed_1552_381_bulge_no_host_extinction, sed_1552_381_disk, sed_1552_381_disk_no_host_extinction, sed_1552_381_no_host_extinction, sed_17402_2596, sed_17402_2596_bulge, sed_17402_2596_bulge_no_host_extinction, sed_17402_2596_disk, sed_17402_2596_disk_no_host_extinction, sed_17402_2596_no_host_extinction, sed_1933_474, sed_1933_474_bulge, sed_1933_474_bulge_no_host_extinction, sed_1933_474_disk, sed_1933_474_disk_no_host_extinction, sed_1933_474_no_host_extinction, sed_2407_591, sed_2407_591_bulge, sed_2407_591_bulge_no_host_extinction, sed_2407_591_disk, sed_2407_591_disk_no_host_extinction, sed_2407_591_no_host_extinction, sed_2998_186, sed_2998_186_bulge, sed_2998_186_bulge_no_host_extinction, sed_2998_186_disk, sed_2998_186_disk_no_host_extinction, sed_2998_186_no_host_extinction, sed_3184_197, sed_3184_197_bulge, sed_3184_197_bulge_no_host_extinction, sed_3184_197_disk, sed_3184_197_disk_no_host_extinction, sed_3184_197_no_host_extinction, sed_3381_209, sed_3381_209_bulge, sed_3381_209_bulge_no_host_extinction, sed_3381_209_disk, sed_3381_209_disk_no_host_extinction, sed_3381_209_no_host_extinction, sed_3590_222, sed_3590_222_bulge, sed_3590_222_bulge_no_host_extinction, sed_3590_222_disk, sed_3590_222_disk_no_host_extinction, sed_3590_222_no_host_extinction, sed_3812_236, sed_3812_236_bulge, sed_3812_236_bulge_no_host_extinction, sed_3812_236_disk, sed_3812_236_disk_no_host_extinction, sed_3812_236_no_host_extinction, sed_4048_251, sed_4048_251_bulge, sed_4048_251_bulge_no_host_extinction, sed_4048_251_disk, sed_4048_251_disk_no_host_extinction, sed_4048_251_no_host_extinction, sed_4299_266, sed_4299_266_bulge, sed_4299_266_bulge_no_host_extinction, sed_4299_266_disk, sed_4299_266_disk_no_host_extinction, sed_4299_266_no_host_extinction, sed_4565_283, sed_4565_283_bulge, sed_4565_283_bulge_no_host_extinction, sed_4565_283_disk, sed_4565_283_disk_no_host_extinction, sed_4565_283_no_host_extinction, sed_4848_300, sed_4848_300_bulge, sed_4848_300_bulge_no_host_extinction, sed_4848_300_disk, sed_4848_300_disk_no_host_extinction, sed_4848_300_no_host_extinction, sed_5148_319, sed_5148_319_bulge, sed_5148_319_bulge_no_host_extinction, sed_5148_319_disk, sed_5148_319_disk_no_host_extinction, sed_5148_319_no_host_extinction, sed_5467_339, sed_5467_339_bulge, sed_5467_339_bulge_no_host_extinction, sed_5467_339_disk, sed_5467_339_disk_no_host_extinction, sed_5467_339_no_host_extinction, sed_5806_360, sed_5806_360_bulge, sed_5806_360_bulge_no_host_extinction, sed_5806_360_disk, sed_5806_360_disk_no_host_extinction, sed_5806_360_no_host_extinction, sed_6166_382, sed_6166_382_bulge, sed_6166_382_bulge_no_host_extinction, sed_6166_382_disk, sed_6166_382_disk_no_host_extinction, sed_6166_382_no_host_extinction, sed_6548_406, sed_6548_406_bulge, sed_6548_406_bulge_no_host_extinction, sed_6548_406_disk, sed_6548_406_disk_no_host_extinction, sed_6548_406_no_host_extinction, sed_6954_431, sed_6954_431_bulge, sed_6954_431_bulge_no_host_extinction, sed_6954_431_disk, sed_6954_431_disk_no_host_extinction, sed_6954_431_no_host_extinction, sed_7385_458, sed_7385_458_bulge, sed_7385_458_bulge_no_host_extinction, sed_7385_458_disk, sed_7385_458_disk_no_host_extinction, sed_7385_458_no_host_extinction, sed_7843_486, sed_7843_486_bulge, sed_7843_486_bulge_no_host_extinction, sed_7843_486_disk, sed_7843_486_disk_no_host_extinction, sed_7843_486_no_host_extinction, sed_8329_517, sed_8329_517_bulge, sed_8329_517_bulge_no_host_extinction, sed_8329_517_disk, sed_8329_517_disk_no_host_extinction, sed_8329_517_no_host_extinction, sed_8846_549, sed_8846_549_bulge, sed_8846_549_bulge_no_host_extinction, sed_8846_549_disk, sed_8846_549_disk_no_host_extinction, sed_8846_549_no_host_extinction, sed_9395_583, sed_9395_583_bulge, sed_9395_583_bulge_no_host_extinction, sed_9395_583_disk, sed_9395_583_disk_no_host_extinction, sed_9395_583_no_host_extinction, sed_9978_1489, sed_9978_1489_bulge, sed_9978_1489_bulge_no_host_extinction, sed_9978_1489_disk, sed_9978_1489_disk_no_host_extinction, sed_9978_1489_no_host_extinction, sersic_bulge, sersic_disk, shear1, shear2, shear_1, shear_2, shear_2_phosim, shear_2_treecorr, size_bulge_true, size_disk_true, size_minor_bulge_true, size_minor_disk_true, size_minor_true, size_true, spheroidAbundancesStellarMetals, spheroidMassStellar, spheroidStarFormationRate, spheroidVelocity, spinSpin, stellar_mass, stellar_mass_bulge, stellar_mass_disk, step, totalAbundancesStellarMetals, totalMassStellar, totalStarFormationRate, totalVelocity, uniqueHaloID, velocity_x, velocity_y, velocity_z, vx, vy, vz, x, y, z\n"
     ]
    }
   ],
   "source": [
    "print(', '.join(sorted(gc.list_all_quantities(include_native=True))))"
   ]
  },
  {
   "cell_type": "code",
   "execution_count": 10,
   "metadata": {},
   "outputs": [
    {
     "name": "stderr",
     "output_type": "stream",
     "text": [
      "/pbs/home/b/barcelin/pbs_throng_link/lsst_stack/conda/miniconda3-py37_4.8.2/envs/lsst-scipipe-1a1d771/lib/python3.7/site-packages/GCRCatalogs-1.0.1-py3.7.egg/GCRCatalogs/dc2_dm_catalog.py:44: RuntimeWarning: invalid value encountered in log10\n",
      "  return -2.5 * np.log10(flux) + AB_mag_zp_wrt_nanoJansky\n"
     ]
    }
   ],
   "source": [
    "# Let's define a magnitude cut\n",
    "mag_filters = [\n",
    "    (np.isfinite, 'mag_r'),\n",
    "    'mag_r < 24.5',\n",
    "]\n",
    "\n",
    "# Load ra and dec from object, using both of the filters we just defined.\n",
    "\n",
    "## The test sample was generated with the tract 4029\n",
    "object_data = gc_obs.get_quantities(['ra', 'dec', 'r_FLUXMAG0'],\n",
    "                                        filters=(mag_filters), native_filters=['tract == 4029'])"
   ]
  },
  {
   "cell_type": "code",
   "execution_count": 11,
   "metadata": {},
   "outputs": [
    {
     "data": {
      "text/plain": [
       "array([6.30957344e+10, 6.30957344e+10, 6.30957344e+10, ...,\n",
       "       6.30957344e+10, 6.30957344e+10, 6.30957344e+10])"
      ]
     },
     "execution_count": 11,
     "metadata": {},
     "output_type": "execute_result"
    }
   ],
   "source": [
    "object_data['r_FLUXMAG0']"
   ]
  },
  {
   "cell_type": "markdown",
   "metadata": {},
   "source": [
    "Find same quantities in truth catalog"
   ]
  },
  {
   "cell_type": "code",
   "execution_count": 12,
   "metadata": {},
   "outputs": [],
   "source": [
    "max_ra = np.nanmax(object_data['ra'])\n",
    "min_ra = np.nanmin(object_data['ra'])\n",
    "max_dec = np.nanmax(object_data['dec'])\n",
    "min_dec = np.nanmin(object_data['dec'])\n",
    "vertices = hp.ang2vec(np.array([min_ra, max_ra, max_ra, min_ra]),\n",
    "                      np.array([min_dec, min_dec, max_dec, max_dec]), lonlat=True)\n",
    "ipix = hp.query_polygon(32, vertices, inclusive=True)\n",
    "native_filter = f'(healpix_pixel == {ipix[0]})'\n",
    "for ipx in ipix:\n",
    "    native_filter=native_filter+f' | (healpix_pixel == {ipx})'\n",
    "pos_filters=[f'ra >= {min_ra}',f'ra <={max_ra}', f'dec >= {min_dec}', f'dec <= {max_dec}']\n",
    "\n",
    "truth_mag_filters = ['mag_r < 24.5']\n",
    "quantities = ['galaxy_id', 'ra', 'dec', 'ellipticity_1_bulge_true', 'bulge_to_total_ratio_i', 'sersic_bulge', 'ellipticity_2_bulge_true', \n",
    "              'size_disk_true','ellipticity_1_disk_true', 'ellipticity_2_disk_true', 'sersic_disk', 'morphology/diskHalfLightRadiusArcsec',\n",
    "              'morphology/spheroidHalfLightRadiusArcsec', 'mag_true_Y_lsst', 'mag_true_i_lsst', 'mag_true_g_lsst', 'mag_true_u_lsst', 'mag_true_r_lsst',\n",
    "              'mag_true_z_lsst', 'size_bulge_true', 'size_disk_true','redshift', 'redshift_true',\n",
    "             'ellipticity_1_true', 'ellipticity_2_true', 'Mag_true_r_lsst_z0', 'mag_r_lsst', 'LSST_filters/totalLuminositiesStellar:LSST_i:rest',\n",
    "              'LSST_filters/totalLuminositiesStellar:LSST_r:rest', 'LSST_filters/totalLuminositiesStellar:LSST_r:observed',\n",
    "              'LSST_filters/totalLuminositiesStellar:LSST_r:rest:dustAtlas','LSST_filters/totalLuminositiesStellar:LSST_r:observed:dustAtlas','matchUp/luminosityFactor',\n",
    "              'convergence','LSST_filters/magnitude:LSST_r:rest','sed_4848_300_disk',\n",
    "              'shear_1', 'shear_2']\n",
    "\n",
    "truth_data = gc.get_quantities(quantities, filters=truth_mag_filters+pos_filters, \n",
    "                                      native_filters=native_filter)"
   ]
  },
  {
   "cell_type": "code",
   "execution_count": 13,
   "metadata": {},
   "outputs": [
    {
     "data": {
      "text/plain": [
       "array([2.4607154e+07, 1.1115243e+07, 3.6616624e+07, ..., 2.3203951e+01,\n",
       "       2.3104641e+05, 1.5355409e+07], dtype=float32)"
      ]
     },
     "execution_count": 13,
     "metadata": {},
     "output_type": "execute_result"
    }
   ],
   "source": [
    "truth_data['sed_4848_300_disk']"
   ]
  },
  {
   "cell_type": "code",
   "execution_count": 14,
   "metadata": {},
   "outputs": [
    {
     "ename": "IndentationError",
     "evalue": "unexpected indent (<ipython-input-14-659acfcec55e>, line 2)",
     "output_type": "error",
     "traceback": [
      "\u001b[0;36m  File \u001b[0;32m\"<ipython-input-14-659acfcec55e>\"\u001b[0;36m, line \u001b[0;32m2\u001b[0m\n\u001b[0;31m    'SEDs/totalLuminositiesStellar:SED_1933_474:rest', 'SEDs/totalLuminositiesStellar:SED_11467_1710:rest', 'SEDs/totalLuminositiesStellar:SED_5806_360:rest',\u001b[0m\n\u001b[0m    ^\u001b[0m\n\u001b[0;31mIndentationError\u001b[0m\u001b[0;31m:\u001b[0m unexpected indent\n"
     ]
    }
   ],
   "source": [
    " 'SEDs/totalLuminositiesStellar:SED_15143_2259:rest','SEDs/totalLuminositiesStellar:SED_3590_222:rest','SEDs/totalLuminositiesStellar:SED_5467_339:rest', \n",
    "    'SEDs/totalLuminositiesStellar:SED_1933_474:rest', 'SEDs/totalLuminositiesStellar:SED_11467_1710:rest', 'SEDs/totalLuminositiesStellar:SED_5806_360:rest',\n",
    "    'SEDs/totalLuminositiesStellar:SED_2998_186:rest',"
   ]
  },
  {
   "cell_type": "code",
   "execution_count": 15,
   "metadata": {},
   "outputs": [
    {
     "data": {
      "text/plain": [
       "array([-0.39721264, -0.39721264, -0.50120301, ..., -1.50996997,\n",
       "       -1.50060012, -1.4961172 ])"
      ]
     },
     "execution_count": 15,
     "metadata": {},
     "output_type": "execute_result"
    }
   ],
   "source": [
    "-2.5*np.log10(1+truth_data['redshift_true'])"
   ]
  },
  {
   "cell_type": "code",
   "execution_count": 16,
   "metadata": {},
   "outputs": [
    {
     "data": {
      "text/plain": [
       "array([-20.187386, -18.65506 , -19.399801, ..., -22.717068, -22.959648,\n",
       "       -21.723022], dtype=float32)"
      ]
     },
     "execution_count": 16,
     "metadata": {},
     "output_type": "execute_result"
    }
   ],
   "source": [
    "truth_data['LSST_filters/magnitude:LSST_r:rest']"
   ]
  },
  {
   "cell_type": "code",
   "execution_count": 17,
   "metadata": {},
   "outputs": [
    {
     "data": {
      "text/plain": [
       "array([1.0146948 , 0.99901116, 1.0101593 , ..., 1.006825  , 0.88432956,\n",
       "       0.9766734 ], dtype=float32)"
      ]
     },
     "execution_count": 17,
     "metadata": {},
     "output_type": "execute_result"
    }
   ],
   "source": [
    "truth_data['matchUp/luminosityFactor']"
   ]
  },
  {
   "cell_type": "code",
   "execution_count": 18,
   "metadata": {},
   "outputs": [
    {
     "name": "stdout",
     "output_type": "stream",
     "text": [
      "118837720.0\n"
     ]
    }
   ],
   "source": [
    "a = truth_data['LSST_filters/totalLuminositiesStellar:LSST_r:rest'][0]#+truth_data['LSST_filters/totalLuminositiesStellar:LSST_r:rest:dustAtlas'][0]\n",
    "print(a)"
   ]
  },
  {
   "cell_type": "code",
   "execution_count": 19,
   "metadata": {},
   "outputs": [
    {
     "data": {
      "text/plain": [
       "-20.187385082244873"
      ]
     },
     "execution_count": 19,
     "metadata": {},
     "output_type": "execute_result"
    }
   ],
   "source": [
    "-2.5*np.log10(a)"
   ]
  },
  {
   "cell_type": "code",
   "execution_count": 20,
   "metadata": {},
   "outputs": [],
   "source": [
    "def convert_flux_to_nanoJansky(flux, fluxmag0):\n",
    "    \"\"\"Convert the listed DM coadd-reported flux values to nanoJansky.\n",
    "    Based on the given fluxmag0 value, which is AB mag = 0.\n",
    "    Eventually we will get nJy from the final calibrated DRP processing.\n",
    "    \"\"\"\n",
    "    #pylint: disable=C0103\n",
    "    AB_mag_zp_wrt_Jansky = 8.90  # Definition of AB\n",
    "    # 9 is from nano=10**(-9)\n",
    "    #pylint: disable=C0103\n",
    "    AB_mag_zp_wrt_nanoJansky = 2.5 * 9 + AB_mag_zp_wrt_Jansky\n",
    "\n",
    "    return 10**((AB_mag_zp_wrt_nanoJansky)/2.5) * flux / fluxmag0"
   ]
  },
  {
   "cell_type": "code",
   "execution_count": 21,
   "metadata": {},
   "outputs": [],
   "source": [
    "def convert_nanoJansky_to_mag(flux):\n",
    "    \"\"\"Convert calibrated nanoJansky flux to AB mag.\n",
    "    \"\"\"\n",
    "    #pylint: disable=C0103\n",
    "    AB_mag_zp_wrt_Jansky = 8.90  # Definition of AB\n",
    "    # 9 is from nano=10**(-9)\n",
    "    #pylint: disable=C0103\n",
    "    AB_mag_zp_wrt_nanoJansky = 2.5 * 9 + AB_mag_zp_wrt_Jansky\n",
    "\n",
    "    return -2.5 * np.log10(flux) + AB_mag_zp_wrt_nanoJansky"
   ]
  },
  {
   "cell_type": "code",
   "execution_count": 22,
   "metadata": {},
   "outputs": [],
   "source": [
    "def convert_flux_to_mag(flux, fluxmag0):\n",
    "    \"\"\"Convert calibrated flux to AB mag.\n",
    "    \"\"\"\n",
    "    flux_nJ = convert_flux_to_nanoJansky(flux, fluxmag0)\n",
    "    mag_AB = convert_nanoJansky_to_mag(flux_nJ)\n",
    "    return mag_AB"
   ]
  },
  {
   "cell_type": "code",
   "execution_count": 23,
   "metadata": {},
   "outputs": [
    {
     "data": {
      "text/plain": [
       "6.812614221892371"
      ]
     },
     "execution_count": 23,
     "metadata": {},
     "output_type": "execute_result"
    }
   ],
   "source": [
    "convert_flux_to_mag(a,6.30957344e+10)"
   ]
  },
  {
   "cell_type": "code",
   "execution_count": 24,
   "metadata": {},
   "outputs": [
    {
     "data": {
      "text/plain": [
       "1725.239390012882"
      ]
     },
     "execution_count": 24,
     "metadata": {},
     "output_type": "execute_result"
    }
   ],
   "source": [
    "10**(-(truth_data['mag_true_r_lsst'][0]-31.4)/2.5)"
   ]
  },
  {
   "cell_type": "code",
   "execution_count": 25,
   "metadata": {},
   "outputs": [
    {
     "name": "stdout",
     "output_type": "stream",
     "text": [
      "96260630.0\n"
     ]
    }
   ],
   "source": [
    "b = truth_data['LSST_filters/totalLuminositiesStellar:LSST_r:observed'][0]#+truth_data['LSST_filters/totalLuminositiesStellar:LSST_r:observed:dustAtlas'][0]\n",
    "print(b)"
   ]
  },
  {
   "cell_type": "code",
   "execution_count": 26,
   "metadata": {},
   "outputs": [
    {
     "data": {
      "text/plain": [
       "-19.95862126350403"
      ]
     },
     "execution_count": 26,
     "metadata": {},
     "output_type": "execute_result"
    }
   ],
   "source": [
    "-2.5*np.log10(b)"
   ]
  },
  {
   "cell_type": "code",
   "execution_count": 27,
   "metadata": {},
   "outputs": [
    {
     "data": {
      "text/plain": [
       "-18.81882"
      ]
     },
     "execution_count": 27,
     "metadata": {},
     "output_type": "execute_result"
    }
   ],
   "source": [
    "truth_data['Mag_true_r_lsst_z0'][0]"
   ]
  },
  {
   "cell_type": "code",
   "execution_count": 28,
   "metadata": {},
   "outputs": [
    {
     "data": {
      "text/plain": [
       "(23.307877, 23.31065512943487)"
      ]
     },
     "execution_count": 28,
     "metadata": {},
     "output_type": "execute_result"
    }
   ],
   "source": [
    "truth_data['mag_true_r_lsst'][0], truth_data['mag_r_lsst'][0]"
   ]
  },
  {
   "cell_type": "code",
   "execution_count": 29,
   "metadata": {},
   "outputs": [
    {
     "data": {
      "text/plain": [
       "-0.002778542520808003"
      ]
     },
     "execution_count": 29,
     "metadata": {},
     "output_type": "execute_result"
    }
   ],
   "source": [
    "truth_data['mag_true_r_lsst'][0]-truth_data['mag_r_lsst'][0]"
   ]
  },
  {
   "cell_type": "code",
   "execution_count": 30,
   "metadata": {},
   "outputs": [
    {
     "data": {
      "text/plain": [
       "-0.22876381874084473"
      ]
     },
     "execution_count": 30,
     "metadata": {},
     "output_type": "execute_result"
    }
   ],
   "source": [
    "-2.5*np.log10(a)-(-2.5*np.log10(b))"
   ]
  },
  {
   "cell_type": "markdown",
   "metadata": {},
   "source": [
    "Make FoF matching"
   ]
  },
  {
   "cell_type": "code",
   "execution_count": 31,
   "metadata": {},
   "outputs": [],
   "source": [
    "results = FoFCatalogMatching.match(\n",
    "    catalog_dict={'truth': truth_data, 'object': object_data},\n",
    "    linking_lengths=0.1,#{5.0: 5, 4.0: 5, 3.0: 4, 2.0: 3, 1.0: None}, # Linking length of 1 arcsecond, you can play around with the values!\n",
    "    catalog_len_getter=lambda x: len(x['ra']),\n",
    ")\n",
    "\n",
    "\n",
    "# first we need to know which rows are from the truth catalog and which are from the object\n",
    "truth_mask = results['catalog_key'] == 'truth'\n",
    "object_mask = ~truth_mask\n",
    "\n",
    "\n",
    "# then np.bincount will give up the number of id occurrences (like historgram but with integer input)\n",
    "n_groups = results['group_id'].max() + 1\n",
    "n_truth = np.bincount(results['group_id'][truth_mask], minlength=n_groups)\n",
    "n_object = np.bincount(results['group_id'][object_mask], minlength=n_groups)\n",
    "\n",
    "one_to_one_group_mask = np.in1d(results['group_id'], np.flatnonzero((n_truth == 1) & (n_object == 1)))\n",
    "\n",
    "truth_idx = results['row_index'][one_to_one_group_mask & truth_mask]\n",
    "object_idx = results['row_index'][one_to_one_group_mask & object_mask]"
   ]
  },
  {
   "cell_type": "code",
   "execution_count": 32,
   "metadata": {},
   "outputs": [
    {
     "data": {
      "text/plain": [
       "array([-18.81882 , -17.995182, -19.328108, ..., -22.717066, -22.349073,\n",
       "       -20.965302], dtype=float32)"
      ]
     },
     "execution_count": 32,
     "metadata": {},
     "output_type": "execute_result"
    }
   ],
   "source": [
    "truth_data['Mag_true_r_lsst_z0']"
   ]
  },
  {
   "cell_type": "code",
   "execution_count": 33,
   "metadata": {},
   "outputs": [
    {
     "data": {
      "text/plain": [
       "array([23.307877, 24.197302, 23.513796, ..., 24.198631, 23.743162,\n",
       "       24.490736], dtype=float32)"
      ]
     },
     "execution_count": 33,
     "metadata": {},
     "output_type": "execute_result"
    }
   ],
   "source": [
    "truth_data['mag_true_r_lsst']"
   ]
  },
  {
   "cell_type": "code",
   "execution_count": 34,
   "metadata": {},
   "outputs": [
    {
     "data": {
      "text/plain": [
       "array([23.31065513, 24.20007367, 23.53270539, ..., 24.25284015,\n",
       "       23.83020941, 24.37371929])"
      ]
     },
     "execution_count": 34,
     "metadata": {},
     "output_type": "execute_result"
    }
   ],
   "source": [
    "truth_data['mag_r_lsst']"
   ]
  },
  {
   "cell_type": "markdown",
   "metadata": {},
   "source": [
    "### Match data from test sample with catalogs"
   ]
  },
  {
   "cell_type": "markdown",
   "metadata": {},
   "source": [
    "Test for one element"
   ]
  },
  {
   "cell_type": "code",
   "execution_count": 35,
   "metadata": {},
   "outputs": [],
   "source": [
    "id_ra_dec = Table.from_pandas(pd.DataFrame.from_dict(object_data))\n",
    "id_ra_dec_truth = Table.from_pandas(pd.DataFrame.from_dict(truth_data))\n",
    "\n",
    "in_truth_data = np.where(truth_data['galaxy_id'] == test_data['id'][0])[0][0]\n",
    "truth_i = np.where(truth_idx == in_truth_data)[0][0]"
   ]
  },
  {
   "cell_type": "code",
   "execution_count": 36,
   "metadata": {},
   "outputs": [
    {
     "data": {
      "text/plain": [
       "(21705, 16714)"
      ]
     },
     "execution_count": 36,
     "metadata": {},
     "output_type": "execute_result"
    }
   ],
   "source": [
    "in_truth_data, truth_i"
   ]
  },
  {
   "cell_type": "code",
   "execution_count": 37,
   "metadata": {},
   "outputs": [
    {
     "data": {
      "text/html": [
       "<i>Row index=115241</i>\n",
       "<table id=\"table139984231522768\">\n",
       "<thead><tr><th>dec</th><th>ra</th><th>r_FLUXMAG0</th></tr></thead>\n",
       "<thead><tr><th>float64</th><th>float64</th><th>float64</th></tr></thead>\n",
       "<tr><td>-34.87965201473972</td><td>61.80329086061776</td><td>63095734448.019424</td></tr>\n",
       "</table>"
      ],
      "text/plain": [
       "<Row index=115241>\n",
       "       dec                 ra            r_FLUXMAG0    \n",
       "     float64            float64           float64      \n",
       "------------------ ----------------- ------------------\n",
       "-34.87965201473972 61.80329086061776 63095734448.019424"
      ]
     },
     "execution_count": 37,
     "metadata": {},
     "output_type": "execute_result"
    }
   ],
   "source": [
    "id_ra_dec[object_idx[truth_i]]"
   ]
  },
  {
   "cell_type": "code",
   "execution_count": 38,
   "metadata": {},
   "outputs": [
    {
     "data": {
      "text/html": [
       "<i>Row index=21705</i>\n",
       "<table id=\"table139984212472016\">\n",
       "<thead><tr><th>redshift_true</th><th>LSST_filters/totalLuminositiesStellar:LSST_r:rest:dustAtlas</th><th>ellipticity_1_disk_true</th><th>LSST_filters/totalLuminositiesStellar:LSST_r:rest</th><th>LSST_filters/totalLuminositiesStellar:LSST_r:observed:dustAtlas</th><th>ellipticity_1_true</th><th>shear_2</th><th>redshift</th><th>ellipticity_2_disk_true</th><th>LSST_filters/totalLuminositiesStellar:LSST_i:rest</th><th>mag_true_i_lsst</th><th>bulge_to_total_ratio_i</th><th>morphology/spheroidHalfLightRadiusArcsec</th><th>mag_true_Y_lsst</th><th>size_disk_true</th><th>mag_true_g_lsst</th><th>sersic_disk</th><th>mag_true_u_lsst</th><th>ellipticity_2_true</th><th>LSST_filters/totalLuminositiesStellar:LSST_r:observed</th><th>ellipticity_2_bulge_true</th><th>ellipticity_1_bulge_true</th><th>dec</th><th>sersic_bulge</th><th>convergence</th><th>morphology/diskHalfLightRadiusArcsec</th><th>sed_4848_300_disk</th><th>mag_r_lsst</th><th>galaxy_id</th><th>LSST_filters/magnitude:LSST_r:rest</th><th>shear_1</th><th>mag_true_r_lsst</th><th>ra</th><th>mag_true_z_lsst</th><th>matchUp/luminosityFactor</th><th>size_bulge_true</th><th>Mag_true_r_lsst_z0</th></tr></thead>\n",
       "<thead><tr><th>float64</th><th>float32</th><th>float64</th><th>float32</th><th>float32</th><th>float64</th><th>float64</th><th>float64</th><th>float64</th><th>float32</th><th>float32</th><th>float32</th><th>float64</th><th>float32</th><th>float32</th><th>float32</th><th>float32</th><th>float32</th><th>float64</th><th>float32</th><th>float64</th><th>float64</th><th>float64</th><th>float32</th><th>float64</th><th>float64</th><th>float32</th><th>float64</th><th>int64</th><th>float32</th><th>float64</th><th>float32</th><th>float64</th><th>float32</th><th>float32</th><th>float32</th><th>float32</th></tr></thead>\n",
       "<tr><td>0.5550241470336914</td><td>179691650.0</td><td>0.12068885986170702</td><td>193343740.0</td><td>62166656.0</td><td>0.1079389866366205</td><td>0.001616102020758261</td><td>0.5553945635835031</td><td>-0.42281053601859075</td><td>233922500.0</td><td>21.846933</td><td>0.1183321</td><td>0.30788681800621687</td><td>21.425236</td><td>0.5813277</td><td>23.892868</td><td>1.0</td><td>25.213202</td><td>-0.37814377275108607</td><td>69254250.0</td><td>-0.059539430670435926</td><td>0.016995191444600398</td><td>-34.87964521679146</td><td>4.0</td><td>0.008880102009502622</td><td>0.5813277034491181</td><td>112191100.0</td><td>22.562442468707506</td><td>6000542719</td><td>-20.715826</td><td>0.0034009695643505977</td><td>22.581827</td><td>61.80329789587876</td><td>21.596722</td><td>0.9687918</td><td>0.3078868</td><td>-20.63632</td></tr>\n",
       "</table>"
      ],
      "text/plain": [
       "<Row index=21705>\n",
       "  redshift_true    LSST_filters/totalLuminositiesStellar:LSST_r:rest:dustAtlas ellipticity_1_disk_true LSST_filters/totalLuminositiesStellar:LSST_r:rest LSST_filters/totalLuminositiesStellar:LSST_r:observed:dustAtlas ellipticity_1_true       shear_2             redshift      ellipticity_2_disk_true LSST_filters/totalLuminositiesStellar:LSST_i:rest mag_true_i_lsst bulge_to_total_ratio_i morphology/spheroidHalfLightRadiusArcsec mag_true_Y_lsst size_disk_true mag_true_g_lsst sersic_disk mag_true_u_lsst  ellipticity_2_true  LSST_filters/totalLuminositiesStellar:LSST_r:observed ellipticity_2_bulge_true ellipticity_1_bulge_true        dec         sersic_bulge     convergence      morphology/diskHalfLightRadiusArcsec sed_4848_300_disk     mag_r_lsst     galaxy_id  LSST_filters/magnitude:LSST_r:rest        shear_1        mag_true_r_lsst         ra        mag_true_z_lsst matchUp/luminosityFactor size_bulge_true Mag_true_r_lsst_z0\n",
       "     float64                                 float32                                   float64                              float32                                                  float32                                  float64             float64             float64               float64                              float32                          float32            float32                         float64                      float32        float32         float32       float32       float32           float64                               float32                                float64                  float64               float64         float32          float64                      float64                     float32           float64         int64                 float32                      float64            float32          float64          float32             float32              float32          float32      \n",
       "------------------ ----------------------------------------------------------- ----------------------- ------------------------------------------------- --------------------------------------------------------------- ------------------ -------------------- ------------------ ----------------------- ------------------------------------------------- --------------- ---------------------- ---------------------------------------- --------------- -------------- --------------- ----------- --------------- -------------------- ----------------------------------------------------- ------------------------ ------------------------ ------------------ ------------ -------------------- ------------------------------------ ----------------- ------------------ ---------- ---------------------------------- --------------------- --------------- ----------------- --------------- ------------------------ --------------- ------------------\n",
       "0.5550241470336914                                                 179691650.0     0.12068885986170702                                       193343740.0                                                      62166656.0 0.1079389866366205 0.001616102020758261 0.5553945635835031    -0.42281053601859075                                       233922500.0       21.846933              0.1183321                      0.30788681800621687       21.425236      0.5813277       23.892868         1.0       25.213202 -0.37814377275108607                                            69254250.0    -0.059539430670435926     0.016995191444600398 -34.87964521679146          4.0 0.008880102009502622                   0.5813277034491181       112191100.0 22.562442468707506 6000542719                         -20.715826 0.0034009695643505977       22.581827 61.80329789587876       21.596722                0.9687918       0.3078868          -20.63632"
      ]
     },
     "execution_count": 38,
     "metadata": {},
     "output_type": "execute_result"
    }
   ],
   "source": [
    "id_ra_dec_truth[truth_idx[truth_i]]"
   ]
  },
  {
   "cell_type": "markdown",
   "metadata": {},
   "source": [
    "For all elements in the sample"
   ]
  },
  {
   "cell_type": "code",
   "execution_count": 39,
   "metadata": {},
   "outputs": [],
   "source": [
    "id_ra_dec = Table.from_pandas(pd.DataFrame.from_dict(object_data))\n",
    "id_ra_dec_truth = Table.from_pandas(pd.DataFrame.from_dict(truth_data))\n",
    "\n",
    "truth_i=[]\n",
    "\n",
    "for i in range (len(test_data['id'])):\n",
    "    in_truth_data = np.where(truth_data['galaxy_id'] == test_data['id'][i])[0][0]\n",
    "    truth_i.append(np.where(truth_idx == in_truth_data)[0][0])"
   ]
  },
  {
   "cell_type": "code",
   "execution_count": 40,
   "metadata": {},
   "outputs": [
    {
     "data": {
      "text/plain": [
       "10000"
      ]
     },
     "execution_count": 40,
     "metadata": {},
     "output_type": "execute_result"
    }
   ],
   "source": [
    "len(truth_i)"
   ]
  },
  {
   "cell_type": "code",
   "execution_count": 41,
   "metadata": {},
   "outputs": [],
   "source": [
    "## Compute lensed ellipticities from shear and \n",
    "def calc_lensed_ellipticity_1(es1, es2, gamma1, gamma2, kappa):\n",
    "    gamma = gamma1 + gamma2*1j # shear (as a complex number)\n",
    "    es =  es1 + es2*1j # intrinsic ellipticity (as a complex number)\n",
    "    g = gamma / (1.0 - kappa) # reduced shear\n",
    "    e = (es + g) / (1.0 + g.conjugate()*es) # lensed ellipticity\n",
    "    return np.real(e)\n",
    "\n",
    "def calc_lensed_ellipticity_2(es1, es2, gamma1, gamma2, kappa):\n",
    "    gamma = gamma1 + gamma2*1j # shear (as a complex number)\n",
    "    es =   es1 + es2*1j # intrinsic ellipticity (as a complex number)\n",
    "    g = gamma / (1.0 - kappa) # reduced shear\n",
    "    e = (es + g) / (1.0 + g.conjugate()*es) # lensed ellipticity\n",
    "    return np.imag(e)\n",
    "\n",
    "def calc_lensed_ellipticity(es1, es2, gamma1, gamma2, kappa):\n",
    "    gamma = gamma1 + gamma2*1j # shear (as a complex number)\n",
    "    es =   es1 + es2*1j # intrinsic ellipticity (as a complex number)\n",
    "    g = gamma / (1.0 - kappa) # reduced shear\n",
    "    e = (es + g) / (1.0 + g.conjugate()*es) # lensed ellipticity\n",
    "    return np.absolute(e)"
   ]
  },
  {
   "cell_type": "code",
   "execution_count": 636,
   "metadata": {},
   "outputs": [
    {
     "ename": "NameError",
     "evalue": "name 'N_exposures_lsst' is not defined",
     "output_type": "error",
     "traceback": [
      "\u001b[0;31m---------------------------------------------------------------------------\u001b[0m",
      "\u001b[0;31mNameError\u001b[0m                                 Traceback (most recent call last)",
      "\u001b[0;32m<ipython-input-636-e37678a6e244>\u001b[0m in \u001b[0;36m<module>\u001b[0;34m\u001b[0m\n\u001b[0;32m----> 1\u001b[0;31m \u001b[0msky_level_lsst_u\u001b[0m \u001b[0;34m=\u001b[0m \u001b[0;34m(\u001b[0m\u001b[0;36m2.512\u001b[0m \u001b[0;34m**\u001b[0m\u001b[0;34m(\u001b[0m\u001b[0;36m26.50\u001b[0m\u001b[0;34m-\u001b[0m\u001b[0;36m22.95\u001b[0m\u001b[0;34m)\u001b[0m\u001b[0;34m)\u001b[0m \u001b[0;34m*\u001b[0m \u001b[0mN_exposures_lsst\u001b[0m\u001b[0;34m[\u001b[0m\u001b[0;36m0\u001b[0m\u001b[0;34m]\u001b[0m \u001b[0;31m# in e-.s-1.arcsec_2\u001b[0m\u001b[0;34m\u001b[0m\u001b[0;34m\u001b[0m\u001b[0m\n\u001b[0m\u001b[1;32m      2\u001b[0m \u001b[0msky_level_lsst_g\u001b[0m \u001b[0;34m=\u001b[0m \u001b[0;34m(\u001b[0m\u001b[0;36m2.512\u001b[0m \u001b[0;34m**\u001b[0m\u001b[0;34m(\u001b[0m\u001b[0;36m28.30\u001b[0m\u001b[0;34m-\u001b[0m\u001b[0;36m22.24\u001b[0m\u001b[0;34m)\u001b[0m\u001b[0;34m)\u001b[0m \u001b[0;34m*\u001b[0m \u001b[0mN_exposures_lsst\u001b[0m\u001b[0;34m[\u001b[0m\u001b[0;36m1\u001b[0m\u001b[0;34m]\u001b[0m \u001b[0;31m# in e-.s-1.arcsec_2\u001b[0m\u001b[0;34m\u001b[0m\u001b[0;34m\u001b[0m\u001b[0m\n\u001b[1;32m      3\u001b[0m \u001b[0msky_level_lsst_r\u001b[0m \u001b[0;34m=\u001b[0m \u001b[0;34m(\u001b[0m\u001b[0;36m2.512\u001b[0m \u001b[0;34m**\u001b[0m\u001b[0;34m(\u001b[0m\u001b[0;36m28.13\u001b[0m\u001b[0;34m-\u001b[0m\u001b[0;36m21.20\u001b[0m\u001b[0;34m)\u001b[0m\u001b[0;34m)\u001b[0m \u001b[0;34m*\u001b[0m \u001b[0mN_exposures_lsst\u001b[0m\u001b[0;34m[\u001b[0m\u001b[0;36m2\u001b[0m\u001b[0;34m]\u001b[0m \u001b[0;31m# in e-.s-1.arcsec_2\u001b[0m\u001b[0;34m\u001b[0m\u001b[0;34m\u001b[0m\u001b[0m\n\u001b[1;32m      4\u001b[0m \u001b[0msky_level_lsst_i\u001b[0m \u001b[0;34m=\u001b[0m \u001b[0;34m(\u001b[0m\u001b[0;36m2.512\u001b[0m \u001b[0;34m**\u001b[0m\u001b[0;34m(\u001b[0m\u001b[0;36m27.79\u001b[0m\u001b[0;34m-\u001b[0m\u001b[0;36m20.47\u001b[0m\u001b[0;34m)\u001b[0m\u001b[0;34m)\u001b[0m \u001b[0;34m*\u001b[0m \u001b[0mN_exposures_lsst\u001b[0m\u001b[0;34m[\u001b[0m\u001b[0;36m3\u001b[0m\u001b[0;34m]\u001b[0m \u001b[0;31m# in e-.s-1.arcsec_2\u001b[0m\u001b[0;34m\u001b[0m\u001b[0;34m\u001b[0m\u001b[0m\n\u001b[1;32m      5\u001b[0m \u001b[0msky_level_lsst_z\u001b[0m \u001b[0;34m=\u001b[0m \u001b[0;34m(\u001b[0m\u001b[0;36m2.512\u001b[0m \u001b[0;34m**\u001b[0m\u001b[0;34m(\u001b[0m\u001b[0;36m27.40\u001b[0m\u001b[0;34m-\u001b[0m\u001b[0;36m19.60\u001b[0m\u001b[0;34m)\u001b[0m\u001b[0;34m)\u001b[0m \u001b[0;34m*\u001b[0m \u001b[0mN_exposures_lsst\u001b[0m\u001b[0;34m[\u001b[0m\u001b[0;36m4\u001b[0m\u001b[0;34m]\u001b[0m \u001b[0;31m# in e-.s-1.arcsec_2\u001b[0m\u001b[0;34m\u001b[0m\u001b[0;34m\u001b[0m\u001b[0m\n",
      "\u001b[0;31mNameError\u001b[0m: name 'N_exposures_lsst' is not defined"
     ]
    }
   ],
   "source": [
    "sky_level_lsst_u = (2.512 **(26.50-22.95)) * N_exposures_lsst[0] # in e-.s-1.arcsec_2\n",
    "sky_level_lsst_g = (2.512 **(28.30-22.24)) * N_exposures_lsst[1] # in e-.s-1.arcsec_2\n",
    "sky_level_lsst_r = (2.512 **(28.13-21.20)) * N_exposures_lsst[2] # in e-.s-1.arcsec_2\n",
    "sky_level_lsst_i = (2.512 **(27.79-20.47)) * N_exposures_lsst[3] # in e-.s-1.arcsec_2\n",
    "sky_level_lsst_z = (2.512 **(27.40-19.60)) * N_exposures_lsst[4] # in e-.s-1.arcsec_2\n",
    "sky_level_lsst_y = (2.512 **(26.58-18.63)) * N_exposures_lsst[5] # in e-.s-1.arcsec_2"
   ]
  },
  {
   "cell_type": "markdown",
   "metadata": {},
   "source": [
    "## Generate image with GalSim"
   ]
  },
  {
   "cell_type": "code",
   "execution_count": 42,
   "metadata": {},
   "outputs": [],
   "source": [
    "# read in the LSST filters\n",
    "filters = {}\n",
    "lsst_filters_dir = '/pbs/home/b/barcelin/pbs_throng_link/image_generation_GalSim/data/share_galsim/bandpasses/'\n",
    "filter_names_lsst = 'ugrizy'\n",
    "for filter_name in filter_names_lsst:\n",
    "    filter_filename = os.path.join(lsst_filters_dir, 'LSST_{0}.dat'.format(filter_name))\n",
    "    filters[filter_name] = galsim.Bandpass(filter_filename, wave_type='nm')\n",
    "    filters[filter_name] = filters[filter_name].thin(rel_err=1e-4)"
   ]
  },
  {
   "cell_type": "code",
   "execution_count": 43,
   "metadata": {},
   "outputs": [
    {
     "data": {
      "text/plain": [
       "(array([141819]),)"
      ]
     },
     "execution_count": 43,
     "metadata": {},
     "output_type": "execute_result"
    }
   ],
   "source": [
    "np.where(truth_data['ellipticity_1_disk_true']==np.max(truth_data['ellipticity_1_disk_true']))"
   ]
  },
  {
   "cell_type": "code",
   "execution_count": 44,
   "metadata": {},
   "outputs": [],
   "source": [
    "galaxy_id =0\n",
    "idx = truth_i[galaxy_id]"
   ]
  },
  {
   "cell_type": "code",
   "execution_count": 45,
   "metadata": {},
   "outputs": [
    {
     "name": "stdout",
     "output_type": "stream",
     "text": [
      "58.51525938767673 69254250.0\n",
      "0.5813277 0.3078868\n",
      "0.39113380875021936 0.1183321\n",
      "1.7346269565363077\n",
      "-0.20270404373967688 -0.7316517289321683 -0.11685742745773711 -0.42179197445030253\n",
      "-0.18150010415566625 -0.6569626695333903\n",
      "-0.10463350835852599 -0.3787342673638655\n"
     ]
    }
   ],
   "source": [
    "#from demo4.py, demo3.py and demo11.py\n",
    "# Fix\n",
    "sky_level = 0              # ADU / arcsec^2\n",
    "pixel_scale = 0.2               # arcsec / pixel  (size units in input catalog are pixels)\n",
    "\n",
    "bulge_n = 4\n",
    "disk_n = 1\n",
    "\n",
    "rng = galsim.BaseDeviate(0)\n",
    "# Depends on galaxy\n",
    "gal_flux = object_data['r_FLUXMAG0'][truth_idx[idx]]*10**(-(truth_data['mag_true_r_lsst'][truth_idx[idx]])/2.5)#2.512 **(28.13-truth_data['mag_true_r_lsst'][truth_idx[idx]])#10**(truth_data['mag_true_r_lsst'][truth_idx[idx]]/2.5)#             # arbitrary choice, makes nice (not too) noisy images\n",
    "gal_g1 = -truth_data['shear_1'][truth_idx[idx]]              #\n",
    "gal_g2 = truth_data['shear_2'][truth_idx[idx]]               #\n",
    "\n",
    "print(gal_flux, truth_data['LSST_filters/totalLuminositiesStellar:LSST_r:observed'][truth_idx[idx]])\n",
    "# the fraction of flux in each component\n",
    "# 40% is in the bulge, 60% in a disk.  70% of that disk light is placed\n",
    "# into point sources distributed as a random walk\n",
    "\n",
    "bulge_frac       = truth_data['bulge_to_total_ratio_i'][truth_idx[idx]]\n",
    "disk_frac        = 1 - bulge_frac\n",
    "knot_frac        = 0.\n",
    "smooth_disk_frac = disk_frac - knot_frac\n",
    "\n",
    "disk_e1 = truth_data['ellipticity_1_disk_true'][truth_idx[idx]]\n",
    "disk_e2 = truth_data['ellipticity_2_disk_true'][truth_idx[idx]]\n",
    "bulge_e1 = truth_data['ellipticity_1_bulge_true'][truth_idx[idx]]\n",
    "bulge_e2 = truth_data['ellipticity_2_bulge_true'][truth_idx[idx]]\n",
    "\n",
    "disk_hlr = truth_data['size_disk_true'][truth_idx[idx]]\n",
    "bulge_hlr = truth_data['size_bulge_true'][truth_idx[idx]]\n",
    "print(disk_hlr, bulge_hlr)\n",
    "\n",
    "\n",
    "# number of knots of star formation.  To simulate a nice irregular (all the\n",
    "# flux is in knots) we find ~100 is a minimum number needed, but we will\n",
    "# just use 10 here to make the demo run fast.\n",
    "\n",
    "n_knots = 10\n",
    "\n",
    "xsize = 59  # pixels\n",
    "ysize = 59  # pixels\n",
    "\n",
    "# Create bulge + disk profiles\n",
    "bulge = galsim.Sersic(bulge_n, half_light_radius=bulge_hlr)\n",
    "disk = galsim.Sersic(disk_n, half_light_radius=disk_hlr)\n",
    "\n",
    "#smooth_disk = galsim.Exponential(flux=smooth_disk_frac, half_light_radius=disk_hlr)\n",
    "#knots = galsim.RandomKnots(n_knots, half_light_radius=disk_hlr, flux=knot_frac, rng=rng)\n",
    "ell_1 = np.array(test_data['e1'][galaxy_id])\n",
    "ell_2 = np.array(test_data['e2'][galaxy_id])\n",
    "shear_1 = np.array(test_data['shear_1'][galaxy_id])\n",
    "shear_2 = np.array(test_data['shear_2'][galaxy_id])\n",
    "convergence = np.array(test_data['convergence'][galaxy_id])\n",
    "\n",
    "ellipticity = calc_lensed_ellipticity(-ell_1, ell_2, shear_1, shear_2, convergence)\n",
    "ellipticity_conversion = lambda e: 2*e / (1.0+ellipticity*ellipticity)\n",
    "\n",
    "ellipticity_hsm = ellipticity_conversion(ellipticity)\n",
    "\n",
    "disk_1 = (ellipticity_hsm/ellipticity)*calc_lensed_ellipticity_1(-disk_e1, disk_e2, shear_1, shear_2, convergence)\n",
    "disk_2 = (ellipticity_hsm/ellipticity)*calc_lensed_ellipticity_2(-disk_e1, disk_e2, shear_1, shear_2, convergence)\n",
    "\n",
    "bulge_1 = (ellipticity_hsm/ellipticity)*calc_lensed_ellipticity_1(-bulge_e1, bulge_e2, shear_1, shear_2, convergence)\n",
    "bulge_2 = (ellipticity_hsm/ellipticity)*calc_lensed_ellipticity_2(-bulge_e1, bulge_e2, shear_1, shear_2, convergence)\n",
    "\n",
    "disk_12 = calc_lensed_ellipticity_1(-disk_e1, disk_e2, shear_1, shear_2, convergence)\n",
    "disk_22 = calc_lensed_ellipticity_2(-disk_e1, disk_e2, shear_1, shear_2, convergence)\n",
    "\n",
    "bulge_12 = calc_lensed_ellipticity_1(-bulge_e1, bulge_e2, shear_1, shear_2, convergence)\n",
    "bulge_22 = calc_lensed_ellipticity_2(-bulge_e1, bulge_e2, shear_1, shear_2, convergence)\n",
    "\n",
    "print(ellipticity, bulge_frac)\n",
    "print((ellipticity_hsm/ellipticity))\n",
    "print(disk_1,disk_2,disk_12,disk_22)\n",
    "print(disk_1*(1-bulge_frac)+bulge_frac*bulge_1, disk_2*(1-bulge_frac)+bulge_frac*bulge_2)\n",
    "print(disk_12*(1-bulge_frac)+bulge_frac*bulge_12, disk_22*(1-bulge_frac)+bulge_frac*bulge_22)\n",
    "#disk = galsim.Add([disk, knots])\n",
    "\n",
    "gal = bulge_frac * bulge + (1-bulge_frac) * disk\n",
    "\n",
    "gal = gal.withFlux(gal_flux)\n",
    "gal = gal.shear(e1=disk_1*(1-bulge_frac)+bulge_frac*bulge_1, e2=disk_2*(1-bulge_frac)+bulge_frac*bulge_2)\n",
    "\n",
    "# convolve with the PSF\n",
    "psf_i = galsim.Image(psf_img[galaxy_id,:,:,2].copy())\n",
    "interp = 'linear'#'lanczos15'\n",
    "psf_int = galsim.InterpolatedImage(psf_i,x_interpolant= interp, scale = 0.2)#x_interpolant= interp,\n",
    "\n",
    "final = galsim.Convolve([psf_int, gal])"
   ]
  },
  {
   "cell_type": "code",
   "execution_count": 46,
   "metadata": {},
   "outputs": [],
   "source": [
    "# read in SEDs\n",
    "datapath = '/pbs/home/b/barcelin/pbs_throng_link/image_generation_GalSim/data/share_galsim/'\n",
    "SED_names = ['CWW_E_ext', 'CWW_Sbc_ext', 'CWW_Scd_ext', 'CWW_Im_ext']\n",
    "SEDs = {}\n",
    "for SED_name in SED_names:\n",
    "    SED_filename = os.path.join(datapath, 'SEDs/{0}.sed'.format(SED_name))\n",
    "    # Here we create some galsim.SED objects to hold star or galaxy spectra.  The most\n",
    "    # convenient way to create realistic spectra is to read them in from a two-column ASCII\n",
    "    # file, where the first column is wavelength and the second column is flux. Wavelengths in\n",
    "    # the example SED files are in Angstroms, flux in flambda.  We use a set of files that are\n",
    "    # distributed with GalSim in the share/ directory.\n",
    "    SED = galsim.SED(SED_filename, wave_type='Ang', flux_type='flambda')\n",
    "    # The normalization of SEDs affects how many photons are eventually drawn into an image.\n",
    "    # One way to control this normalization is to specify the flux density in photons per nm\n",
    "    # at a particular wavelength.  For example, here we normalize such that the photon density\n",
    "    # is 1 photon per nm at 500 nm.\n",
    "    SEDs[SED_name] = SED.withFluxDensity(target_flux_density=1.0, wavelength=500)"
   ]
  },
  {
   "cell_type": "code",
   "execution_count": 47,
   "metadata": {},
   "outputs": [
    {
     "name": "stdout",
     "output_type": "stream",
     "text": [
      "0.5813277 0.3078868\n",
      "0.39113380875021936 0.1183321\n",
      "1.7346269565363077\n",
      "-0.20270404373967688 -0.7316517289321683 -0.11685742745773711 -0.42179197445030253\n",
      "-0.18150010415566625 -0.6569626695333903\n",
      "-0.10463350835852599 -0.3787342673638655\n",
      "galsim.InterpolatedImage(image=galsim.Image(bounds=galsim.BoundsI(-29,29,-29,29), scale=0.2, dtype=numpy.float64), flux=0.9999999999999998)\n",
      "galsim.InterpolatedImage(image=galsim.Image(bounds=galsim.BoundsI(-29,29,-29,29), scale=0.2, dtype=numpy.float64), flux=0.9999999999999998)\n",
      "galsim.SED(galsim.LookupTable(x=[91.0,...,22050.0], f=[1.0089327221840363e-15,...,1.904247334892575e-14], interpolant='linear'), redshift=0.5550241470336914)\n",
      "galsim.ChromaticConvolution([galsim.InterpolatedImage(image=galsim.Image(bounds=galsim.BoundsI(-29,29,-29,29), scale=0.2, dtype=numpy.float64), flux=0.9999999999999998), (galsim.Sersic(n=4.0, half_light_radius=0.3078868091106415) * 0.11833210289478302 + galsim.Sersic(n=1.0, half_light_radius=0.5813276767730713) * 0.881667897105217).shear(galsim.Shear(g1=-0.10463350835852592,g2=-0.37873426736386556)).shift(0.0,0.0).withScaledFlux(galsim.SED(galsim.LookupTable(x=[91.0,...,22050.0], f=[1.0089327221840363e-15,...,1.904247334892575e-14], interpolant='linear'), redshift=0.5550241470336914))])\n"
     ]
    }
   ],
   "source": [
    "sky_level = 0              # ADU / arcsec^2\n",
    "pixel_scale = 0.2               # arcsec / pixel  (size units in input catalog are pixels)\n",
    "\n",
    "bulge_n = 4\n",
    "disk_n = 1\n",
    "\n",
    "rng = galsim.BaseDeviate(0)\n",
    "# Depends on galaxy\n",
    "gal_flux = 10**(-(truth_data['mag_true_r_lsst'][truth_idx[idx]]-31.4)/2.5)#(2.512 **(28.13-truth_data['mag_true_r_lsst'][truth_idx[idx]]))\n",
    "gal_g1 = -truth_data['shear_1'][truth_idx[idx]]              #\n",
    "gal_g2 = truth_data['shear_2'][truth_idx[idx]]               #\n",
    "\n",
    "# the fraction of flux in each component\n",
    "bulge_frac       = truth_data['bulge_to_total_ratio_i'][truth_idx[idx]]\n",
    "disk_frac        = 1 - bulge_frac\n",
    "knot_frac        = 0.\n",
    "smooth_disk_frac = disk_frac - knot_frac\n",
    "\n",
    "disk_e1 = truth_data['ellipticity_1_disk_true'][truth_idx[idx]]\n",
    "disk_e2 = truth_data['ellipticity_2_disk_true'][truth_idx[idx]]\n",
    "bulge_e1 = truth_data['ellipticity_1_bulge_true'][truth_idx[idx]]\n",
    "bulge_e2 = truth_data['ellipticity_2_bulge_true'][truth_idx[idx]]\n",
    "\n",
    "disk_hlr = truth_data['size_disk_true'][truth_idx[idx]]\n",
    "bulge_hlr = truth_data['size_bulge_true'][truth_idx[idx]]\n",
    "print(disk_hlr,bulge_hlr)\n",
    "\n",
    "# number of knots of star formation.  To simulate a nice irregular (all the\n",
    "# flux is in knots) we find ~100 is a minimum number needed, but we will\n",
    "# just use 10 here to make the demo run fast.\n",
    "\n",
    "n_knots = 10\n",
    "\n",
    "xsize = 59  # pixels\n",
    "ysize = 59  # pixels\n",
    "\n",
    "# Create bulge + disk profiles\n",
    "bulge = galsim.Sersic(bulge_n, half_light_radius=bulge_hlr)\n",
    "disk = galsim.Sersic(disk_n, half_light_radius=disk_hlr)\n",
    "\n",
    "#smooth_disk = galsim.Exponential(flux=smooth_disk_frac, half_light_radius=disk_hlr)\n",
    "#knots = galsim.RandomKnots(n_knots, half_light_radius=disk_hlr, flux=knot_frac, rng=rng)\n",
    "ell_1 = np.array(test_data['e1'][galaxy_id])\n",
    "ell_2 = np.array(test_data['e2'][galaxy_id])\n",
    "shear_1 = np.array(test_data['shear_1'][galaxy_id])\n",
    "shear_2 = np.array(test_data['shear_2'][galaxy_id])\n",
    "convergence = np.array(test_data['convergence'][galaxy_id])\n",
    "\n",
    "ellipticity = calc_lensed_ellipticity(-ell_1, ell_2, shear_1, shear_2, convergence)\n",
    "ellipticity_conversion = lambda e: 2*e / (1.0+ellipticity*ellipticity)\n",
    "\n",
    "ellipticity_hsm = ellipticity_conversion(ellipticity)\n",
    "\n",
    "disk_1 = (ellipticity_hsm/ellipticity)*calc_lensed_ellipticity_1(-disk_e1, disk_e2, shear_1, shear_2, convergence)\n",
    "disk_2 = (ellipticity_hsm/ellipticity)*calc_lensed_ellipticity_2(-disk_e1, disk_e2, shear_1, shear_2, convergence)\n",
    "\n",
    "bulge_1 = (ellipticity_hsm/ellipticity)*calc_lensed_ellipticity_1(-bulge_e1, bulge_e2, shear_1, shear_2, convergence)\n",
    "bulge_2 = (ellipticity_hsm/ellipticity)*calc_lensed_ellipticity_2(-bulge_e1, bulge_e2, shear_1, shear_2, convergence)\n",
    "\n",
    "disk_12 = calc_lensed_ellipticity_1(-disk_e1, disk_e2, shear_1, shear_2, convergence)\n",
    "disk_22 = calc_lensed_ellipticity_2(-disk_e1, disk_e2, shear_1, shear_2, convergence)\n",
    "\n",
    "bulge_12 = calc_lensed_ellipticity_1(-bulge_e1, bulge_e2, shear_1, shear_2, convergence)\n",
    "bulge_22 = calc_lensed_ellipticity_2(-bulge_e1, bulge_e2, shear_1, shear_2, convergence)\n",
    "\n",
    "print(ellipticity, bulge_frac)\n",
    "print((ellipticity_hsm/ellipticity))\n",
    "print(disk_1,disk_2,disk_12,disk_22)\n",
    "print(disk_1*(1-bulge_frac)+bulge_frac*bulge_1, disk_2*(1-bulge_frac)+bulge_frac*bulge_2)\n",
    "print(disk_12*(1-bulge_frac)+bulge_frac*bulge_12, disk_22*(1-bulge_frac)+bulge_frac*bulge_22)\n",
    "#disk = galsim.Add([disk, knots])\n",
    "\n",
    "gal = bulge_frac * bulge + (1-bulge_frac) * disk\n",
    "#gal = gal.withFlux(gal_flux)\n",
    "gal = gal.shear(g1=disk_12*(1-bulge_frac)+bulge_frac*bulge_12, g2=disk_22*(1-bulge_frac)+bulge_frac*bulge_22)\n",
    "\n",
    "# convolve with the PSF\n",
    "psf_i = galsim.Image(psf_img[galaxy_id,:,:,2].copy())\n",
    "interp = 'linear'#'lanczos15'\n",
    "psf_int = galsim.InterpolatedImage(psf_i,x_interpolant= interp, scale = 0.2)#\n",
    "print(psf_int)\n",
    "#psf_int = galsim.ChromaticObject(psf_int)\n",
    "print(psf_int)\n",
    "\n",
    "SED = SEDs['CWW_Im_ext'].atRedshift(truth_data['redshift_true'][truth_idx[idx]])\n",
    "gal = gal * SED\n",
    "print(SED)\n",
    "#gal = galsim.ChromaticObject(gal)\n",
    "#final_2 = galsim.ChromaticConvolution.Convolve([psf_int, gal])\n",
    "\n",
    "final_2 = galsim.Convolve([psf_int, gal])\n",
    "print(final_2)"
   ]
  },
  {
   "cell_type": "code",
   "execution_count": 48,
   "metadata": {},
   "outputs": [
    {
     "name": "stdout",
     "output_type": "stream",
     "text": [
      "Ellipticity: -0.18072651633781117,-0.6539580728323495 reduced shear: -0.10418754052956997,-0.37700213891416107\n",
      "Ellipticity: -0.18072651633781117,-0.6539580728323495 reduced shear: -0.10418754052956997,-0.37700213891416107\n"
     ]
    }
   ],
   "source": [
    "ell_1 = np.array(test_data['e1'][galaxy_id])\n",
    "ell_2 = np.array(test_data['e2'][galaxy_id])\n",
    "shear_1 = np.array(test_data['shear_1'][galaxy_id])\n",
    "shear_2 = np.array(test_data['shear_2'][galaxy_id])\n",
    "convergence = np.array(test_data['convergence'][galaxy_id])\n",
    "\n",
    "ellipticity = calc_lensed_ellipticity(-ell_1, ell_2, shear_1, shear_2, convergence)\n",
    "ellipticity_conversion = lambda e: 2*e / (1.0+ellipticity*ellipticity)\n",
    "\n",
    "ellipticity_hsm = ellipticity_conversion(ellipticity)\n",
    "\n",
    "e_1 = (ellipticity_hsm/ellipticity)*calc_lensed_ellipticity_1(-ell_1, ell_2, shear_1, shear_2, convergence)\n",
    "e_2 = (ellipticity_hsm/ellipticity)*calc_lensed_ellipticity_2(-ell_1, ell_2, shear_1, shear_2, convergence)\n",
    "\n",
    "print('Ellipticity: '+str(e_1)+','+str(e_2)+' reduced shear: '+str(calc_lensed_ellipticity_1(-ell_1, ell_2, shear_1, shear_2, convergence))+','+str(calc_lensed_ellipticity_2(-ell_1, ell_2, shear_1, shear_2, convergence)))\n",
    "\n",
    "e_1 = ellipticity_conversion(calc_lensed_ellipticity_1(-ell_1, ell_2, shear_1, shear_2, convergence))\n",
    "e_2 = ellipticity_conversion(calc_lensed_ellipticity_2(-ell_1, ell_2, shear_1, shear_2, convergence))\n",
    "\n",
    "print('Ellipticity: '+str(e_1)+','+str(e_2)+' reduced shear: '+str(calc_lensed_ellipticity_1(-ell_1, ell_2, shear_1, shear_2, convergence))+','+str(calc_lensed_ellipticity_2(-ell_1, ell_2, shear_1, shear_2, convergence)))\n"
   ]
  },
  {
   "cell_type": "code",
   "execution_count": 49,
   "metadata": {},
   "outputs": [],
   "source": [
    "image = galsim.ImageF(xsize, ysize, scale=0.2)\n",
    "_ = final.drawImage(image=image)"
   ]
  },
  {
   "cell_type": "code",
   "execution_count": 50,
   "metadata": {},
   "outputs": [],
   "source": [
    "image_2 = galsim.ImageF(xsize, ysize, scale=0.2)\n",
    "_ = final_2.drawImage(filters['r'], image=image_2)"
   ]
  },
  {
   "cell_type": "code",
   "execution_count": 51,
   "metadata": {},
   "outputs": [
    {
     "data": {
      "text/plain": [
       "34.313816"
      ]
     },
     "execution_count": 51,
     "metadata": {},
     "output_type": "execute_result"
    }
   ],
   "source": [
    "np.sum(image_2.array.data)"
   ]
  },
  {
   "cell_type": "code",
   "execution_count": 52,
   "metadata": {},
   "outputs": [
    {
     "data": {
      "text/plain": [
       "-3.838672637939453"
      ]
     },
     "execution_count": 52,
     "metadata": {},
     "output_type": "execute_result"
    }
   ],
   "source": [
    "-2.5*np.log10(np.sum(image_2.array.data))"
   ]
  },
  {
   "cell_type": "code",
   "execution_count": 53,
   "metadata": {},
   "outputs": [
    {
     "data": {
      "text/plain": [
       "-20.63632"
      ]
     },
     "execution_count": 53,
     "metadata": {},
     "output_type": "execute_result"
    }
   ],
   "source": [
    "truth_data['Mag_true_r_lsst_z0'][truth_idx[idx]]"
   ]
  },
  {
   "cell_type": "code",
   "execution_count": 54,
   "metadata": {},
   "outputs": [
    {
     "data": {
      "text/plain": [
       "22.581827"
      ]
     },
     "execution_count": 54,
     "metadata": {},
     "output_type": "execute_result"
    }
   ],
   "source": [
    "truth_data['mag_true_r_lsst'][truth_idx[idx]]"
   ]
  },
  {
   "cell_type": "code",
   "execution_count": 55,
   "metadata": {},
   "outputs": [
    {
     "data": {
      "text/plain": [
       "22.562442468707506"
      ]
     },
     "execution_count": 55,
     "metadata": {},
     "output_type": "execute_result"
    }
   ],
   "source": [
    "truth_data['mag_r_lsst'][truth_idx[idx]]"
   ]
  },
  {
   "cell_type": "code",
   "execution_count": 56,
   "metadata": {},
   "outputs": [
    {
     "data": {
      "text/plain": [
       "0.5963057800496724"
      ]
     },
     "execution_count": 56,
     "metadata": {},
     "output_type": "execute_result"
    }
   ],
   "source": [
    "object_data['r_FLUXMAG0'][truth_idx[idx]]*np.sum(image_2.array.data)*10**(-31.4/2.5)"
   ]
  },
  {
   "cell_type": "code",
   "execution_count": 57,
   "metadata": {},
   "outputs": [
    {
     "data": {
      "text/plain": [
       "<matplotlib.colorbar.Colorbar at 0x7f509dc4e790>"
      ]
     },
     "execution_count": 57,
     "metadata": {},
     "output_type": "execute_result"
    },
    {
     "data": {
      "image/png": "[encoded data removed]",
      "text/plain": [
       "<Figure size 1440x288 with 10 Axes>"
      ]
     },
     "metadata": {
      "image/png": {
       "height": 234,
       "width": 1155
      },
      "needs_background": "light"
     },
     "output_type": "display_data"
    }
   ],
   "source": [
    "fig, axes = plt.subplots(1,5, figsize =(20,4))\n",
    "\n",
    "fi1 = axes[0].imshow(image.array.data)\n",
    "fi2 = axes[1].imshow(gal_img[galaxy_id,:,:,2])\n",
    "fi3 = axes[2].imshow(gal_img[galaxy_id,:,:,2]-image.array.data)#*np.max(gal_img[galaxy_id,26:32,26:32,2])/np.max(image.array.data))\n",
    "fi4 = axes[3].imshow(gal_img[galaxy_id,:,:,2]-image_2.array.data*np.max(gal_img[galaxy_id,26:32,26:32,2])/np.max(image_2.array.data))\n",
    "fi5 = axes[4].imshow(image_2.array.data)\n",
    "\n",
    "fig.colorbar(fi1, ax=axes[0])\n",
    "fig.colorbar(fi2, ax=axes[1])\n",
    "fig.colorbar(fi3, ax=axes[2])\n",
    "fig.colorbar(fi4, ax=axes[3])\n",
    "fig.colorbar(fi5, ax=axes[4])"
   ]
  },
  {
   "cell_type": "code",
   "execution_count": 1422,
   "metadata": {},
   "outputs": [
    {
     "data": {
      "text/plain": [
       "1.0627108272923622"
      ]
     },
     "execution_count": 1422,
     "metadata": {},
     "output_type": "execute_result"
    }
   ],
   "source": [
    "np.max(gal_img[galaxy_id,26:32,26:32,2])/np.max(image.array.data)"
   ]
  },
  {
   "cell_type": "code",
   "execution_count": 1423,
   "metadata": {},
   "outputs": [
    {
     "data": {
      "text/plain": [
       "(array([29]), array([29]))"
      ]
     },
     "execution_count": 1423,
     "metadata": {},
     "output_type": "execute_result"
    }
   ],
   "source": [
    "np.where(gal_img[galaxy_id,:,:,2]==np.max(gal_img[galaxy_id,:,:,2]))"
   ]
  },
  {
   "cell_type": "code",
   "execution_count": 1424,
   "metadata": {},
   "outputs": [
    {
     "data": {
      "text/plain": [
       "(array([29]), array([29]))"
      ]
     },
     "execution_count": 1424,
     "metadata": {},
     "output_type": "execute_result"
    }
   ],
   "source": [
    "np.where(img_reduced_shear==np.max(img_reduced_shear))"
   ]
  },
  {
   "cell_type": "markdown",
   "metadata": {},
   "source": [
    "### Faire mesure d'ellitpicité et reduced shear avec HSM et voir laquelle des deux est la plus proche des valeurs vraies."
   ]
  },
  {
   "cell_type": "code",
   "execution_count": 1425,
   "metadata": {},
   "outputs": [],
   "source": [
    "img_reduced_shear = np.zeros((59,59))\n",
    "img_ellipticity = np.zeros((59,59))\n",
    "\n",
    "img_reduced_shear = image_2.array.data*np.max(gal_img[galaxy_id,26:32,26:32,2])/np.max(image_2.array.data)\n",
    "img_ellipticity = image.array.data*np.max(gal_img[galaxy_id,26:32,26:32,2])/np.max(image.array.data)"
   ]
  },
  {
   "cell_type": "code",
   "execution_count": 1426,
   "metadata": {},
   "outputs": [
    {
     "data": {
      "text/plain": [
       "(0.52502704, 0.8940246, 0.95008963, 0.95008963)"
      ]
     },
     "execution_count": 1426,
     "metadata": {},
     "output_type": "execute_result"
    }
   ],
   "source": [
    "np.max(image_2.array.data),np.max(image.array.data), np.max(img_ellipticity), np.max(img_reduced_shear)"
   ]
  },
  {
   "cell_type": "code",
   "execution_count": 1317,
   "metadata": {},
   "outputs": [
    {
     "data": {
      "text/plain": [
       "<matplotlib.colorbar.Colorbar at 0x7fc0eb0939d0>"
      ]
     },
     "execution_count": 1317,
     "metadata": {},
     "output_type": "execute_result"
    },
    {
     "data": {
      "image/png": "[encoded data removed]",
      "text/plain": [
       "<Figure size 432x288 with 2 Axes>"
      ]
     },
     "metadata": {
      "image/png": {
       "height": 251,
       "width": 335
      },
      "needs_background": "light"
     },
     "output_type": "display_data"
    }
   ],
   "source": [
    "plt.imshow(img_reduced_shear-img_ellipticity)\n",
    "plt.colorbar()"
   ]
  },
  {
   "cell_type": "code",
   "execution_count": 1259,
   "metadata": {},
   "outputs": [
    {
     "name": "stdout",
     "output_type": "stream",
     "text": [
      "KSB: [-0.018651332706212997, 0.0436469241976738]\n",
      "REGAUSS: [-0.042602598667144775, 0.09759067744016647]\n",
      "LINEAR: [-0.014036624692380428, 0.04148650914430618]\n",
      "BJ: [-0.031603939831256866, 0.07582530379295349]\n"
     ]
    }
   ],
   "source": [
    "gal_image_out = galsim.Image(img_reduced_shear)\n",
    "gal_image_out.scale = 0.2\n",
    "\n",
    "shear_est = 'KSB'\n",
    "res_out = galsim.hsm.EstimateShear(gal_image_out, psf_i, shear_est=shear_est, strict=True)\n",
    "print('KSB: '+str([res_out.corrected_g1, res_out.corrected_g2]))\n",
    "\n",
    "shear_est = 'REGAUSS'\n",
    "res_out = galsim.hsm.EstimateShear(gal_image_out, psf_i, shear_est=shear_est, strict=True)\n",
    "print('REGAUSS: '+str([res_out.corrected_e1, res_out.corrected_e2]))\n",
    "\n",
    "shear_est = 'LINEAR'\n",
    "res_out = galsim.hsm.EstimateShear(gal_image_out, psf_i, shear_est=shear_est, strict=True)\n",
    "print('LINEAR: '+str([res_out.corrected_e1, res_out.corrected_e2]))\n",
    "\n",
    "shear_est = 'BJ'\n",
    "res_out = galsim.hsm.EstimateShear(gal_image_out, psf_i, shear_est=shear_est, strict=True)\n",
    "print('BJ: '+str([res_out.corrected_e1, res_out.corrected_e2]))"
   ]
  },
  {
   "cell_type": "code",
   "execution_count": 520,
   "metadata": {},
   "outputs": [
    {
     "name": "stdout",
     "output_type": "stream",
     "text": [
      "KSB: [-0.26502788066864014, -0.9532274603843689]\n",
      "REGAUSS: [-0.2909577190876007, -1.0309200286865234]\n",
      "LINEAR: [-0.37928247451782227, -1.3273707628250122]\n",
      "BJ: [-0.2566581964492798, -0.909518837928772]\n"
     ]
    }
   ],
   "source": [
    "gal_image_out = galsim.Image(img_ellipticity)\n",
    "gal_image_out.scale = 0.2\n",
    "\n",
    "shear_est = 'KSB'\n",
    "res_out = galsim.hsm.EstimateShear(gal_image_out, psf_i, shear_est=shear_est, strict=True)\n",
    "print('KSB: '+str([res_out.corrected_g1, res_out.corrected_g2]))\n",
    "\n",
    "shear_est = 'REGAUSS'\n",
    "res_out = galsim.hsm.EstimateShear(gal_image_out, psf_i, shear_est=shear_est, strict=True)\n",
    "print('REGAUSS: '+str([res_out.corrected_e1, res_out.corrected_e2]))\n",
    "\n",
    "shear_est = 'LINEAR'\n",
    "res_out = galsim.hsm.EstimateShear(gal_image_out, psf_i, shear_est=shear_est, strict=True)\n",
    "print('LINEAR: '+str([res_out.corrected_e1, res_out.corrected_e2]))\n",
    "\n",
    "shear_est = 'BJ'\n",
    "res_out = galsim.hsm.EstimateShear(gal_image_out, psf_i, shear_est=shear_est, strict=True)\n",
    "print('BJ: '+str([res_out.corrected_e1, res_out.corrected_e2]))"
   ]
  },
  {
   "cell_type": "markdown",
   "metadata": {},
   "source": [
    "True ellipticity:"
   ]
  },
  {
   "cell_type": "code",
   "execution_count": 496,
   "metadata": {},
   "outputs": [
    {
     "name": "stdout",
     "output_type": "stream",
     "text": [
      "Ellipticity: -0.18072651633781117,-0.6539580728323495 reduced shear: -0.10418754052956997,-0.37700213891416107\n"
     ]
    }
   ],
   "source": [
    "ell_1 = np.array(test_data['e1'][galaxy_id])\n",
    "ell_2 = np.array(test_data['e2'][galaxy_id])\n",
    "shear_1 = np.array(test_data['shear_1'][galaxy_id])\n",
    "shear_2 = np.array(test_data['shear_2'][galaxy_id])\n",
    "convergence = np.array(test_data['convergence'][galaxy_id])\n",
    "\n",
    "ellipticity = calc_lensed_ellipticity(-ell_1, ell_2, shear_1, shear_2, convergence)\n",
    "ellipticity_conversion = lambda e: 2*e / (1.0+ellipticity*ellipticity)\n",
    "\n",
    "ellipticity_hsm = ellipticity_conversion(ellipticity)\n",
    "\n",
    "e_1 = (ellipticity_hsm/ellipticity)*calc_lensed_ellipticity_1(-ell_1, ell_2, shear_1, shear_2, convergence)\n",
    "e_2 = (ellipticity_hsm/ellipticity)*calc_lensed_ellipticity_2(-ell_1, ell_2, shear_1, shear_2, convergence)\n",
    "\n",
    "print('Ellipticity: '+str(e_1)+','+str(e_2)+' reduced shear: '+str(calc_lensed_ellipticity_1(-ell_1, ell_2, shear_1, shear_2, convergence))+','+str(calc_lensed_ellipticity_2(-ell_1, ell_2, shear_1, shear_2, convergence)))"
   ]
  },
  {
   "cell_type": "code",
   "execution_count": null,
   "metadata": {},
   "outputs": [],
   "source": []
  },
  {
   "cell_type": "code",
   "execution_count": null,
   "metadata": {},
   "outputs": [],
   "source": []
  },
  {
   "cell_type": "markdown",
   "metadata": {},
   "source": [
    "## Plot img with DM"
   ]
  },
  {
   "cell_type": "code",
   "execution_count": 214,
   "metadata": {},
   "outputs": [
    {
     "data": {
      "image/png": "[encoded data removed]",
      "text/plain": [
       "<Figure size 432x288 with 2 Axes>"
      ]
     },
     "metadata": {
      "image/png": {
       "height": 263,
       "width": 308
      },
      "needs_background": "light"
     },
     "output_type": "display_data"
    },
    {
     "data": {
      "image/png": "[encoded data removed]",
      "text/plain": [
       "<Figure size 432x288 with 2 Axes>"
      ]
     },
     "metadata": {
      "image/png": {
       "height": 263,
       "width": 302
      },
      "needs_background": "light"
     },
     "output_type": "display_data"
    },
    {
     "data": {
      "image/png": "[encoded data removed]",
      "text/plain": [
       "<Figure size 432x288 with 2 Axes>"
      ]
     },
     "metadata": {
      "image/png": {
       "height": 263,
       "width": 316
      },
      "needs_background": "light"
     },
     "output_type": "display_data"
    }
   ],
   "source": [
    "id_ra_dec = Table.from_pandas(pd.DataFrame.from_dict(object_data))\n",
    "\n",
    "first = id_ra_dec[object_idx[idx]]\n",
    "ra, dec = first['ra'], first['dec']\n",
    "\n",
    "cutouts=[cutout_img_dc2.make_cutout_image(butler, ra, dec, filter=band, label=\"Object ID: %d\" % truth_data['galaxy_id'][truth_idx[idx]]) for band in \"irg\"]\n",
    "img = rgb.makeRGB(*cutouts)"
   ]
  },
  {
   "cell_type": "code",
   "execution_count": 203,
   "metadata": {},
   "outputs": [
    {
     "data": {
      "text/plain": [
       "<matplotlib.image.AxesImage at 0x7fc13dabea90>"
      ]
     },
     "execution_count": 203,
     "metadata": {},
     "output_type": "execute_result"
    },
    {
     "data": {
      "image/png": "[encoded data removed]",
      "text/plain": [
       "<Figure size 1080x288 with 3 Axes>"
      ]
     },
     "metadata": {
      "image/png": {
       "height": 250,
       "width": 842
      },
      "needs_background": "light"
     },
     "output_type": "display_data"
    }
   ],
   "source": [
    "fig, axes = plt.subplots(1,3, figsize = (15,4))\n",
    "axes[0].imshow(cutouts[1].image.array)\n",
    "axes[1].imshow(gal_img[galaxy_id,:,:,2])\n",
    "axes[2].imshow(cutouts[1].image.array-gal_img[galaxy_id,:,:,2])"
   ]
  },
  {
   "cell_type": "code",
   "execution_count": 196,
   "metadata": {},
   "outputs": [
    {
     "data": {
      "text/plain": [
       "<matplotlib.image.AxesImage at 0x7fc17551b950>"
      ]
     },
     "execution_count": 196,
     "metadata": {},
     "output_type": "execute_result"
    },
    {
     "data": {
      "image/png": "[encoded data removed]",
      "text/plain": [
       "<Figure size 432x288 with 1 Axes>"
      ]
     },
     "metadata": {
      "image/png": {
       "height": 250,
       "width": 251
      },
      "needs_background": "light"
     },
     "output_type": "display_data"
    }
   ],
   "source": [
    "plt.imshow(img)"
   ]
  },
  {
   "cell_type": "code",
   "execution_count": null,
   "metadata": {},
   "outputs": [],
   "source": []
  },
  {
   "cell_type": "markdown",
   "metadata": {},
   "source": []
  }
 ],
 "metadata": {
  "kernelspec": {
   "display_name": "lsst",
   "language": "python",
   "name": "jupyter_lsst"
  },
  "language_info": {
   "codemirror_mode": {
    "name": "ipython",
    "version": 3
   },
   "file_extension": ".py",
   "mimetype": "text/x-python",
   "name": "python",
   "nbconvert_exporter": "python",
   "pygments_lexer": "ipython3",
   "version": "3.7.6"
  }
 },
 "nbformat": 4,
 "nbformat_minor": 4
}
